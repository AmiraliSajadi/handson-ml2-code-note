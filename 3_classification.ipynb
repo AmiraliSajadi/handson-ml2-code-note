{
  "nbformat": 4,
  "nbformat_minor": 0,
  "metadata": {
    "colab": {
      "name": "3_classification.ipynb",
      "provenance": [],
      "collapsed_sections": [],
      "authorship_tag": "ABX9TyMcRj3pI8h1mpSBeNBG3t3k"
    },
    "kernelspec": {
      "name": "python3",
      "display_name": "Python 3"
    },
    "language_info": {
      "name": "python"
    }
  },
  "cells": [
    {
      "cell_type": "markdown",
      "metadata": {
        "id": "bWVOfqQ1z4mf"
      },
      "source": [
        "# Chapter 3 - Classification\n",
        "In the previous notebook we performed a regression task.</br> In this notebook we will use MNIST dataset to perform classification.\n"
      ]
    },
    {
      "cell_type": "markdown",
      "metadata": {
        "id": "vgT89wr0xPdm"
      },
      "source": [
        "## Setup\n",
        "Going through the initial setup as usual (most common imports, matplotlib setting, save_fig function)."
      ]
    },
    {
      "cell_type": "code",
      "metadata": {
        "id": "Axwn-GtRotDw"
      },
      "source": [
        "import pandas as pd\n",
        "import sklearn\n",
        "import numpy as np\n",
        "import os\n",
        "\n",
        "# To make this notebook's output stable across all runs\n",
        "np.random.seed(42)\n",
        "\n",
        "%matplotlib inline\n",
        "import matplotlib as mpl\n",
        "import matplotlib.pyplot as plt\n",
        "# To set overall parameters for all the matplot figures\n",
        "mpl.rc(\"axes\", labelsize=14)\n",
        "mpl.rc(\"xtick\", labelsize=12)\n",
        "mpl.rc(\"ytick\", labelsize=12)\n",
        "\n",
        "PROJECT_ROOT_DIR = \".\"\n",
        "CHAPTER_ID = \"classification\"\n",
        "IMAGES_PATH = os.path.join(PROJECT_ROOT_DIR, \"images\", CHAPTER_ID)\n",
        "os.makedirs(IMAGES_PATH, exist_ok=True)\n",
        "\n",
        "def save_fig(fig_id, tight_layout=True, fig_extension=\"png\", resolution=300):\n",
        "  \"\"\" Save the given figure with these general parameters\n",
        "  in the correct directory\"\"\"\n",
        "\n",
        "  path = os.path.join(IMAGES_PATH, fig_id + \".\" + fig_extension)\n",
        "  print(\"Saving figure \" + fig_id)\n",
        "  if tight_layout:\n",
        "    plt.tight_layout()\n",
        "  plt.savefig(path, format=fig_extension, dpi=resolution)"
      ],
      "execution_count": 1,
      "outputs": []
    },
    {
      "cell_type": "markdown",
      "metadata": {
        "id": "pMcwN8Hey0HV"
      },
      "source": [
        "## MNIST\n",
        "MNIST is a data set of handwritten digits (0-9) and their corresponding labels.</br>Scikit-Learn has helper functions to download popular datasets, including MNIST. Newer versions return DataFrames but since we don't use that in this noteboook so we set *as_frame* to False."
      ]
    },
    {
      "cell_type": "code",
      "metadata": {
        "id": "I4xfFrHvw30v"
      },
      "source": [
        "from sklearn.datasets import fetch_openml\n",
        "mnist = fetch_openml('mnist_784', version=1, as_frame=False)\n",
        "mnist.keys()"
      ],
      "execution_count": null,
      "outputs": []
    },
    {
      "cell_type": "markdown",
      "metadata": {
        "id": "KObA8MU-5Gn8"
      },
      "source": [
        "Many different columns."
      ]
    },
    {
      "cell_type": "code",
      "metadata": {
        "colab": {
          "base_uri": "https://localhost:8080/",
          "height": 109
        },
        "id": "sGfzB-fF1R4s",
        "outputId": "a751d401-9941-4b73-a825-0e1c1f57e7b7"
      },
      "source": [
        "mnist[\"DESCR\"]"
      ],
      "execution_count": null,
      "outputs": [
        {
          "output_type": "execute_result",
          "data": {
            "application/vnd.google.colaboratory.intrinsic+json": {
              "type": "string"
            },
            "text/plain": [
              "\"**Author**: Yann LeCun, Corinna Cortes, Christopher J.C. Burges  \\n**Source**: [MNIST Website](http://yann.lecun.com/exdb/mnist/) - Date unknown  \\n**Please cite**:  \\n\\nThe MNIST database of handwritten digits with 784 features, raw data available at: http://yann.lecun.com/exdb/mnist/. It can be split in a training set of the first 60,000 examples, and a test set of 10,000 examples  \\n\\nIt is a subset of a larger set available from NIST. The digits have been size-normalized and centered in a fixed-size image. It is a good database for people who want to try learning techniques and pattern recognition methods on real-world data while spending minimal efforts on preprocessing and formatting. The original black and white (bilevel) images from NIST were size normalized to fit in a 20x20 pixel box while preserving their aspect ratio. The resulting images contain grey levels as a result of the anti-aliasing technique used by the normalization algorithm. the images were centered in a 28x28 image by computing the center of mass of the pixels, and translating the image so as to position this point at the center of the 28x28 field.  \\n\\nWith some classification methods (particularly template-based methods, such as SVM and K-nearest neighbors), the error rate improves when the digits are centered by bounding box rather than center of mass. If you do this kind of pre-processing, you should report it in your publications. The MNIST database was constructed from NIST's NIST originally designated SD-3 as their training set and SD-1 as their test set. However, SD-3 is much cleaner and easier to recognize than SD-1. The reason for this can be found on the fact that SD-3 was collected among Census Bureau employees, while SD-1 was collected among high-school students. Drawing sensible conclusions from learning experiments requires that the result be independent of the choice of training set and test among the complete set of samples. Therefore it was necessary to build a new database by mixing NIST's datasets.  \\n\\nThe MNIST training set is composed of 30,000 patterns from SD-3 and 30,000 patterns from SD-1. Our test set was composed of 5,000 patterns from SD-3 and 5,000 patterns from SD-1. The 60,000 pattern training set contained examples from approximately 250 writers. We made sure that the sets of writers of the training set and test set were disjoint. SD-1 contains 58,527 digit images written by 500 different writers. In contrast to SD-3, where blocks of data from each writer appeared in sequence, the data in SD-1 is scrambled. Writer identities for SD-1 is available and we used this information to unscramble the writers. We then split SD-1 in two: characters written by the first 250 writers went into our new training set. The remaining 250 writers were placed in our test set. Thus we had two sets with nearly 30,000 examples each. The new training set was completed with enough examples from SD-3, starting at pattern # 0, to make a full set of 60,000 training patterns. Similarly, the new test set was completed with SD-3 examples starting at pattern # 35,000 to make a full set with 60,000 test patterns. Only a subset of 10,000 test images (5,000 from SD-1 and 5,000 from SD-3) is available on this site. The full 60,000 sample training set is available.\\n\\nDownloaded from openml.org.\""
            ]
          },
          "metadata": {},
          "execution_count": 3
        }
      ]
    },
    {
      "cell_type": "code",
      "metadata": {
        "colab": {
          "base_uri": "https://localhost:8080/"
        },
        "id": "UHTKrhzC2vku",
        "outputId": "727db02e-8ff2-4cd2-bd66-05d1ce0859b6"
      },
      "source": [
        "X, y = mnist[\"data\"], mnist[\"target\"]\n",
        "print(\"X shape: \", X.shape)\n",
        "print(\"y shape: \", y.shape)"
      ],
      "execution_count": null,
      "outputs": [
        {
          "output_type": "stream",
          "name": "stdout",
          "text": [
            "X shape:  (70000, 784)\n",
            "y shape:  (70000,)\n"
          ]
        }
      ]
    },
    {
      "cell_type": "markdown",
      "metadata": {
        "id": "RqsBIj6T5Li2"
      },
      "source": [
        "70000 instances and 784 pixel per instance"
      ]
    },
    {
      "cell_type": "markdown",
      "metadata": {
        "id": "3EKAzBsg5VvW"
      },
      "source": [
        "*plot_digit()* function takes a row of 784 numbers and reshapes it into a 28x28 image which then it will display as a picture using *imshow()*:"
      ]
    },
    {
      "cell_type": "code",
      "metadata": {
        "id": "lUO9-zfm3LJ2"
      },
      "source": [
        "def plot_digit(data):\n",
        "  \"\"\"Plots a single data instance (digit)\"\"\"\n",
        "  image = data.reshape(28, 28)\n",
        "  plt.imshow(image, cmap=mpl.cm.binary,\n",
        "             interpolation=\"nearest\")\n",
        "  plt.axis(\"off\")"
      ],
      "execution_count": null,
      "outputs": []
    },
    {
      "cell_type": "code",
      "metadata": {
        "colab": {
          "base_uri": "https://localhost:8080/",
          "height": 334
        },
        "id": "Lggc7DXI0RYB",
        "outputId": "430a96a8-554e-4679-be73-c95c9f45af23"
      },
      "source": [
        "# Let's try it out:\n",
        "plot_digit(X[5])\n",
        "save_fig(\"some_digit_plot\")\n",
        "print(\"label is \" + y[5] + \" of type \" + str(type(y[5])))"
      ],
      "execution_count": null,
      "outputs": [
        {
          "output_type": "stream",
          "name": "stdout",
          "text": [
            "Saving figure some_digit_plot\n",
            "label is 2 of type <class 'str'>\n"
          ]
        },
        {
          "output_type": "display_data",
          "data": {
            "image/png": "[encoded data removed]",
            "text/plain": [
              "<Figure size 432x288 with 1 Axes>"
            ]
          },
          "metadata": {
            "needs_background": "light"
          }
        }
      ]
    },
    {
      "cell_type": "markdown",
      "metadata": {
        "id": "rgowwII76GjC"
      },
      "source": [
        "The labels are strings. We prefer working with integers. So let's convert them:"
      ]
    },
    {
      "cell_type": "code",
      "metadata": {
        "colab": {
          "base_uri": "https://localhost:8080/"
        },
        "id": "mnkzdOpz3iWV",
        "outputId": "440e9039-b0e3-4e99-d17b-67a9a7c4bf16"
      },
      "source": [
        "y = y.astype(np.uint8)\n",
        "type(y[5])"
      ],
      "execution_count": null,
      "outputs": [
        {
          "output_type": "execute_result",
          "data": {
            "text/plain": [
              "numpy.uint8"
            ]
          },
          "metadata": {},
          "execution_count": 7
        }
      ]
    },
    {
      "cell_type": "markdown",
      "metadata": {
        "id": "2j0I8I776hmS"
      },
      "source": [
        "*plot_digits()* takes a number of row values, reshapes them and displays them one after another in rows (just take a look at the plot):"
      ]
    },
    {
      "cell_type": "code",
      "metadata": {
        "id": "XpxN-pKEthrv"
      },
      "source": [
        "def plot_digits(instances, images_per_row, **options):\n",
        "  \"\"\"Plot a number of digits to get a sense of data we deal with\"\"\"\n",
        "  size = 28\n",
        "  images_per_row = min(len(instances), images_per_row)\n",
        "  images = [instance.reshape(size,size) for instance in instances]\n",
        "  n_rows = (len(images) - 1) // images_per_row + 1\n",
        "  n_empty = n_rows * images_per_row - len(instances)\n",
        "  images.append(np.zeros((size, size * n_empty)))\n",
        "  row_images = []\n",
        "  for row in range(n_rows):\n",
        "    rimages = images[row * images_per_row : (row + 1) * images_per_row]\n",
        "    row_images.append(np.concatenate(rimages, axis=1))\n",
        "  image = np.concatenate(row_images, axis=0)\n",
        "  plt.imshow(image, cmap=mpl.cm.binary, **options)\n",
        "  plt.axis(\"off\")\n"
      ],
      "execution_count": null,
      "outputs": []
    },
    {
      "cell_type": "code",
      "metadata": {
        "colab": {
          "base_uri": "https://localhost:8080/",
          "height": 675
        },
        "id": "EzN_E388Dpjr",
        "outputId": "58069ddc-4a17-4059-b596-60313bdff95f"
      },
      "source": [
        "# Let's view our last 100 digits from the dataset, 10 images per row:\n",
        "plt.figure(figsize=(9, 9))\n",
        "plot_digits(X[:100], 10)\n",
        "save_fig(\"more_digits_plot\")\n",
        "plt.show()"
      ],
      "execution_count": null,
      "outputs": [
        {
          "output_type": "stream",
          "name": "stdout",
          "text": [
            "Saving figure more_digits_plot\n"
          ]
        },
        {
          "output_type": "display_data",
          "data": {
            "image/png": "[encoded data removed]",
            "text/plain": [
              "<Figure size 648x648 with 1 Axes>"
            ]
          },
          "metadata": {
            "needs_background": "light"
          }
        }
      ]
    },
    {
      "cell_type": "markdown",
      "metadata": {
        "id": "G-fSa8nS7RON"
      },
      "source": [
        "Don't forget to make a test set and put it aside, before inspecting the data more closely.</br>Good news: MNIST is actually split into training (first 60000) and test set (next/last 10000). That makes things much easier:"
      ]
    },
    {
      "cell_type": "code",
      "metadata": {
        "id": "YidqX1pHD-NU"
      },
      "source": [
        "X_train, X_tests, y_train, y_test = X[:60000], X[60000:], y[:60000], y[60000:]"
      ],
      "execution_count": null,
      "outputs": []
    },
    {
      "cell_type": "markdown",
      "metadata": {
        "id": "934d6UbiI8cQ"
      },
      "source": [
        "## Binary classifier\n",
        "Let's start simple. We will just train a binary classifier called \"5-detector\", which (you guessed it) detects 5s, telling us whether a number is 5 or not! </br>We can set the label to 1 for all 5s and set it to 0 for all other digits:"
      ]
    },
    {
      "cell_type": "code",
      "metadata": {
        "id": "qXi05PgSI2Dg"
      },
      "source": [
        "y_train_5 = (y_train == 5)  # True for all 5s, False for all other labels\n",
        "y_test_5 = (y_test == 5)"
      ],
      "execution_count": null,
      "outputs": []
    },
    {
      "cell_type": "markdown",
      "metadata": {
        "id": "BX7N_7TK9de0"
      },
      "source": [
        "***Stochastic Gradient Descent*** is a classifier capable of handling large datasets very efficiently. This is partly due to the fact that it deals with input instances one at a time which will also make it very well-suited for online learning tasks. SGD also relies on randomness (hense the name) so if you want reproducable results don't forget to set the random_state correctly."
      ]
    },
    {
      "cell_type": "code",
      "metadata": {
        "colab": {
          "base_uri": "https://localhost:8080/"
        },
        "id": "QVxldcEqPgfL",
        "outputId": "99d6b33c-2b66-4154-dcf9-9681540dcb17"
      },
      "source": [
        "from sklearn.linear_model import SGDClassifier\n",
        "\n",
        "# max_iter and tol parameters are set to their default value (future proofing)\n",
        "sgd_clf = SGDClassifier(max_iter=1000, tol=1e-3, random_state=42)\n",
        "sgd_clf.fit(X_train, y_train_5)"
      ],
      "execution_count": null,
      "outputs": [
        {
          "output_type": "execute_result",
          "data": {
            "text/plain": [
              "SGDClassifier(alpha=0.0001, average=False, class_weight=None,\n",
              "              early_stopping=False, epsilon=0.1, eta0=0.0, fit_intercept=True,\n",
              "              l1_ratio=0.15, learning_rate='optimal', loss='hinge',\n",
              "              max_iter=1000, n_iter_no_change=5, n_jobs=None, penalty='l2',\n",
              "              power_t=0.5, random_state=42, shuffle=True, tol=0.001,\n",
              "              validation_fraction=0.1, verbose=0, warm_start=False)"
            ]
          },
          "metadata": {},
          "execution_count": 12
        }
      ]
    },
    {
      "cell_type": "code",
      "metadata": {
        "id": "JPmRHlOvP15t",
        "colab": {
          "base_uri": "https://localhost:8080/"
        },
        "outputId": "b659b22c-a1e1-4694-9cd6-6b1872f4e234"
      },
      "source": [
        "# X[0] is a 5. you can see that in the digits plot or you can plot it separately\n",
        "sgd_clf.predict([X[0]])"
      ],
      "execution_count": null,
      "outputs": [
        {
          "output_type": "execute_result",
          "data": {
            "text/plain": [
              "array([ True])"
            ]
          },
          "metadata": {},
          "execution_count": 13
        }
      ]
    },
    {
      "cell_type": "markdown",
      "metadata": {
        "id": "qArB8KAq-3UO"
      },
      "source": [
        "X[0] is truly a 5!"
      ]
    },
    {
      "cell_type": "markdown",
      "metadata": {
        "id": "bZEllAn2_VW0"
      },
      "source": [
        "## Performance Measure"
      ]
    },
    {
      "cell_type": "code",
      "metadata": {
        "id": "9UghPbHDQJga",
        "colab": {
          "base_uri": "https://localhost:8080/"
        },
        "outputId": "01b0a299-00be-4511-86aa-e6d2e964e9ec"
      },
      "source": [
        "from sklearn.model_selection import cross_val_score\n",
        "\n",
        "cross_val_score(sgd_clf, X_train, y_train_5, cv=3, scoring=\"accuracy\")"
      ],
      "execution_count": null,
      "outputs": [
        {
          "output_type": "execute_result",
          "data": {
            "text/plain": [
              "array([0.95035, 0.96035, 0.9604 ])"
            ]
          },
          "metadata": {},
          "execution_count": 14
        }
      ]
    },
    {
      "cell_type": "markdown",
      "metadata": {
        "id": "IhN5MGjd_qBJ"
      },
      "source": [
        "## Implementing Coross-Validation:\n",
        "sometimes we can implement it ourselves if we need more control over it rather than just using Scikit_Learn's cross_val_score(). Here's how it's done:"
      ]
    },
    {
      "cell_type": "code",
      "metadata": {
        "colab": {
          "base_uri": "https://localhost:8080/"
        },
        "id": "_sNdwR_Aw7Jw",
        "outputId": "6c09ce9a-22aa-417c-d96b-2c770fca1bc9"
      },
      "source": [
        "# Implementation of K fold cross validation\n",
        "\n",
        "from sklearn.model_selection import StratifiedKFold\n",
        "from sklearn.base import clone  # clone() clones a new unfitted estimator\n",
        "\n",
        "# split data into 3 stratified parts:\n",
        "skfolds = StratifiedKFold(n_splits=3, shuffle=True, random_state=42)\n",
        "\n",
        "for train_index, test_index in skfolds.split(X_train, y_train_5):\n",
        "  clone_clf = clone(sgd_clf)\n",
        "  X_train_folds = X_train[train_index]\n",
        "  y_train_folds = y_train_5[train_index]\n",
        "  X_test_fold = X_train[test_index]\n",
        "  y_test_fold = y_train_5[test_index]\n",
        "\n",
        "  clone_clf.fit(X_train_folds, y_train_folds)\n",
        "  y_pred = clone_clf.predict(X_test_fold)\n",
        "  \n",
        "  # count how many of our predictions were the same as actual labels:\n",
        "  n_correct = sum(y_pred == y_test_fold)\n",
        "  print(\"accuracy: \", n_correct / len(y_test_fold))"
      ],
      "execution_count": null,
      "outputs": [
        {
          "output_type": "stream",
          "name": "stdout",
          "text": [
            "accuracy:  0.9669\n",
            "accuracy:  0.91625\n",
            "accuracy:  0.96785\n"
          ]
        }
      ]
    },
    {
      "cell_type": "markdown",
      "metadata": {
        "id": "lzZ_-j0nB6xq"
      },
      "source": [
        "Above 91%! Impressive. unless...</br>Let's check out a dumb classifier that classifies everything as \"non-5\":"
      ]
    },
    {
      "cell_type": "code",
      "metadata": {
        "colab": {
          "base_uri": "https://localhost:8080/"
        },
        "id": "Fpd1xjHiChCF",
        "outputId": "b0072dad-60d3-48a3-a65c-3e3ae49f1555"
      },
      "source": [
        "from sklearn.base import BaseEstimator\n",
        "\n",
        "class DumbNon5Classifier(BaseEstimator):\n",
        "  \"\"\"classify all the inputs as non-5\"\"\"\n",
        "  def fit(self, X, y=None):\n",
        "    return self\n",
        "  def predict(self, X):\n",
        "    return np.zeros((len(X), 1), dtype=bool) # just output 0 for each instance\n",
        "\n",
        "non_5_clf = DumbNon5Classifier()\n",
        "cross_val_score(non_5_clf, X_train, y_train_5, cv=3, scoring=\"accuracy\")"
      ],
      "execution_count": null,
      "outputs": [
        {
          "output_type": "execute_result",
          "data": {
            "text/plain": [
              "array([0.91125, 0.90855, 0.90915])"
            ]
          },
          "metadata": {},
          "execution_count": 16
        }
      ]
    },
    {
      "cell_type": "markdown",
      "metadata": {
        "id": "Cnj0qNltE1lf"
      },
      "source": [
        "***Big realization moment:***Since only 10% of the data is 5s only predicting 0 as outputs will get an approximately 90% accuracy.\n",
        "***Conclusion:***accuracy is generally not the prefered performance measure for classifiers, specially when we're dealing with *skewed data sets*"
      ]
    },
    {
      "cell_type": "markdown",
      "metadata": {
        "id": "kovthv3pOzom"
      },
      "source": [
        "##Confusion Matrix:\n",
        "a better way to evaluate classifiers' performance.\n"
      ]
    },
    {
      "cell_type": "markdown",
      "metadata": {
        "id": "xngC6NA1V4et"
      },
      "source": [
        "*cross_val_predict()* performs K-fold cross-val just like cross_val_score() but instead of returning scores it gives you the predictions for each fold made by a clean model(model that has not seen the training data before)."
      ]
    },
    {
      "cell_type": "code",
      "metadata": {
        "id": "atN9LzuG5fNF"
      },
      "source": [
        "from sklearn.model_selection import cross_val_predict\n",
        "\n",
        "y_train_pred = cross_val_predict(sgd_clf, X_train, y_train_5,cv=3)"
      ],
      "execution_count": null,
      "outputs": []
    },
    {
      "cell_type": "code",
      "metadata": {
        "colab": {
          "base_uri": "https://localhost:8080/"
        },
        "id": "B_BtPb995yQ0",
        "outputId": "0cff2cda-8b53-4754-98e5-e774c06fc442"
      },
      "source": [
        "from sklearn.metrics import confusion_matrix\n",
        "\n",
        "confusion_matrix(y_train_5, y_train_pred)"
      ],
      "execution_count": null,
      "outputs": [
        {
          "output_type": "execute_result",
          "data": {
            "text/plain": [
              "array([[53892,   687],\n",
              "       [ 1891,  3530]])"
            ]
          },
          "metadata": {},
          "execution_count": 18
        }
      ]
    },
    {
      "cell_type": "markdown",
      "metadata": {
        "id": "GZZd-YalWbX3"
      },
      "source": [
        "TN FP</br>\n",
        "FN TP"
      ]
    },
    {
      "cell_type": "markdown",
      "metadata": {
        "id": "y4OoNMulWjcI"
      },
      "source": [
        "***Precision and Recall:***"
      ]
    },
    {
      "cell_type": "code",
      "metadata": {
        "colab": {
          "base_uri": "https://localhost:8080/"
        },
        "id": "x7cZf-YO609E",
        "outputId": "7e4e09d1-9e70-4a36-ff6a-531889e53cc2"
      },
      "source": [
        "from sklearn.metrics import precision_score, recall_score\n",
        "\n",
        "# You can also implement these pretty easily using the confusion_matrix\n",
        "precision = precision_score(y_train_5, y_train_pred)\n",
        "recall = recall_score(y_train_5, y_train_pred)\n",
        "\n",
        "print(\"precision: \", precision)\n",
        "print(\"recall: \", recall)"
      ],
      "execution_count": null,
      "outputs": [
        {
          "output_type": "stream",
          "name": "stdout",
          "text": [
            "precision:  0.8370879772350012\n",
            "recall:  0.6511713705958311\n"
          ]
        }
      ]
    },
    {
      "cell_type": "markdown",
      "metadata": {
        "id": "zgV4JbgSWyYO"
      },
      "source": [
        "Precision/Recall Tradeoff:\n",
        "the book's page 94 illustrates this great. but higher the Precision, lower the recall and vice versa."
      ]
    },
    {
      "cell_type": "code",
      "metadata": {
        "colab": {
          "base_uri": "https://localhost:8080/"
        },
        "id": "IRGbkgFyR7Zx",
        "outputId": "0de0f2ef-b148-433b-a4cb-fa3194ffaf25"
      },
      "source": [
        "from sklearn.metrics import f1_score\n",
        "\n",
        "f1_score(y_train_5, y_train_pred) # you can also implement this with the formula"
      ],
      "execution_count": null,
      "outputs": [
        {
          "output_type": "execute_result",
          "data": {
            "text/plain": [
              "0.7325171197343846"
            ]
          },
          "metadata": {},
          "execution_count": 20
        }
      ]
    },
    {
      "cell_type": "markdown",
      "metadata": {
        "id": "ZA8T31lTX3dC"
      },
      "source": [
        "*.decision_function()* returns the score of each instance. you can change the ***threshold*** like so:"
      ]
    },
    {
      "cell_type": "code",
      "metadata": {
        "colab": {
          "base_uri": "https://localhost:8080/"
        },
        "id": "pu1pu5iMVSQI",
        "outputId": "ea592c40-058a-435d-8f2d-48a9062c3806"
      },
      "source": [
        "some_digit = X[0]\n",
        "y_score = sgd_clf.decision_function([some_digit])\n",
        "y_score"
      ],
      "execution_count": null,
      "outputs": [
        {
          "output_type": "execute_result",
          "data": {
            "text/plain": [
              "array([2164.22030239])"
            ]
          },
          "metadata": {},
          "execution_count": 21
        }
      ]
    },
    {
      "cell_type": "code",
      "metadata": {
        "colab": {
          "base_uri": "https://localhost:8080/"
        },
        "id": "1TTIJPgBYxKs",
        "outputId": "058f4358-6fb7-4a55-b0fc-c2452ebfd851"
      },
      "source": [
        "threshold = 0\n",
        "y_some_digit_pred = (y_score > threshold)\n",
        "y_some_digit_pred"
      ],
      "execution_count": null,
      "outputs": [
        {
          "output_type": "execute_result",
          "data": {
            "text/plain": [
              "array([ True])"
            ]
          },
          "metadata": {},
          "execution_count": 22
        }
      ]
    },
    {
      "cell_type": "code",
      "metadata": {
        "colab": {
          "base_uri": "https://localhost:8080/"
        },
        "id": "pYvwIMx1ZNXI",
        "outputId": "4f30611f-4b29-4698-fe53-6950575704b9"
      },
      "source": [
        "# let's try it with a higher threshold\n",
        "threshold = 8000\n",
        "y_some_digit_pred = (y_score > threshold)\n",
        "y_some_digit_pred"
      ],
      "execution_count": null,
      "outputs": [
        {
          "output_type": "execute_result",
          "data": {
            "text/plain": [
              "array([False])"
            ]
          },
          "metadata": {},
          "execution_count": 23
        }
      ]
    },
    {
      "cell_type": "markdown",
      "metadata": {
        "id": "JmlDeOqjXXxu"
      },
      "source": [
        "by setting the *method* parameter in cross_val_prediction to \"decision_function\", the function returns decision scores instead of predictions."
      ]
    },
    {
      "cell_type": "code",
      "metadata": {
        "id": "mzqRWa9OZi7h"
      },
      "source": [
        "y_scores = cross_val_predict(sgd_clf, X_train, y_train_5, cv=3,\n",
        "                           method=\"decision_function\")"
      ],
      "execution_count": null,
      "outputs": []
    },
    {
      "cell_type": "markdown",
      "metadata": {
        "id": "NLPhcegvYF0-"
      },
      "source": [
        "**precision_recall_curve()** computes precision and recall for all possible thresholds:"
      ]
    },
    {
      "cell_type": "code",
      "metadata": {
        "id": "IzdeK_3ZajLx"
      },
      "source": [
        "from sklearn.metrics import precision_recall_curve\n",
        "\n",
        "precisions, recalls, thresholds = precision_recall_curve(y_train_5, y_scores)"
      ],
      "execution_count": null,
      "outputs": []
    },
    {
      "cell_type": "code",
      "metadata": {
        "id": "U3sNVqFgbAvg"
      },
      "source": [
        "def plot_precision_recall_vs_threshold(precisions, recalls, thresholds):\n",
        "  # there's one less threshold than precision/recall (look at the picture P94)\n",
        "  plt.plot(thresholds, precisions[:-1], \"b--\", label=\"Precision\", linewidth=2) \n",
        "  plt.plot(thresholds, recalls[:-1], \"g-\", label=\"Recall\", linewidth=2)\n",
        "  plt.legend(loc=\"center right\", fontsize=16)\n",
        "  plt.xlabel(\"Threshold\")\n",
        "  plt.grid(True)\n",
        "  plt.axis([-50000, 50000, 0, 1])"
      ],
      "execution_count": null,
      "outputs": []
    },
    {
      "cell_type": "code",
      "metadata": {
        "colab": {
          "base_uri": "https://localhost:8080/",
          "height": 315
        },
        "id": "y1445RRbbhrg",
        "outputId": "71fb9381-062f-4361-98ec-0bc9e0dc8226"
      },
      "source": [
        "# smallest threshold when precision is >= 90%\n",
        "threshold_90_precision = thresholds[np.argmax(precisions >= 0.90)]\n",
        "recall_90_precision = recalls[np.argmax(precisions >= 0.90)]\n",
        "\n",
        "plt.figure(figsize=(8, 4))\n",
        "plot_precision_recall_vs_threshold(precisions, recalls, thresholds)\n",
        "\n",
        "plt.plot([threshold_90_precision, threshold_90_precision], [0., 0.9], \"r:\")\n",
        "plt.plot([-50000, threshold_90_precision], [0.9, 0.9], \"r:\")\n",
        "plt.plot([-50000, threshold_90_precision], [recall_90_precision, recall_90_precision], \"r:\")\n",
        "plt.plot([threshold_90_precision], [0.90], \"ro\")\n",
        "plt.plot([threshold_90_precision], [recall_90_precision], \"ro\")\n",
        "\n",
        "save_fig(\"precision_recall_vs_threshold_plot\")\n",
        "plt.show()"
      ],
      "execution_count": null,
      "outputs": [
        {
          "output_type": "stream",
          "name": "stdout",
          "text": [
            "Saving figure precision_recall_vs_threshold_plot\n"
          ]
        },
        {
          "output_type": "display_data",
          "data": {
            "image/png": "[encoded data removed]",
            "text/plain": [
              "<Figure size 576x288 with 1 Axes>"
            ]
          },
          "metadata": {
            "needs_background": "light"
          }
        }
      ]
    },
    {
      "cell_type": "markdown",
      "metadata": {
        "id": "ga3zqrWza3zx"
      },
      "source": [
        "The bumpy part on the right side of the precision is because precision fluctuates a little but generally goes up with the threshold increasing."
      ]
    },
    {
      "cell_type": "code",
      "metadata": {
        "colab": {
          "base_uri": "https://localhost:8080/"
        },
        "id": "na7plswMfJQ6",
        "outputId": "07f59419-8854-4692-f27d-0227afee76b4"
      },
      "source": [
        "# y_train_pred is actually the predictions of 0 and 1 \n",
        "(y_train_pred == (y_scores > 0)).all()"
      ],
      "execution_count": null,
      "outputs": [
        {
          "output_type": "execute_result",
          "data": {
            "text/plain": [
              "True"
            ]
          },
          "metadata": {},
          "execution_count": 28
        }
      ]
    },
    {
      "cell_type": "code",
      "metadata": {
        "id": "T-IFpm7soq5A",
        "colab": {
          "base_uri": "https://localhost:8080/",
          "height": 315
        },
        "outputId": "a5b93a4b-5c37-4321-e501-ec4efc623325"
      },
      "source": [
        "def precision_vs_recall(precisions, recalls):\n",
        "  plt.plot(recalls, precisions, \"b-\", linewidth=2)\n",
        "  plt.xlabel(\"Recall\")\n",
        "  plt.ylabel(\"Precision\")\n",
        "  plt.axis([0, 1, 0, 1])\n",
        "  plt.grid(True)\n",
        "\n",
        "plt.figure(figsize=(8, 4))\n",
        "precision_vs_recall(precisions, recalls)\n",
        "plt.plot([recall_90_precision, recall_90_precision], [0, 0.9], \"r:\")\n",
        "plt.plot([0, recall_90_precision], [0.9, 0.9], \"r:\")\n",
        "plt.plot([recall_90_precision], [0.9], \"ro\")\n",
        "save_fig(\"precision_vs_recall_plot\")\n",
        "plt.show()"
      ],
      "execution_count": null,
      "outputs": [
        {
          "output_type": "stream",
          "name": "stdout",
          "text": [
            "Saving figure precision_vs_recall_plot\n"
          ]
        },
        {
          "output_type": "display_data",
          "data": {
            "image/png": "[encoded data removed]",
            "text/plain": [
              "<Figure size 576x288 with 1 Axes>"
            ]
          },
          "metadata": {
            "needs_background": "light"
          }
        }
      ]
    },
    {
      "cell_type": "code",
      "metadata": {
        "id": "CONLWZ1bzK12",
        "colab": {
          "base_uri": "https://localhost:8080/"
        },
        "outputId": "542409db-c4d8-4bcc-d3bf-195e241306f5"
      },
      "source": [
        "threshold_90_precision"
      ],
      "execution_count": null,
      "outputs": [
        {
          "output_type": "execute_result",
          "data": {
            "text/plain": [
              "3370.0194991439557"
            ]
          },
          "metadata": {},
          "execution_count": 30
        }
      ]
    },
    {
      "cell_type": "code",
      "metadata": {
        "id": "UbYFIKO526l_"
      },
      "source": [
        "# let's predict with this threshold now:\n",
        "y_train_pred_90 = (y_scores >= threshold_90_precision)"
      ],
      "execution_count": null,
      "outputs": []
    },
    {
      "cell_type": "code",
      "metadata": {
        "colab": {
          "base_uri": "https://localhost:8080/"
        },
        "id": "lHVGnrEv3HKN",
        "outputId": "4daf1f6c-0c21-48cc-e305-d9f119845a08"
      },
      "source": [
        "precision_score(y_train_5, y_train_pred_90)"
      ],
      "execution_count": null,
      "outputs": [
        {
          "output_type": "execute_result",
          "data": {
            "text/plain": [
              "0.9000345901072293"
            ]
          },
          "metadata": {},
          "execution_count": 32
        }
      ]
    },
    {
      "cell_type": "code",
      "metadata": {
        "colab": {
          "base_uri": "https://localhost:8080/"
        },
        "id": "8D-XEESy3NgN",
        "outputId": "dbe3adab-cbd0-4ca2-93ac-55bc4496d11e"
      },
      "source": [
        "recall_score(y_train_5, y_train_pred_90)"
      ],
      "execution_count": null,
      "outputs": [
        {
          "output_type": "execute_result",
          "data": {
            "text/plain": [
              "0.4799852425751706"
            ]
          },
          "metadata": {},
          "execution_count": 33
        }
      ]
    },
    {
      "cell_type": "markdown",
      "metadata": {
        "id": "6yK9GCN4bOrA"
      },
      "source": [
        "##ROC Curve:\n",
        "Plots ture positive (Recall) against the false positive (Negatives we classified as positive).</br>\n",
        "remember: FPR = 1 - TNR"
      ]
    },
    {
      "cell_type": "code",
      "metadata": {
        "id": "6VRyejaa3Shu"
      },
      "source": [
        "# ROC\n",
        "from sklearn.metrics import roc_curve\n",
        "\n",
        "fpr, tpr, threshold = roc_curve(y_train_5, y_scores)"
      ],
      "execution_count": null,
      "outputs": []
    },
    {
      "cell_type": "code",
      "metadata": {
        "colab": {
          "base_uri": "https://localhost:8080/",
          "height": 459
        },
        "id": "ZXdH2-MdwTM2",
        "outputId": "d6674666-3dff-4e5f-cb66-4b93e238662c"
      },
      "source": [
        "def plot_roc_curve(fpr, tpr, label=None):\n",
        "  \"\"\"Plot the ROC\"\"\"\n",
        "  plt.plot(fpr, tpr, linewidth=2, label=label)\n",
        "  plt.plot([0, 1], [0, 1], \"k--\")\n",
        "  plt.axis([0, 1, 0, 1])\n",
        "  plt.xlabel(\"False Positive Rate (Fall-Out)\", fontsize=16)\n",
        "  plt.ylabel(\"True Positive Rate (Recall)\", fontsize=16)\n",
        "  plt.grid(True)\n",
        "\n",
        "plt.figure(figsize=(8, 6))\n",
        "plot_roc_curve(fpr, tpr)\n",
        "fpr_90 = fpr[np.argmax(tpr >= recall_90_precision)]\n",
        "plt.plot([fpr_90, fpr_90], [0, recall_90_precision], \"r:\")\n",
        "plt.plot([0.0, fpr_90], [recall_90_precision, recall_90_precision], \"r:\") \n",
        "plt.plot([fpr_90], [recall_90_precision], \"ro\")\n",
        "save_fig(\"roc_curve_plot\")  \n",
        "plt.show()"
      ],
      "execution_count": null,
      "outputs": [
        {
          "output_type": "stream",
          "name": "stdout",
          "text": [
            "Saving figure roc_curve_plot\n"
          ]
        },
        {
          "output_type": "display_data",
          "data": {
            "image/png": "[encoded data removed]",
            "text/plain": [
              "<Figure size 576x432 with 1 Axes>"
            ]
          },
          "metadata": {
            "needs_background": "light"
          }
        }
      ]
    },
    {
      "cell_type": "markdown",
      "metadata": {
        "id": "dkeTubQ_brxp"
      },
      "source": [
        "You want the ROC to be closer to the top left which in turn means Area Under the Curve (AUC) to be closer to 1(higher). you can get the AUC by checking *roc_auc_score()*."
      ]
    },
    {
      "cell_type": "code",
      "metadata": {
        "colab": {
          "base_uri": "https://localhost:8080/"
        },
        "id": "Bb6UtpXl_fEE",
        "outputId": "600d1c1e-eef2-4528-b777-d48e3c5eeb97"
      },
      "source": [
        "from sklearn.metrics import roc_auc_score\n",
        "\n",
        "roc_auc_score(y_train_5, y_scores)  # 1 is perfect, 0.5 is random"
      ],
      "execution_count": null,
      "outputs": [
        {
          "output_type": "execute_result",
          "data": {
            "text/plain": [
              "0.9604938554008616"
            ]
          },
          "metadata": {},
          "execution_count": 36
        }
      ]
    },
    {
      "cell_type": "markdown",
      "metadata": {
        "id": "7DuyBD-TctoZ"
      },
      "source": [
        "RandomForestClassifier does not have a decision_function() method instead it has ***predict_proba()*** which outputs the probabality for each class being the actual label. we can get these probabalities by setting the method parameter in cross_val_predict to \"predict_proba\". the outputs works perfectly with the roc_curve() function."
      ]
    },
    {
      "cell_type": "code",
      "metadata": {
        "id": "UQ2r9H3kCZQQ"
      },
      "source": [
        "from sklearn.ensemble import RandomForestClassifier\n",
        "\n",
        "forest_clf = RandomForestClassifier(random_state=42)\n",
        "y_probas_forest = cross_val_predict(forest_clf, X_train, y_train_5, cv=3,\n",
        "                                    method=\"predict_proba\")\n"
      ],
      "execution_count": null,
      "outputs": []
    },
    {
      "cell_type": "code",
      "metadata": {
        "id": "CAE1yFG3I-fm"
      },
      "source": [
        "y_scores_forest = y_probas_forest[:, 1] # score = proba of positive class\n",
        "fpr_forest, tpr_forest, thresholds_forest = roc_curve(y_train_5,y_scores_forest)"
      ],
      "execution_count": null,
      "outputs": []
    },
    {
      "cell_type": "code",
      "metadata": {
        "colab": {
          "base_uri": "https://localhost:8080/",
          "height": 459
        },
        "id": "DH4xs9MtKF0u",
        "outputId": "05c638a9-6ebd-4fec-e888-6221710f3672"
      },
      "source": [
        "recall_for_forest = tpr_forest[np.argmax(fpr_forest >= fpr_90)]\n",
        "\n",
        "plt.figure(figsize=(8, 6))\n",
        "plt.plot(fpr, tpr, \"b:\", linewidth=2, label=\"SGD\")\n",
        "plot_roc_curve(fpr_forest, tpr_forest,\"Random Forest\")\n",
        "plt.plot([fpr_90, fpr_90], [0., recall_90_precision], \"r:\")\n",
        "plt.plot([0.0, fpr_90], [recall_90_precision, recall_90_precision], \"r:\")\n",
        "plt.plot([fpr_90], [recall_90_precision], \"ro\")\n",
        "plt.plot([fpr_90, fpr_90], [0., recall_for_forest], \"r:\")\n",
        "plt.plot([fpr_90], [recall_for_forest], \"ro\")\n",
        "plt.grid(True)\n",
        "plt.legend(loc=\"lower right\", fontsize=16)\n",
        "save_fig(\"roc_curve_comparison_plot\")\n",
        "plt.show()"
      ],
      "execution_count": null,
      "outputs": [
        {
          "output_type": "stream",
          "name": "stdout",
          "text": [
            "Saving figure roc_curve_comparison_plot\n"
          ]
        },
        {
          "output_type": "display_data",
          "data": {
            "image/png": "[encoded data removed]",
            "text/plain": [
              "<Figure size 576x432 with 1 Axes>"
            ]
          },
          "metadata": {
            "needs_background": "light"
          }
        }
      ]
    },
    {
      "cell_type": "code",
      "metadata": {
        "id": "2S0sS6PjN4jQ",
        "colab": {
          "base_uri": "https://localhost:8080/"
        },
        "outputId": "4abc48b0-3620-409d-b202-1db58f381a03"
      },
      "source": [
        "roc_auc_score(y_train_5, y_scores_forest)"
      ],
      "execution_count": null,
      "outputs": [
        {
          "output_type": "execute_result",
          "data": {
            "text/plain": [
              "0.9983436731328145"
            ]
          },
          "metadata": {},
          "execution_count": 40
        }
      ]
    },
    {
      "cell_type": "code",
      "metadata": {
        "colab": {
          "base_uri": "https://localhost:8080/"
        },
        "id": "0oEWDwFWT0Ar",
        "outputId": "6424a851-2dcf-4ea4-f452-d05690dc2ce8"
      },
      "source": [
        "y_train_pred_forest = cross_val_predict(forest_clf, X_train, y_train_5, cv=3)\n",
        "precision_score(y_train_5, y_train_pred_forest)"
      ],
      "execution_count": null,
      "outputs": [
        {
          "output_type": "execute_result",
          "data": {
            "text/plain": [
              "0.9905083315756169"
            ]
          },
          "metadata": {},
          "execution_count": 41
        }
      ]
    },
    {
      "cell_type": "code",
      "metadata": {
        "id": "T9k_3bzvUXZ5",
        "colab": {
          "base_uri": "https://localhost:8080/"
        },
        "outputId": "efe0dc27-d604-4ca8-dda1-50ae2cb525a2"
      },
      "source": [
        "recall_score(y_train_5, y_train_pred_forest)"
      ],
      "execution_count": null,
      "outputs": [
        {
          "output_type": "execute_result",
          "data": {
            "text/plain": [
              "0.8662608374838591"
            ]
          },
          "metadata": {},
          "execution_count": 42
        }
      ]
    },
    {
      "cell_type": "markdown",
      "metadata": {
        "id": "u_KZtEe_c3HF"
      },
      "source": [
        "## Multiclass Classification:\n",
        "Now let's label each digit with it's own correct label( 1:1 , 2:2, ...).</br>\n",
        "SGD, RandomForest, naive Bayes,... can handle multiple classes natively. some other algorithms like SMV and LR can only handle binary classifications to use them for more than 2 labels we should do ***OvR*** or ***OvO***(Page 100 has good descriptions for both). For algorithms that scale poorly with size OvO is the prefered method, for others OvR is the way to go. SciKit-Learn automatically realizes if you are performing a multilabel task and uses OvR or OvO for you!"
      ]
    },
    {
      "cell_type": "code",
      "metadata": {
        "id": "Jyh7lzSPWPxZ",
        "colab": {
          "base_uri": "https://localhost:8080/"
        },
        "outputId": "158064b9-f769-4d06-c65b-1faafab94181"
      },
      "source": [
        "from sklearn.svm import SVC\n",
        "svm_clf = SVC(gamma=\"auto\", random_state=42)  # check out what gamma is later on\n",
        "svm_clf.fit(X_train[:1000], y[:1000])\n",
        "svm_clf.predict([some_digit])"
      ],
      "execution_count": null,
      "outputs": [
        {
          "output_type": "execute_result",
          "data": {
            "text/plain": [
              "array([5], dtype=uint8)"
            ]
          },
          "metadata": {},
          "execution_count": 43
        }
      ]
    },
    {
      "cell_type": "code",
      "metadata": {
        "id": "QI1mdZOIXiuB",
        "colab": {
          "base_uri": "https://localhost:8080/"
        },
        "outputId": "a7010f1a-8306-40fb-c37f-e1e20cd01a95"
      },
      "source": [
        "some_digit_score = svm_clf.decision_function([some_digit])\n",
        "some_digit_score"
      ],
      "execution_count": null,
      "outputs": [
        {
          "output_type": "execute_result",
          "data": {
            "text/plain": [
              "array([[ 2.81585438,  7.09167958,  3.82972099,  0.79365551,  5.8885703 ,\n",
              "         9.29718395,  1.79862509,  8.10392157, -0.228207  ,  4.83753243]])"
            ]
          },
          "metadata": {},
          "execution_count": 44
        }
      ]
    },
    {
      "cell_type": "code",
      "metadata": {
        "id": "GQrkAnKfXz3i",
        "colab": {
          "base_uri": "https://localhost:8080/"
        },
        "outputId": "9eae1f8e-0933-474b-e331-4ff4ba530951"
      },
      "source": [
        "np.argmax(some_digit_score)"
      ],
      "execution_count": null,
      "outputs": [
        {
          "output_type": "execute_result",
          "data": {
            "text/plain": [
              "5"
            ]
          },
          "metadata": {},
          "execution_count": 45
        }
      ]
    },
    {
      "cell_type": "code",
      "metadata": {
        "id": "4IhqA8I8YLsS",
        "colab": {
          "base_uri": "https://localhost:8080/"
        },
        "outputId": "bc7a54a8-3361-4f4d-9483-f441c247fb11"
      },
      "source": [
        "svm_clf.classes_"
      ],
      "execution_count": null,
      "outputs": [
        {
          "output_type": "execute_result",
          "data": {
            "text/plain": [
              "array([0, 1, 2, 3, 4, 5, 6, 7, 8, 9], dtype=uint8)"
            ]
          },
          "metadata": {},
          "execution_count": 46
        }
      ]
    },
    {
      "cell_type": "code",
      "metadata": {
        "id": "DnoVagweYOCh",
        "colab": {
          "base_uri": "https://localhost:8080/"
        },
        "outputId": "e46c67d5-9e39-42cd-c038-ee69d8cb4abe"
      },
      "source": [
        "svm_clf.classes_[5]"
      ],
      "execution_count": null,
      "outputs": [
        {
          "output_type": "execute_result",
          "data": {
            "text/plain": [
              "5"
            ]
          },
          "metadata": {},
          "execution_count": 47
        }
      ]
    },
    {
      "cell_type": "markdown",
      "metadata": {
        "id": "sdBvNPBdeGRB"
      },
      "source": [
        "You can ofcourse force the classifier to use your prefered method (be it OvR or OvO) like so:"
      ]
    },
    {
      "cell_type": "code",
      "metadata": {
        "id": "Ud34CYUXYQYi",
        "colab": {
          "base_uri": "https://localhost:8080/"
        },
        "outputId": "eded2e5b-321b-4859-8452-bdaadd50c75e"
      },
      "source": [
        "from sklearn.multiclass import OneVsRestClassifier\n",
        "\n",
        "ovr_clf = OneVsRestClassifier(SVC(gamma=\"auto\", random_state=42))\n",
        "ovr_clf.fit(X_train[:1000], y_train[:1000])\n",
        "ovr_clf.predict([some_digit])"
      ],
      "execution_count": null,
      "outputs": [
        {
          "output_type": "execute_result",
          "data": {
            "text/plain": [
              "array([5], dtype=uint8)"
            ]
          },
          "metadata": {},
          "execution_count": 48
        }
      ]
    },
    {
      "cell_type": "code",
      "metadata": {
        "id": "yREwy7W9Zlsy",
        "colab": {
          "base_uri": "https://localhost:8080/"
        },
        "outputId": "5f5b7688-f5bc-4733-a02c-049ca2d4f8c7"
      },
      "source": [
        "len(ovr_clf.estimators_)  # number of estimators or models"
      ],
      "execution_count": null,
      "outputs": [
        {
          "output_type": "execute_result",
          "data": {
            "text/plain": [
              "10"
            ]
          },
          "metadata": {},
          "execution_count": 49
        }
      ]
    },
    {
      "cell_type": "code",
      "metadata": {
        "id": "7XOTWSpbZze5",
        "colab": {
          "base_uri": "https://localhost:8080/"
        },
        "outputId": "c7cb2a4f-20b4-4589-de09-b7491cf8b291"
      },
      "source": [
        "sgd_clf.fit(X_train, y_train)"
      ],
      "execution_count": null,
      "outputs": [
        {
          "output_type": "execute_result",
          "data": {
            "text/plain": [
              "SGDClassifier(alpha=0.0001, average=False, class_weight=None,\n",
              "              early_stopping=False, epsilon=0.1, eta0=0.0, fit_intercept=True,\n",
              "              l1_ratio=0.15, learning_rate='optimal', loss='hinge',\n",
              "              max_iter=1000, n_iter_no_change=5, n_jobs=None, penalty='l2',\n",
              "              power_t=0.5, random_state=42, shuffle=True, tol=0.001,\n",
              "              validation_fraction=0.1, verbose=0, warm_start=False)"
            ]
          },
          "metadata": {},
          "execution_count": 50
        }
      ]
    },
    {
      "cell_type": "code",
      "metadata": {
        "id": "YbSHaSLxaw9D",
        "colab": {
          "base_uri": "https://localhost:8080/"
        },
        "outputId": "af8ddd3e-392e-4070-e4aa-f70ffe3a465e"
      },
      "source": [
        "sgd_clf.predict([some_digit])"
      ],
      "execution_count": null,
      "outputs": [
        {
          "output_type": "execute_result",
          "data": {
            "text/plain": [
              "array([3], dtype=uint8)"
            ]
          },
          "metadata": {},
          "execution_count": 51
        }
      ]
    },
    {
      "cell_type": "markdown",
      "metadata": {
        "id": "g4Zj8vMJeT5i"
      },
      "source": [
        "SGD's decision_function() in multilabel classification gives you 10 scores per instance. Makes sense."
      ]
    },
    {
      "cell_type": "code",
      "metadata": {
        "id": "mATPeoA1Z7PB",
        "colab": {
          "base_uri": "https://localhost:8080/"
        },
        "outputId": "73b32605-5c12-4fbb-9b74-8a0045c66802"
      },
      "source": [
        "sgd_clf.decision_function([some_digit])"
      ],
      "execution_count": null,
      "outputs": [
        {
          "output_type": "execute_result",
          "data": {
            "text/plain": [
              "array([[-31893.03095419, -34419.69069632,  -9530.63950739,\n",
              "          1823.73154031, -22320.14822878,  -1385.80478895,\n",
              "        -26188.91070951, -16147.51323997,  -4604.35491274,\n",
              "        -12050.767298  ]])"
            ]
          },
          "metadata": {},
          "execution_count": 52
        }
      ]
    },
    {
      "cell_type": "code",
      "metadata": {
        "id": "ruIBDTMfZ-MS",
        "colab": {
          "base_uri": "https://localhost:8080/"
        },
        "outputId": "956b587e-bb65-47bf-87dd-8f8e14389ed0"
      },
      "source": [
        "cross_val_score(sgd_clf, X_train, y_train, cv=3, scoring=\"accuracy\")"
      ],
      "execution_count": null,
      "outputs": [
        {
          "output_type": "execute_result",
          "data": {
            "text/plain": [
              "array([0.87365, 0.85835, 0.8689 ])"
            ]
          },
          "metadata": {},
          "execution_count": 53
        }
      ]
    },
    {
      "cell_type": "markdown",
      "metadata": {
        "id": "qppHkErGeijw"
      },
      "source": [
        "For some reason It just seems too good to believe, but scaling the images(inputs) helps your results. Very noticeably."
      ]
    },
    {
      "cell_type": "code",
      "metadata": {
        "id": "bz21AC43cNnq",
        "colab": {
          "base_uri": "https://localhost:8080/"
        },
        "outputId": "2d119cfe-096e-4738-b32c-bf71f30a2bdd"
      },
      "source": [
        "from sklearn.preprocessing import StandardScaler\n",
        "\n",
        "scaler = StandardScaler()\n",
        "X_train_scaled = scaler.fit_transform(X_train.astype(np.float64))\n",
        "cross_val_score(sgd_clf, X_train_scaled, y_train, cv=3, scoring=\"accuracy\")"
      ],
      "execution_count": null,
      "outputs": [
        {
          "output_type": "execute_result",
          "data": {
            "text/plain": [
              "array([0.8983, 0.891 , 0.9018])"
            ]
          },
          "metadata": {},
          "execution_count": 55
        }
      ]
    },
    {
      "cell_type": "markdown",
      "metadata": {
        "id": "6T01aT0IfL8_"
      },
      "source": [
        "##Error Analysis"
      ]
    },
    {
      "cell_type": "code",
      "metadata": {
        "id": "xUmGlPrUcTbB",
        "colab": {
          "base_uri": "https://localhost:8080/"
        },
        "outputId": "abcb3c98-6531-48b0-9be4-61f51209032f"
      },
      "source": [
        "# Confusion Matrix\n",
        "y_train_pred = cross_val_predict(sgd_clf, X_train, y_train, cv=3)\n",
        "conf_mx = confusion_matrix(y_train, y_train_pred)\n",
        "conf_mx"
      ],
      "execution_count": null,
      "outputs": [
        {
          "output_type": "execute_result",
          "data": {
            "text/plain": [
              "array([[5635,    0,   61,   10,   16,   50,   46,    7,   66,   32],\n",
              "       [   3, 6393,   95,   21,   16,   47,   15,   27,  109,   16],\n",
              "       [  72,   56, 5174,   89,   69,   39,  163,   66,  212,   18],\n",
              "       [  58,   32,  217, 4941,   23,  441,   32,   56,  216,  115],\n",
              "       [  11,   26,   46,    6, 5298,   26,   73,   32,   87,  237],\n",
              "       [  68,   23,   58,  150,   83, 4606,  174,   26,  152,   81],\n",
              "       [  40,   13,   56,    6,   22,  113, 5625,    5,   36,    2],\n",
              "       [  23,   24,  103,   36,  124,   40,   10, 5228,   75,  602],\n",
              "       [  40,  101,  158,  122,   49,  457,   77,   35, 4666,  146],\n",
              "       [  33,   18,   66,   83,  515,  127,    4,  485,  166, 4452]])"
            ]
          },
          "metadata": {},
          "execution_count": 56
        }
      ]
    },
    {
      "cell_type": "markdown",
      "metadata": {
        "id": "9H7hN3Dlfoyq"
      },
      "source": [
        "Rows = Actual labels</br>\n",
        "Columns = Predicted labels"
      ]
    },
    {
      "cell_type": "code",
      "metadata": {
        "id": "Ldpy3t5QHYce",
        "colab": {
          "base_uri": "https://localhost:8080/",
          "height": 492
        },
        "outputId": "e1beb888-9e7c-4b93-d6c0-22f78fe567f8"
      },
      "source": [
        "# colorful using sklearn.metrics.plot_confusion_matrix\n",
        "from sklearn.metrics import plot_confusion_matrix\n",
        "\n",
        "# let's modify the function\n",
        "def plot_confusion_matrix(matrix):\n",
        "  fig = plt.figure(figsize=(8, 8))\n",
        "  ax = fig.add_subplot(111)\n",
        "  cax = ax.matshow(matrix)\n",
        "  fig.colorbar(cax)\n",
        "\n",
        "plot_confusion_matrix(conf_mx)\n",
        "save_fig(\"confusion_matrix_plot_colored\", tight_layout=False)"
      ],
      "execution_count": null,
      "outputs": [
        {
          "output_type": "stream",
          "name": "stdout",
          "text": [
            "Saving figure confusion_matrix_plot_colored\n"
          ]
        },
        {
          "output_type": "display_data",
          "data": {
            "image/png": "[encoded data removed]",
            "text/plain": [
              "<Figure size 576x576 with 2 Axes>"
            ]
          },
          "metadata": {
            "needs_background": "light"
          }
        }
      ]
    },
    {
      "cell_type": "code",
      "metadata": {
        "id": "f6XA_GycKpa1",
        "colab": {
          "base_uri": "https://localhost:8080/",
          "height": 296
        },
        "outputId": "2a8c3dc8-4b61-4583-e803-9a7d7874e134"
      },
      "source": [
        "plt.matshow(conf_mx, cmap=plt.cm.gray)\n",
        "save_fig(\"confusion_matrix_plot_black_white\", tight_layout=False)\n",
        "plt.show()"
      ],
      "execution_count": null,
      "outputs": [
        {
          "output_type": "stream",
          "name": "stdout",
          "text": [
            "Saving figure confusion_matrix_plot_black_white\n"
          ]
        },
        {
          "output_type": "display_data",
          "data": {
            "image/png": "[encoded data removed]",
            "text/plain": [
              "<Figure size 288x288 with 1 Axes>"
            ]
          },
          "metadata": {
            "needs_background": "light"
          }
        }
      ]
    },
    {
      "cell_type": "code",
      "metadata": {
        "id": "iz6srLv2Mb4e"
      },
      "source": [
        "row_sums = conf_mx.sum(axis=1, keepdims=True)\n",
        "norm_conf_mx = conf_mx / row_sums"
      ],
      "execution_count": null,
      "outputs": []
    },
    {
      "cell_type": "code",
      "metadata": {
        "id": "ba3m-9afM828",
        "colab": {
          "base_uri": "https://localhost:8080/",
          "height": 296
        },
        "outputId": "b5ee6849-ce3a-4146-e0c3-03cf538c2ddc"
      },
      "source": [
        "np.fill_diagonal(norm_conf_mx, 0)\n",
        "plt.matshow(norm_conf_mx, cmap=plt.cm.gray)\n",
        "save_fig(\"confusion_matrix_errors_plot\", tight_layout=False)\n",
        "plt.show()"
      ],
      "execution_count": null,
      "outputs": [
        {
          "output_type": "stream",
          "name": "stdout",
          "text": [
            "Saving figure confusion_matrix_errors_plot\n"
          ]
        },
        {
          "output_type": "display_data",
          "data": {
            "image/png": "[encoded data removed]",
            "text/plain": [
              "<Figure size 288x288 with 1 Axes>"
            ]
          },
          "metadata": {
            "needs_background": "light"
          }
        }
      ]
    },
    {
      "cell_type": "markdown",
      "metadata": {
        "id": "ZwZCFoKSf188"
      },
      "source": [
        "Analysing individual errors: a bit more difficult and time consuming. But it can yield great insight."
      ]
    },
    {
      "cell_type": "code",
      "metadata": {
        "id": "5g1czG_3NRaf",
        "colab": {
          "base_uri": "https://localhost:8080/",
          "height": 603
        },
        "outputId": "3841a2aa-80ae-46e0-b564-864a001e0e6d"
      },
      "source": [
        "cl_a, cl_b = 7, 9\n",
        "X_aa = X_train[(y_train == cl_a) & (y_train_pred == cl_a)]\n",
        "X_ab = X_train[(y_train == cl_a) & (y_train_pred == cl_b)]\n",
        "X_ba = X_train[(y_train == cl_b) & (y_train_pred == cl_a)]\n",
        "X_bb = X_train[(y_train == cl_b) & (y_train_pred == cl_b)]\n",
        "\n",
        "plt.figure(figsize=(8,8))\n",
        "plt.subplot(221); plot_digits(X_aa[:25], images_per_row=5)\n",
        "plt.subplot(222); plot_digits(X_ab[:25], images_per_row=5)\n",
        "plt.subplot(223); plot_digits(X_ba[:25], images_per_row=5)\n",
        "plt.subplot(224); plot_digits(X_bb[:25], images_per_row=5)\n",
        "save_fig(\"error_analysis_digits_plot\")\n",
        "plt.show()\n",
        "\n"
      ],
      "execution_count": null,
      "outputs": [
        {
          "output_type": "stream",
          "name": "stdout",
          "text": [
            "Saving figure error_analysis_digits_plot\n"
          ]
        },
        {
          "output_type": "display_data",
          "data": {
            "image/png": "[encoded data removed]",
            "text/plain": [
              "<Figure size 576x576 with 4 Axes>"
            ]
          },
          "metadata": {
            "needs_background": "light"
          }
        }
      ]
    },
    {
      "cell_type": "markdown",
      "metadata": {
        "id": "m2HdIxuogLm4"
      },
      "source": [
        "Obviousely the 9s and 7s are sometimes written poorly and It's even hard for us to detect the digit correctly but most of the time it's a peace of cake! so Maybe we can make sure that the images are not too tilted and that they are centered for better results."
      ]
    },
    {
      "cell_type": "markdown",
      "metadata": {
        "id": "IBpJNbReSTM7"
      },
      "source": [
        "##Multilabel Classification:\n",
        "Sometimes you want more than one label per instance. Let's create a model that tells us if a number is small (<=5) and if it's even (%2==0). two labels per instance:"
      ]
    },
    {
      "cell_type": "code",
      "metadata": {
        "id": "m00eQJGdNqxe",
        "colab": {
          "base_uri": "https://localhost:8080/"
        },
        "outputId": "71a93780-5507-400e-9bc9-3a4bd51fa64f"
      },
      "source": [
        "from sklearn.neighbors import KNeighborsClassifier\n",
        "\n",
        "y_train_small = (y_train <= 5)\n",
        "y_train_even = (y_train % 2 == 0)\n",
        "y_multilabel = np.c_[y_train_small, y_train_even]\n",
        "\n",
        "knn_clf = KNeighborsClassifier()\n",
        "knn_clf.fit(X_train, y_multilabel)"
      ],
      "execution_count": null,
      "outputs": [
        {
          "output_type": "execute_result",
          "data": {
            "text/plain": [
              "KNeighborsClassifier(algorithm='auto', leaf_size=30, metric='minkowski',\n",
              "                     metric_params=None, n_jobs=None, n_neighbors=5, p=2,\n",
              "                     weights='uniform')"
            ]
          },
          "metadata": {},
          "execution_count": 62
        }
      ]
    },
    {
      "cell_type": "code",
      "metadata": {
        "id": "zrgthD7kSzcP",
        "colab": {
          "base_uri": "https://localhost:8080/"
        },
        "outputId": "780b9498-8c57-4c0d-bccf-e9f8b2ffedaa"
      },
      "source": [
        "knn_clf.predict([some_digit])"
      ],
      "execution_count": null,
      "outputs": [
        {
          "output_type": "execute_result",
          "data": {
            "text/plain": [
              "array([[ True, False]])"
            ]
          },
          "metadata": {},
          "execution_count": 63
        }
      ]
    },
    {
      "cell_type": "markdown",
      "metadata": {
        "id": "TF9h88qTTwdu"
      },
      "source": [
        "The next cell takes such a long time that I'm not gonna run it for now, but It works :)"
      ]
    },
    {
      "cell_type": "code",
      "metadata": {
        "id": "i0kMv7RMTBnV"
      },
      "source": [
        "# y_train_knn_preds = cross_val_predict(knn_clf, X_train, y_multilabel, cv=3)\n",
        "# # just use average=\"weighted\" so that labels have weights equal to their support\n",
        "# f1_score(y_multilabel, y_train_knn_preds, average=\"macro\")"
      ],
      "execution_count": null,
      "outputs": []
    },
    {
      "cell_type": "markdown",
      "metadata": {
        "id": "fns1aM-1W5Ls"
      },
      "source": [
        "##Multioutput Classification:\n",
        "We're in the \"multiple non-binary instace\" zone!"
      ]
    },
    {
      "cell_type": "code",
      "metadata": {
        "id": "T-Y614tMT5q1"
      },
      "source": [
        "noise = np.random.randint(0, 100, (len(X_train), 784))\n",
        "X_train_mod = X_train + noise\n",
        "noise = np.random.randint(0, 100, (len(X_tests), 784))\n",
        "X_test_mod = X_tests + noise\n",
        "\n",
        "y_train_mod = X_train\n",
        "y_test_mod = X_tests"
      ],
      "execution_count": null,
      "outputs": []
    },
    {
      "cell_type": "code",
      "metadata": {
        "id": "UurrkjTPXU0p",
        "colab": {
          "base_uri": "https://localhost:8080/",
          "height": 249
        },
        "outputId": "4004aa0e-d14f-4c72-eab9-4a159962a6ae"
      },
      "source": [
        "some_index = 11\n",
        "plt.subplot(121); plot_digit(X_test_mod[some_index])\n",
        "plt.subplot(122); plot_digit(y_test_mod[some_index])\n",
        "save_fig(\"noisy_digit_example_plot\")"
      ],
      "execution_count": null,
      "outputs": [
        {
          "output_type": "stream",
          "name": "stdout",
          "text": [
            "Saving figure noisy_digit_example_plot\n"
          ]
        },
        {
          "output_type": "display_data",
          "data": {
            "image/png": "[encoded data removed]",
            "text/plain": [
              "<Figure size 432x288 with 2 Axes>"
            ]
          },
          "metadata": {
            "needs_background": "light"
          }
        }
      ]
    },
    {
      "cell_type": "code",
      "metadata": {
        "id": "ZsMf94qAYpmJ",
        "colab": {
          "base_uri": "https://localhost:8080/",
          "height": 315
        },
        "outputId": "07f9d6b5-1e02-47e7-f031-0f7f00f132a6"
      },
      "source": [
        "knn_clf.fit(X_train_mod, y_train_mod)\n",
        "prediction = knn_clf.predict([X_test_mod[some_index]])\n",
        "plot_digit(prediction)\n",
        "save_fig(\"cleaned_digit_example_plot\")"
      ],
      "execution_count": null,
      "outputs": [
        {
          "output_type": "stream",
          "name": "stdout",
          "text": [
            "Saving figure cleaned_digit_example_plot\n"
          ]
        },
        {
          "output_type": "display_data",
          "data": {
            "image/png": "[encoded data removed]",
            "text/plain": [
              "<Figure size 432x288 with 1 Axes>"
            ]
          },
          "metadata": {
            "needs_background": "light"
          }
        }
      ]
    },
    {
      "cell_type": "markdown",
      "metadata": {
        "id": "8IDz2nZWv5xJ"
      },
      "source": [
        "Exercise 1) Try to get over 97% accuracy with KNeighborsClassifier and a grid search on weights and n_neighbors:\n",
        "\n",
        "\n",
        "note: this takes so long that i have given up but i wrote the code anyway and it should work."
      ]
    },
    {
      "cell_type": "code",
      "metadata": {
        "id": "vRMJiJqsZ2yQ"
      },
      "source": [
        "from sklearn.neighbors import KNeighborsClassifier\n",
        "from sklearn.model_selection import GridSearchCV\n",
        "\n",
        "param_grid = [\n",
        "              {'weights': [\"uniform\", \"distance\"], 'n_neighbors': [3, 4, 5, 10]}\n",
        "]\n",
        "\n",
        "knn_tuned_clf = KNeighborsClassifier()\n",
        "\n",
        "grid_search = GridSearchCV(knn_tuned_clf, param_grid, cv=3,\n",
        "                           scoring=\"accuracy\", return_train_score=True)\n",
        "grid_search.fit(X_train, y_train)"
      ],
      "execution_count": null,
      "outputs": []
    },
    {
      "cell_type": "code",
      "metadata": {
        "id": "BP0PYSVI2dBW"
      },
      "source": [
        "print(\"Highest socre: \", grid_search.best_score_)\n",
        "print(\"Best parameters: \", grid_search.best_params_)"
      ],
      "execution_count": null,
      "outputs": []
    },
    {
      "cell_type": "code",
      "metadata": {
        "id": "HQR1BTRv0ea8"
      },
      "source": [
        "y_knn_tuned_pred = knn_tuned_clf.predict(X_test)"
      ],
      "execution_count": null,
      "outputs": []
    },
    {
      "cell_type": "code",
      "metadata": {
        "id": "nm_1f4W00m5f"
      },
      "source": [
        "from sklearn.metrics import accuracy_score\n",
        "\n",
        "accuracy_score(y_test, y_knn_tuned_pred)  # Over 97 (hopefully)"
      ],
      "execution_count": null,
      "outputs": []
    },
    {
      "cell_type": "markdown",
      "metadata": {
        "id": "LZatK11qz13r"
      },
      "source": [
        "***Data Augmentation (training set expansion)***\n",
        "Exercise 2) Write a function that shifts an image in any direction by one pixel and then make 4 copies of each image shifted in the data set.measure your model again on the new expanded data set."
      ]
    },
    {
      "cell_type": "code",
      "metadata": {
        "id": "PVfh9dGgkSg3"
      },
      "source": [
        "# Here's the function that basically does everything\n",
        "\n",
        "from scipy.ndimage.interpolation import shift"
      ],
      "execution_count": null,
      "outputs": []
    },
    {
      "cell_type": "code",
      "metadata": {
        "id": "03pgXq2bza3t"
      },
      "source": [
        "def shift_image(image, v, h):\n",
        "  \"\"\"\n",
        "  Take in an array for image convert it into 28x28 and shift it by v and h and\n",
        "  convert it back to a 1D array and return\n",
        "  \"\"\"\n",
        "\n",
        "  image = image.reshape((28, 28))\n",
        "  # the default for mode is constant itself. It fills the empty edges with cval\n",
        "  shifted_image = shift(image, [v, h], cval=0, mode=\"constant\")\n",
        "  return shifted_image.reshape([-1])"
      ],
      "execution_count": null,
      "outputs": []
    },
    {
      "cell_type": "code",
      "metadata": {
        "colab": {
          "base_uri": "https://localhost:8080/",
          "height": 282
        },
        "id": "vgOhj3Z2iohM",
        "outputId": "8dd0c625-9e10-41ac-c707-fc1bcd395cf1"
      },
      "source": [
        "plt.figure(figsize=(12, 8))\n",
        "plt.subplot(131)\n",
        "plt.title(\"Original\")\n",
        "plt.imshow(X_train[0].reshape(28, 28))\n",
        "plt.subplot(132)\n",
        "plt.title(\"Horizontal Shift\")\n",
        "plt.imshow(shift_image(X_train[0], 5, 0).reshape(28, 28))\n",
        "plt.subplot(133)\n",
        "plt.title(\"Vertical Shift\")\n",
        "plt.imshow(shift_image(X_train[0], 0, 5).reshape(28, 28))"
      ],
      "execution_count": null,
      "outputs": [
        {
          "output_type": "execute_result",
          "data": {
            "text/plain": [
              "<matplotlib.image.AxesImage at 0x7fd8f09eaed0>"
            ]
          },
          "metadata": {},
          "execution_count": 25
        },
        {
          "output_type": "display_data",
          "data": {
            "image/png": "[encoded data removed]",
            "text/plain": [
              "<Figure size 864x576 with 3 Axes>"
            ]
          },
          "metadata": {
            "needs_background": "light"
          }
        }
      ]
    },
    {
      "cell_type": "code",
      "metadata": {
        "id": "KEgnWbMeiYSx"
      },
      "source": [
        "# Create the new extended dataset\n",
        "\n",
        "# We do it like so because a=b in np arrays make pointers\n",
        "X_train_augmented = [image for image in X_train]\n",
        "y_train_augmented = [image for image in y_train]\n",
        "\n",
        "for h, v in [(1, 0), (0, 1), (-1, 0), (0, -1)]:\n",
        "  for image, label in zip(X_train, y_train):\n",
        "    X_train_augmented.append(shift_image(image, h, v))\n",
        "    y_train_augmented.append(label)\n",
        "\n",
        "# We want the sets as a numpy array not a regular array:\n",
        "X_train_augmented = np.array(X_train_augmented)\n",
        "y_train_augmented = np.array(y_train_augmented)"
      ],
      "execution_count": null,
      "outputs": []
    },
    {
      "cell_type": "code",
      "metadata": {
        "id": "Tr8psM03mPah"
      },
      "source": [
        "# Now we just need to shuffle it and we are ready to go\n",
        "shuffle_indices = np.random.permutation(len(X_train_augmented))\n",
        "X_train_augmented = X_train_augmented[shuffle_indices]\n",
        "y_train_augmented = y_train_augmented[shuffle_indices]"
      ],
      "execution_count": null,
      "outputs": []
    },
    {
      "cell_type": "markdown",
      "metadata": {
        "id": "IbUnKc8OnuDD"
      },
      "source": [
        "From here on you just need to train a model on this data again. with this new augmented data set you give your model more chances to learn so you should be doing better. But since training these models takes so long we skipped retraining a model."
      ]
    },
    {
      "cell_type": "markdown",
      "metadata": {
        "id": "1PfqTomLoD4A"
      },
      "source": [
        "Exercise 3) **Titanic data set**:"
      ]
    },
    {
      "cell_type": "code",
      "metadata": {
        "id": "XeWZqXZGoRg4"
      },
      "source": [
        "train_data = pd.read_csv(\"train.csv\")\n",
        "test_data = pd.read_csv(\"test.csv\")"
      ],
      "execution_count": null,
      "outputs": []
    },
    {
      "cell_type": "code",
      "metadata": {
        "colab": {
          "base_uri": "https://localhost:8080/",
          "height": 206
        },
        "id": "vqMFkGcjZ161",
        "outputId": "36750301-8234-4200-93d7-9ecf470ac097"
      },
      "source": [
        "train_data.head()"
      ],
      "execution_count": null,
      "outputs": [
        {
          "output_type": "execute_result",
          "data": {
            "text/html": [
              "<div>\n",
              "<style scoped>\n",
              "    .dataframe tbody tr th:only-of-type {\n",
              "        vertical-align: middle;\n",
              "    }\n",
              "\n",
              "    .dataframe tbody tr th {\n",
              "        vertical-align: top;\n",
              "    }\n",
              "\n",
              "    .dataframe thead th {\n",
              "        text-align: right;\n",
              "    }\n",
              "</style>\n",
              "<table border=\"1\" class=\"dataframe\">\n",
              "  <thead>\n",
              "    <tr style=\"text-align: right;\">\n",
              "      <th></th>\n",
              "      <th>PassengerId</th>\n",
              "      <th>Survived</th>\n",
              "      <th>Pclass</th>\n",
              "      <th>Name</th>\n",
              "      <th>Sex</th>\n",
              "      <th>Age</th>\n",
              "      <th>SibSp</th>\n",
              "      <th>Parch</th>\n",
              "      <th>Ticket</th>\n",
              "      <th>Fare</th>\n",
              "      <th>Cabin</th>\n",
              "      <th>Embarked</th>\n",
              "    </tr>\n",
              "  </thead>\n",
              "  <tbody>\n",
              "    <tr>\n",
              "      <th>0</th>\n",
              "      <td>1</td>\n",
              "      <td>0</td>\n",
              "      <td>3</td>\n",
              "      <td>Braund, Mr. Owen Harris</td>\n",
              "      <td>male</td>\n",
              "      <td>22.0</td>\n",
              "      <td>1</td>\n",
              "      <td>0</td>\n",
              "      <td>A/5 21171</td>\n",
              "      <td>7.2500</td>\n",
              "      <td>NaN</td>\n",
              "      <td>S</td>\n",
              "    </tr>\n",
              "    <tr>\n",
              "      <th>1</th>\n",
              "      <td>2</td>\n",
              "      <td>1</td>\n",
              "      <td>1</td>\n",
              "      <td>Cumings, Mrs. John Bradley (Florence Briggs Th...</td>\n",
              "      <td>female</td>\n",
              "      <td>38.0</td>\n",
              "      <td>1</td>\n",
              "      <td>0</td>\n",
              "      <td>PC 17599</td>\n",
              "      <td>71.2833</td>\n",
              "      <td>C85</td>\n",
              "      <td>C</td>\n",
              "    </tr>\n",
              "    <tr>\n",
              "      <th>2</th>\n",
              "      <td>3</td>\n",
              "      <td>1</td>\n",
              "      <td>3</td>\n",
              "      <td>Heikkinen, Miss. Laina</td>\n",
              "      <td>female</td>\n",
              "      <td>26.0</td>\n",
              "      <td>0</td>\n",
              "      <td>0</td>\n",
              "      <td>STON/O2. 3101282</td>\n",
              "      <td>7.9250</td>\n",
              "      <td>NaN</td>\n",
              "      <td>S</td>\n",
              "    </tr>\n",
              "    <tr>\n",
              "      <th>3</th>\n",
              "      <td>4</td>\n",
              "      <td>1</td>\n",
              "      <td>1</td>\n",
              "      <td>Futrelle, Mrs. Jacques Heath (Lily May Peel)</td>\n",
              "      <td>female</td>\n",
              "      <td>35.0</td>\n",
              "      <td>1</td>\n",
              "      <td>0</td>\n",
              "      <td>113803</td>\n",
              "      <td>53.1000</td>\n",
              "      <td>C123</td>\n",
              "      <td>S</td>\n",
              "    </tr>\n",
              "    <tr>\n",
              "      <th>4</th>\n",
              "      <td>5</td>\n",
              "      <td>0</td>\n",
              "      <td>3</td>\n",
              "      <td>Allen, Mr. William Henry</td>\n",
              "      <td>male</td>\n",
              "      <td>35.0</td>\n",
              "      <td>0</td>\n",
              "      <td>0</td>\n",
              "      <td>373450</td>\n",
              "      <td>8.0500</td>\n",
              "      <td>NaN</td>\n",
              "      <td>S</td>\n",
              "    </tr>\n",
              "  </tbody>\n",
              "</table>\n",
              "</div>"
            ],
            "text/plain": [
              "   PassengerId  Survived  Pclass  ...     Fare Cabin  Embarked\n",
              "0            1         0       3  ...   7.2500   NaN         S\n",
              "1            2         1       1  ...  71.2833   C85         C\n",
              "2            3         1       3  ...   7.9250   NaN         S\n",
              "3            4         1       1  ...  53.1000  C123         S\n",
              "4            5         0       3  ...   8.0500   NaN         S\n",
              "\n",
              "[5 rows x 12 columns]"
            ]
          },
          "metadata": {},
          "execution_count": 3
        }
      ]
    },
    {
      "cell_type": "code",
      "metadata": {
        "colab": {
          "base_uri": "https://localhost:8080/"
        },
        "id": "EnznByuHEmQq",
        "outputId": "ce3b1225-360b-4c85-cfe8-cd232c9f77ba"
      },
      "source": [
        "train_data.info()"
      ],
      "execution_count": null,
      "outputs": [
        {
          "output_type": "stream",
          "name": "stdout",
          "text": [
            "<class 'pandas.core.frame.DataFrame'>\n",
            "RangeIndex: 891 entries, 0 to 890\n",
            "Data columns (total 12 columns):\n",
            " #   Column       Non-Null Count  Dtype  \n",
            "---  ------       --------------  -----  \n",
            " 0   PassengerId  891 non-null    int64  \n",
            " 1   Survived     891 non-null    int64  \n",
            " 2   Pclass       891 non-null    int64  \n",
            " 3   Name         891 non-null    object \n",
            " 4   Sex          891 non-null    object \n",
            " 5   Age          714 non-null    float64\n",
            " 6   SibSp        891 non-null    int64  \n",
            " 7   Parch        891 non-null    int64  \n",
            " 8   Ticket       891 non-null    object \n",
            " 9   Fare         891 non-null    float64\n",
            " 10  Cabin        204 non-null    object \n",
            " 11  Embarked     889 non-null    object \n",
            "dtypes: float64(2), int64(5), object(5)\n",
            "memory usage: 83.7+ KB\n"
          ]
        }
      ]
    },
    {
      "cell_type": "code",
      "metadata": {
        "colab": {
          "base_uri": "https://localhost:8080/"
        },
        "id": "NucmCBXkEzKS",
        "outputId": "549d5c94-2286-4b55-d1e6-9622cd69d7c0"
      },
      "source": [
        "test_data.info()"
      ],
      "execution_count": null,
      "outputs": [
        {
          "output_type": "stream",
          "name": "stdout",
          "text": [
            "<class 'pandas.core.frame.DataFrame'>\n",
            "RangeIndex: 418 entries, 0 to 417\n",
            "Data columns (total 11 columns):\n",
            " #   Column       Non-Null Count  Dtype  \n",
            "---  ------       --------------  -----  \n",
            " 0   PassengerId  418 non-null    int64  \n",
            " 1   Pclass       418 non-null    int64  \n",
            " 2   Name         418 non-null    object \n",
            " 3   Sex          418 non-null    object \n",
            " 4   Age          332 non-null    float64\n",
            " 5   SibSp        418 non-null    int64  \n",
            " 6   Parch        418 non-null    int64  \n",
            " 7   Ticket       418 non-null    object \n",
            " 8   Fare         417 non-null    float64\n",
            " 9   Cabin        91 non-null     object \n",
            " 10  Embarked     418 non-null    object \n",
            "dtypes: float64(2), int64(4), object(5)\n",
            "memory usage: 36.0+ KB\n"
          ]
        }
      ]
    },
    {
      "cell_type": "markdown",
      "metadata": {
        "id": "FD3DXPpZE2fu"
      },
      "source": [
        "The test data does not contain the labels (Survived column).</br>\n",
        "Here's a list of columns' meanings (for those that need it):\n",
        "\n",
        "\n",
        "*   pclass \tTicket class \t1 = 1st, 2 = 2nd, 3 = 3rd\n",
        "*   sibsp \t# of siblings / spouses aboard the Titanic\n",
        "*   parch \t# of parents / children aboard the Titanic\n",
        "*   ticket \tTicket number\n",
        "*   fare \tPassenger fare \t\n",
        "*   cabin \tCabin number \t\n",
        "*   embarked \tPort of Embarkation \tC = Cherbourg, Q = Queenstown, S = Southampton\n",
        "\n"
      ]
    },
    {
      "cell_type": "code",
      "metadata": {
        "colab": {
          "base_uri": "https://localhost:8080/",
          "height": 300
        },
        "id": "WSVBcMwBE0Qa",
        "outputId": "3a0ea9d4-f808-495f-eacb-aa1ddaa52ccf"
      },
      "source": [
        "# Let's look at the numeral stuff:\n",
        "train_data.describe()"
      ],
      "execution_count": null,
      "outputs": [
        {
          "output_type": "execute_result",
          "data": {
            "text/html": [
              "<div>\n",
              "<style scoped>\n",
              "    .dataframe tbody tr th:only-of-type {\n",
              "        vertical-align: middle;\n",
              "    }\n",
              "\n",
              "    .dataframe tbody tr th {\n",
              "        vertical-align: top;\n",
              "    }\n",
              "\n",
              "    .dataframe thead th {\n",
              "        text-align: right;\n",
              "    }\n",
              "</style>\n",
              "<table border=\"1\" class=\"dataframe\">\n",
              "  <thead>\n",
              "    <tr style=\"text-align: right;\">\n",
              "      <th></th>\n",
              "      <th>PassengerId</th>\n",
              "      <th>Survived</th>\n",
              "      <th>Pclass</th>\n",
              "      <th>Age</th>\n",
              "      <th>SibSp</th>\n",
              "      <th>Parch</th>\n",
              "      <th>Fare</th>\n",
              "    </tr>\n",
              "  </thead>\n",
              "  <tbody>\n",
              "    <tr>\n",
              "      <th>count</th>\n",
              "      <td>891.000000</td>\n",
              "      <td>891.000000</td>\n",
              "      <td>891.000000</td>\n",
              "      <td>714.000000</td>\n",
              "      <td>891.000000</td>\n",
              "      <td>891.000000</td>\n",
              "      <td>891.000000</td>\n",
              "    </tr>\n",
              "    <tr>\n",
              "      <th>mean</th>\n",
              "      <td>446.000000</td>\n",
              "      <td>0.383838</td>\n",
              "      <td>2.308642</td>\n",
              "      <td>29.699118</td>\n",
              "      <td>0.523008</td>\n",
              "      <td>0.381594</td>\n",
              "      <td>32.204208</td>\n",
              "    </tr>\n",
              "    <tr>\n",
              "      <th>std</th>\n",
              "      <td>257.353842</td>\n",
              "      <td>0.486592</td>\n",
              "      <td>0.836071</td>\n",
              "      <td>14.526497</td>\n",
              "      <td>1.102743</td>\n",
              "      <td>0.806057</td>\n",
              "      <td>49.693429</td>\n",
              "    </tr>\n",
              "    <tr>\n",
              "      <th>min</th>\n",
              "      <td>1.000000</td>\n",
              "      <td>0.000000</td>\n",
              "      <td>1.000000</td>\n",
              "      <td>0.420000</td>\n",
              "      <td>0.000000</td>\n",
              "      <td>0.000000</td>\n",
              "      <td>0.000000</td>\n",
              "    </tr>\n",
              "    <tr>\n",
              "      <th>25%</th>\n",
              "      <td>223.500000</td>\n",
              "      <td>0.000000</td>\n",
              "      <td>2.000000</td>\n",
              "      <td>20.125000</td>\n",
              "      <td>0.000000</td>\n",
              "      <td>0.000000</td>\n",
              "      <td>7.910400</td>\n",
              "    </tr>\n",
              "    <tr>\n",
              "      <th>50%</th>\n",
              "      <td>446.000000</td>\n",
              "      <td>0.000000</td>\n",
              "      <td>3.000000</td>\n",
              "      <td>28.000000</td>\n",
              "      <td>0.000000</td>\n",
              "      <td>0.000000</td>\n",
              "      <td>14.454200</td>\n",
              "    </tr>\n",
              "    <tr>\n",
              "      <th>75%</th>\n",
              "      <td>668.500000</td>\n",
              "      <td>1.000000</td>\n",
              "      <td>3.000000</td>\n",
              "      <td>38.000000</td>\n",
              "      <td>1.000000</td>\n",
              "      <td>0.000000</td>\n",
              "      <td>31.000000</td>\n",
              "    </tr>\n",
              "    <tr>\n",
              "      <th>max</th>\n",
              "      <td>891.000000</td>\n",
              "      <td>1.000000</td>\n",
              "      <td>3.000000</td>\n",
              "      <td>80.000000</td>\n",
              "      <td>8.000000</td>\n",
              "      <td>6.000000</td>\n",
              "      <td>512.329200</td>\n",
              "    </tr>\n",
              "  </tbody>\n",
              "</table>\n",
              "</div>"
            ],
            "text/plain": [
              "       PassengerId    Survived      Pclass  ...       SibSp       Parch        Fare\n",
              "count   891.000000  891.000000  891.000000  ...  891.000000  891.000000  891.000000\n",
              "mean    446.000000    0.383838    2.308642  ...    0.523008    0.381594   32.204208\n",
              "std     257.353842    0.486592    0.836071  ...    1.102743    0.806057   49.693429\n",
              "min       1.000000    0.000000    1.000000  ...    0.000000    0.000000    0.000000\n",
              "25%     223.500000    0.000000    2.000000  ...    0.000000    0.000000    7.910400\n",
              "50%     446.000000    0.000000    3.000000  ...    0.000000    0.000000   14.454200\n",
              "75%     668.500000    1.000000    3.000000  ...    1.000000    0.000000   31.000000\n",
              "max     891.000000    1.000000    3.000000  ...    8.000000    6.000000  512.329200\n",
              "\n",
              "[8 rows x 7 columns]"
            ]
          },
          "metadata": {},
          "execution_count": 6
        }
      ]
    },
    {
      "cell_type": "markdown",
      "metadata": {
        "id": "fIctcomAJpaK"
      },
      "source": [
        "mean of survived is .38 which means almost 40% positive and 60% negative which is apperantly good enough for using accuracy as our measurement."
      ]
    },
    {
      "cell_type": "code",
      "metadata": {
        "colab": {
          "base_uri": "https://localhost:8080/"
        },
        "id": "m8UDeMbBJgYS",
        "outputId": "d57db3ea-e748-4bcf-90f2-83a2902db66c"
      },
      "source": [
        "#check that \"Survived\" is only 0s and 1s\n",
        "train_data[\"Survived\"].value_counts()"
      ],
      "execution_count": null,
      "outputs": [
        {
          "output_type": "execute_result",
          "data": {
            "text/plain": [
              "0    549\n",
              "1    342\n",
              "Name: Survived, dtype: int64"
            ]
          },
          "metadata": {},
          "execution_count": 7
        }
      ]
    },
    {
      "cell_type": "code",
      "metadata": {
        "id": "fP83iKMCl8bE"
      },
      "source": [
        "from sklearn.pipeline import Pipeline\n",
        "from sklearn.impute import SimpleImputer\n",
        "from sklearn.preprocessing import OneHotEncoder\n",
        "\n",
        "string_pipeline = Pipeline([\n",
        "        (\"imputer\", SimpleImputer(strategy=\"most_frequent\")),\n",
        "        (\"cat_encoder\", OneHotEncoder(sparse=False)),\n",
        "    ])"
      ],
      "execution_count": null,
      "outputs": []
    },
    {
      "cell_type": "markdown",
      "metadata": {
        "id": "h94mrDQThAy_"
      },
      "source": [
        "Remember: By default any column that is not worked specified in ColumnTransformer is dropped so don't bother selecting columns."
      ]
    },
    {
      "cell_type": "code",
      "metadata": {
        "id": "W3FbDvPrKABS"
      },
      "source": [
        "from sklearn.compose import ColumnTransformer\n",
        "\n",
        "preprocess_pipeline = ColumnTransformer([\n",
        "    (\"string_pipe\", string_pipeline, [\"Pclass\", \"Sex\", \"Embarked\"]),\n",
        "    (\"num_imputer\", SimpleImputer(strategy=\"median\"), [\"Age\", \"SibSp\", \"Parch\", \"Fare\"])\n",
        "])"
      ],
      "execution_count": null,
      "outputs": []
    },
    {
      "cell_type": "code",
      "metadata": {
        "colab": {
          "base_uri": "https://localhost:8080/"
        },
        "id": "DfIYgWN3RxPx",
        "outputId": "870fe079-fcee-416a-9bfa-23554cbf6b17"
      },
      "source": [
        "X_train = preprocess_pipeline.fit_transform(train_data.drop(\"Survived\", axis=1))\n",
        "# Remember OneHotEncoder creates new columns\n",
        "X_train"
      ],
      "execution_count": null,
      "outputs": [
        {
          "output_type": "execute_result",
          "data": {
            "text/plain": [
              "array([[ 0.    ,  0.    ,  1.    , ...,  1.    ,  0.    ,  7.25  ],\n",
              "       [ 1.    ,  0.    ,  0.    , ...,  1.    ,  0.    , 71.2833],\n",
              "       [ 0.    ,  0.    ,  1.    , ...,  0.    ,  0.    ,  7.925 ],\n",
              "       ...,\n",
              "       [ 0.    ,  0.    ,  1.    , ...,  1.    ,  2.    , 23.45  ],\n",
              "       [ 1.    ,  0.    ,  0.    , ...,  0.    ,  0.    , 30.    ],\n",
              "       [ 0.    ,  0.    ,  1.    , ...,  0.    ,  0.    ,  7.75  ]])"
            ]
          },
          "metadata": {},
          "execution_count": 29
        }
      ]
    },
    {
      "cell_type": "code",
      "metadata": {
        "id": "2pkK1zOjqYTm"
      },
      "source": [
        "y_train = train_data[\"Survived\"]"
      ],
      "execution_count": null,
      "outputs": []
    },
    {
      "cell_type": "code",
      "metadata": {
        "id": "728OS42pqukn",
        "colab": {
          "base_uri": "https://localhost:8080/"
        },
        "outputId": "25ee5df9-e846-4536-db2e-e7a2eb0f4c5a"
      },
      "source": [
        "from sklearn.svm import SVC\n",
        "\n",
        "svm_clf = SVC(gamma=\"auto\")  \n",
        "svm_clf.fit(X_train, y_train)"
      ],
      "execution_count": null,
      "outputs": [
        {
          "output_type": "execute_result",
          "data": {
            "text/plain": [
              "SVC(C=1.0, break_ties=False, cache_size=200, class_weight=None, coef0=0.0,\n",
              "    decision_function_shape='ovr', degree=3, gamma='auto', kernel='rbf',\n",
              "    max_iter=-1, probability=False, random_state=None, shrinking=True,\n",
              "    tol=0.001, verbose=False)"
            ]
          },
          "metadata": {},
          "execution_count": 31
        }
      ]
    },
    {
      "cell_type": "code",
      "metadata": {
        "id": "1bhsqQ5guAnR"
      },
      "source": [
        "X_test = preprocess_pipeline.transform(test_data)\n",
        "y_pred = svm_clf.predict(X_test)"
      ],
      "execution_count": null,
      "outputs": []
    },
    {
      "cell_type": "markdown",
      "metadata": {
        "id": "y6DxuHW-0hI6"
      },
      "source": [
        "Let's use cross validation to get a measure of our model's accuracy"
      ]
    },
    {
      "cell_type": "code",
      "metadata": {
        "colab": {
          "base_uri": "https://localhost:8080/"
        },
        "id": "qK8gwH0iv9Iv",
        "outputId": "dc5a17f3-242a-492f-9928-5e1a3aebeca5"
      },
      "source": [
        "from sklearn.model_selection import cross_val_score\n",
        "\n",
        "svm_scores = cross_val_score(svm_clf, X_train, y_train, cv=10)\n",
        "svm_scores.mean()"
      ],
      "execution_count": null,
      "outputs": [
        {
          "output_type": "execute_result",
          "data": {
            "text/plain": [
              "0.7329588014981274"
            ]
          },
          "metadata": {},
          "execution_count": 34
        }
      ]
    },
    {
      "cell_type": "markdown",
      "metadata": {
        "id": "1sIMJ5_I9ggM"
      },
      "source": [
        "71% for the SVMM model. Let's try a Random Forest:"
      ]
    },
    {
      "cell_type": "code",
      "metadata": {
        "colab": {
          "base_uri": "https://localhost:8080/"
        },
        "id": "UveHEvWo0ZP2",
        "outputId": "3ff1dc22-18c2-446f-9095-0482af5a4764"
      },
      "source": [
        "from sklearn.ensemble import RandomForestClassifier\n",
        "\n",
        "forest_clf = RandomForestClassifier(n_estimators=100, random_state=42)\n",
        "forest_scores = cross_val_score(forest_clf, X_train, y_train, cv=10)\n",
        "forest_scores.mean()"
      ],
      "execution_count": null,
      "outputs": [
        {
          "output_type": "execute_result",
          "data": {
            "text/plain": [
              "0.8092883895131087"
            ]
          },
          "metadata": {},
          "execution_count": 40
        }
      ]
    },
    {
      "cell_type": "markdown",
      "metadata": {
        "id": "1w1bIeQf907u"
      },
      "source": [
        "81 is much better now let's try and plot it instead of just looking at the mean. We are using boxplot with Quantiles and all(the boxplot() function disregards the outliers automatically):\n"
      ]
    },
    {
      "cell_type": "code",
      "metadata": {
        "colab": {
          "base_uri": "https://localhost:8080/",
          "height": 268
        },
        "id": "ZwF7bBLj9YOz",
        "outputId": "60ed0d5b-2c84-4b92-dc5c-c0dc502a9ee1"
      },
      "source": [
        "plt.figure(figsize=(8, 4))\n",
        "plt.plot([1]*10, svm_scores, \".\")\n",
        "plt.plot([2]*10, forest_scores, \".\")\n",
        "plt.boxplot([svm_scores, forest_scores], labels=(\"SVM\", \"Random Forest\"))\n",
        "plt.ylabel(\"Accuracy\", fontsize=14)\n",
        "plt.show()"
      ],
      "execution_count": null,
      "outputs": [
        {
          "output_type": "display_data",
          "data": {
            "image/png": "[encoded data removed]",
            "text/plain": [
              "<Figure size 576x288 with 1 Axes>"
            ]
          },
          "metadata": {
            "needs_background": "light"
          }
        }
      ]
    },
    {
      "cell_type": "markdown",
      "metadata": {
        "id": "5nXGfFLzDjeG"
      },
      "source": [
        "There are certain optimizations we can do to get better results. For instance we can convert some numerical attributes into categorical. Let's do this for Age and see how it works out:\n"
      ]
    },
    {
      "cell_type": "code",
      "metadata": {
        "colab": {
          "base_uri": "https://localhost:8080/",
          "height": 269
        },
        "id": "bzLmDmbr_r81",
        "outputId": "862b217b-e279-4ad1-9e6c-82c0e1136230"
      },
      "source": [
        "train_data[\"AgeBracket\"] = train_data[\"Age\"] //15 * 15\n",
        "# Let's see what we've created\n",
        "train_data[[\"AgeBracket\", \"Survived\"]].groupby([\"AgeBracket\"]).mean()"
      ],
      "execution_count": null,
      "outputs": [
        {
          "output_type": "execute_result",
          "data": {
            "text/html": [
              "<div>\n",
              "<style scoped>\n",
              "    .dataframe tbody tr th:only-of-type {\n",
              "        vertical-align: middle;\n",
              "    }\n",
              "\n",
              "    .dataframe tbody tr th {\n",
              "        vertical-align: top;\n",
              "    }\n",
              "\n",
              "    .dataframe thead th {\n",
              "        text-align: right;\n",
              "    }\n",
              "</style>\n",
              "<table border=\"1\" class=\"dataframe\">\n",
              "  <thead>\n",
              "    <tr style=\"text-align: right;\">\n",
              "      <th></th>\n",
              "      <th>Survived</th>\n",
              "    </tr>\n",
              "    <tr>\n",
              "      <th>AgeBracket</th>\n",
              "      <th></th>\n",
              "    </tr>\n",
              "  </thead>\n",
              "  <tbody>\n",
              "    <tr>\n",
              "      <th>0.0</th>\n",
              "      <td>0.576923</td>\n",
              "    </tr>\n",
              "    <tr>\n",
              "      <th>15.0</th>\n",
              "      <td>0.362745</td>\n",
              "    </tr>\n",
              "    <tr>\n",
              "      <th>30.0</th>\n",
              "      <td>0.423256</td>\n",
              "    </tr>\n",
              "    <tr>\n",
              "      <th>45.0</th>\n",
              "      <td>0.404494</td>\n",
              "    </tr>\n",
              "    <tr>\n",
              "      <th>60.0</th>\n",
              "      <td>0.240000</td>\n",
              "    </tr>\n",
              "    <tr>\n",
              "      <th>75.0</th>\n",
              "      <td>1.000000</td>\n",
              "    </tr>\n",
              "  </tbody>\n",
              "</table>\n",
              "</div>"
            ],
            "text/plain": [
              "            Survived\n",
              "AgeBracket          \n",
              "0.0         0.576923\n",
              "15.0        0.362745\n",
              "30.0        0.423256\n",
              "45.0        0.404494\n",
              "60.0        0.240000\n",
              "75.0        1.000000"
            ]
          },
          "metadata": {},
          "execution_count": 44
        }
      ]
    },
    {
      "cell_type": "markdown",
      "metadata": {
        "id": "OM9_AZ_lFdS8"
      },
      "source": [
        "We can also combine some numerical attributes. Let's combine Parch and SibSp into one attribute or column:"
      ]
    },
    {
      "cell_type": "code",
      "metadata": {
        "colab": {
          "base_uri": "https://localhost:8080/",
          "height": 363
        },
        "id": "0u4wPxxbFRt-",
        "outputId": "feae50b2-177e-4c46-800b-f7cd30c6e9d3"
      },
      "source": [
        "train_data[\"RelativesOnboard\"] = train_data[\"Parch\"] + train_data[\"SibSp\"]\n",
        "# Let's see it\n",
        "train_data[[\"RelativesOnboard\", \"Survived\"]].groupby([\"RelativesOnboard\"]).mean()"
      ],
      "execution_count": null,
      "outputs": [
        {
          "output_type": "execute_result",
          "data": {
            "text/html": [
              "<div>\n",
              "<style scoped>\n",
              "    .dataframe tbody tr th:only-of-type {\n",
              "        vertical-align: middle;\n",
              "    }\n",
              "\n",
              "    .dataframe tbody tr th {\n",
              "        vertical-align: top;\n",
              "    }\n",
              "\n",
              "    .dataframe thead th {\n",
              "        text-align: right;\n",
              "    }\n",
              "</style>\n",
              "<table border=\"1\" class=\"dataframe\">\n",
              "  <thead>\n",
              "    <tr style=\"text-align: right;\">\n",
              "      <th></th>\n",
              "      <th>Survived</th>\n",
              "    </tr>\n",
              "    <tr>\n",
              "      <th>RelativesOnboard</th>\n",
              "      <th></th>\n",
              "    </tr>\n",
              "  </thead>\n",
              "  <tbody>\n",
              "    <tr>\n",
              "      <th>0</th>\n",
              "      <td>0.303538</td>\n",
              "    </tr>\n",
              "    <tr>\n",
              "      <th>1</th>\n",
              "      <td>0.552795</td>\n",
              "    </tr>\n",
              "    <tr>\n",
              "      <th>2</th>\n",
              "      <td>0.578431</td>\n",
              "    </tr>\n",
              "    <tr>\n",
              "      <th>3</th>\n",
              "      <td>0.724138</td>\n",
              "    </tr>\n",
              "    <tr>\n",
              "      <th>4</th>\n",
              "      <td>0.200000</td>\n",
              "    </tr>\n",
              "    <tr>\n",
              "      <th>5</th>\n",
              "      <td>0.136364</td>\n",
              "    </tr>\n",
              "    <tr>\n",
              "      <th>6</th>\n",
              "      <td>0.333333</td>\n",
              "    </tr>\n",
              "    <tr>\n",
              "      <th>7</th>\n",
              "      <td>0.000000</td>\n",
              "    </tr>\n",
              "    <tr>\n",
              "      <th>10</th>\n",
              "      <td>0.000000</td>\n",
              "    </tr>\n",
              "  </tbody>\n",
              "</table>\n",
              "</div>"
            ],
            "text/plain": [
              "                  Survived\n",
              "RelativesOnboard          \n",
              "0                 0.303538\n",
              "1                 0.552795\n",
              "2                 0.578431\n",
              "3                 0.724138\n",
              "4                 0.200000\n",
              "5                 0.136364\n",
              "6                 0.333333\n",
              "7                 0.000000\n",
              "10                0.000000"
            ]
          },
          "metadata": {},
          "execution_count": 46
        }
      ]
    },
    {
      "cell_type": "markdown",
      "metadata": {
        "id": "Blxc9w21GQqP"
      },
      "source": [
        "People without relatives survived with a 30% rate. Always travel with a relative.</br>Let's do RandomForest once more with this data:"
      ]
    },
    {
      "cell_type": "code",
      "metadata": {
        "colab": {
          "base_uri": "https://localhost:8080/"
        },
        "id": "uJREj8T0HoM8",
        "outputId": "10424991-f68a-4a36-d603-6218269243da"
      },
      "source": [
        "train_data.info()"
      ],
      "execution_count": null,
      "outputs": [
        {
          "output_type": "stream",
          "name": "stdout",
          "text": [
            "<class 'pandas.core.frame.DataFrame'>\n",
            "RangeIndex: 891 entries, 0 to 890\n",
            "Data columns (total 14 columns):\n",
            " #   Column            Non-Null Count  Dtype  \n",
            "---  ------            --------------  -----  \n",
            " 0   PassengerId       891 non-null    int64  \n",
            " 1   Survived          891 non-null    int64  \n",
            " 2   Pclass            891 non-null    int64  \n",
            " 3   Name              891 non-null    object \n",
            " 4   Sex               891 non-null    object \n",
            " 5   Age               714 non-null    float64\n",
            " 6   SibSp             891 non-null    int64  \n",
            " 7   Parch             891 non-null    int64  \n",
            " 8   Ticket            891 non-null    object \n",
            " 9   Fare              891 non-null    float64\n",
            " 10  Cabin             204 non-null    object \n",
            " 11  Embarked          889 non-null    object \n",
            " 12  AgeBracket        714 non-null    float64\n",
            " 13  RelativesOnboard  891 non-null    int64  \n",
            "dtypes: float64(3), int64(6), object(5)\n",
            "memory usage: 97.6+ KB\n"
          ]
        }
      ]
    },
    {
      "cell_type": "code",
      "metadata": {
        "colab": {
          "base_uri": "https://localhost:8080/"
        },
        "id": "fFlLWcCyGKlC",
        "outputId": "2557bd13-9909-47da-988d-08e857ac2b1b"
      },
      "source": [
        "forest_clf = RandomForestClassifier(n_estimators=100, random_state=42)\n",
        "forest_scores = cross_val_score(forest_clf, X_train, y_train, cv=10)\n",
        "forest_scores.mean()"
      ],
      "execution_count": null,
      "outputs": [
        {
          "output_type": "execute_result",
          "data": {
            "text/plain": [
              "0.8092883895131087"
            ]
          },
          "metadata": {},
          "execution_count": 47
        }
      ]
    },
    {
      "cell_type": "markdown",
      "metadata": {
        "id": "gjKoTo3pfB6d"
      },
      "source": [
        "Exercise 4) Spam Classifier:"
      ]
    },
    {
      "cell_type": "markdown",
      "metadata": {
        "id": "aLodXXPNgrKA"
      },
      "source": [
        "First let's download the data from the website, unzip it and get to know it a little better. As before, we write a function for it and specify the download path the folder structure which makes everything easier, cleaner and more robost."
      ]
    },
    {
      "cell_type": "code",
      "metadata": {
        "id": "LdlK1uKaHi-1"
      },
      "source": [
        "import os\n",
        "import urllib.request\n",
        "import tarfile\n",
        "\n",
        "DOWNLOAD_ROOT = \"https://spamassassin.apache.org/old/publiccorpus/\"\n",
        "HAM_URL = DOWNLOAD_ROOT + \"20030228_easy_ham.tar.bz2\"\n",
        "SPAM_URL = DOWNLOAD_ROOT + \"20021010_spam.tar.bz2\"\n",
        "SPAM_PATH = os.path.join(\"datasets\", \"spam\")\n",
        "\n",
        "def fetch_spam_data(ham_url=HAM_URL, spam_url=SPAM_URL, spam_path=SPAM_PATH):\n",
        "  if not os.path.isdir(SPAM_PATH):\n",
        "    os.makedirs(SPAM_PATH)\n",
        "  for filename, url in ((\"ham.tar.bz2\", HAM_URL), (\"spam.tar.bz2\", SPAM_URL)):\n",
        "    file_path = os.path.join(spam_path, filename)\n",
        "    # if file already exists, we don't download it again\n",
        "    if not os.path.isfile(file_path):\n",
        "      urllib.request.urlretrieve(url, file_path)\n",
        "    # extract each file to it's own folder\n",
        "    tar_bz2_file = tarfile.open(file_path)\n",
        "    tar_bz2_file.extractall(spam_path)\n",
        "    tar_bz2_file.close()"
      ],
      "execution_count": 2,
      "outputs": []
    },
    {
      "cell_type": "code",
      "metadata": {
        "id": "LOiaORuTmfd_"
      },
      "source": [
        "fetch_spam_data()"
      ],
      "execution_count": 3,
      "outputs": []
    },
    {
      "cell_type": "code",
      "metadata": {
        "id": "pElPbRLqmh8O"
      },
      "source": [
        "HAM_DIR = os.path.join(SPAM_PATH, \"easy_ham\")\n",
        "SPAM_DIR = os.path.join(SPAM_PATH, \"spam\")\n",
        "ham_filenames = [name for name in sorted(os.listdir(HAM_DIR))]\n",
        "spam_filenames = [name for name in sorted(os.listdir(SPAM_DIR))]"
      ],
      "execution_count": 4,
      "outputs": []
    },
    {
      "cell_type": "markdown",
      "metadata": {
        "id": "eVo3-pMdsWHi"
      },
      "source": [
        "The first file is not actual data, it is some information. feel free to check it out. We'll throw it out now:\n"
      ]
    },
    {
      "cell_type": "code",
      "metadata": {
        "id": "y3zfzYlTsCUY"
      },
      "source": [
        "del spam_filenames[0]\n",
        "del ham_filenames[0]"
      ],
      "execution_count": 5,
      "outputs": []
    },
    {
      "cell_type": "code",
      "metadata": {
        "colab": {
          "base_uri": "https://localhost:8080/"
        },
        "id": "X8pKmwUxrog6",
        "outputId": "15095970-1b13-4173-f0ff-4806bcbc37db"
      },
      "source": [
        "print(\"Ham length: \", len(ham_filenames))\n",
        "print(\"Spam lenght: \", len(spam_filenames))"
      ],
      "execution_count": 6,
      "outputs": [
        {
          "output_type": "stream",
          "name": "stdout",
          "text": [
            "Ham length:  2500\n",
            "Spam lenght:  500\n"
          ]
        }
      ]
    },
    {
      "cell_type": "markdown",
      "metadata": {
        "id": "xUicODRwtuBK"
      },
      "source": [
        "Emails includes more than just email's text (email format contains headers, encoders, etc.). So to handle the emails well we can use python's own email module which is quite handy and there's a great documentation on it:"
      ]
    },
    {
      "cell_type": "code",
      "metadata": {
        "id": "5AEEDY7drxfu"
      },
      "source": [
        "import email\n",
        "import email.policy\n",
        "\n",
        "def load_email(is_spam, filename, spam_path=SPAM_PATH):\n",
        "  dir = \"spam\" if is_spam else \"easy_ham\"\n",
        "  # open the files as binary (because it's not text)\n",
        "  with open(os.path.join(spam_path, dir, filename), \"rb\") as f:\n",
        "        return email.parser.BytesParser(policy=email.policy.default).parse(f)"
      ],
      "execution_count": 16,
      "outputs": []
    },
    {
      "cell_type": "code",
      "metadata": {
        "id": "LBr-EXk84ayD"
      },
      "source": [
        "ham_emails = [load_email(is_spam=False, filename=name) for name in ham_filenames]\n",
        "spam_emails = [load_email(is_spam=True, filename=name) for name in spam_filenames]"
      ],
      "execution_count": 17,
      "outputs": []
    },
    {
      "cell_type": "markdown",
      "metadata": {
        "id": "2BlJV2jEf6U4"
      },
      "source": [
        "The get_content() method loads the text within the email and strip() removes the \\n or other characters from the end of the sentences.<br>Here's a ham:"
      ]
    },
    {
      "cell_type": "code",
      "metadata": {
        "id": "B8-BEbL3590-",
        "colab": {
          "base_uri": "https://localhost:8080/"
        },
        "outputId": "db6cb958-a0a5-41d6-e3c0-c23e5aa964e1"
      },
      "source": [
        "print(ham_emails[1].get_content().strip())"
      ],
      "execution_count": 19,
      "outputs": [
        {
          "output_type": "stream",
          "name": "stdout",
          "text": [
            "Man Threatens Explosion In Moscow \n",
            "\n",
            "Thursday August 22, 2002 1:40 PM\n",
            "MOSCOW (AP) - Security officers on Thursday seized an unidentified man who\n",
            "said he was armed with explosives and threatened to blow up his truck in\n",
            "front of Russia's Federal Security Services headquarters in Moscow, NTV\n",
            "television reported.\n",
            "The officers seized an automatic rifle the man was carrying, then the man\n",
            "got out of the truck and was taken into custody, NTV said. No other details\n",
            "were immediately available.\n",
            "The man had demanded talks with high government officials, the Interfax and\n",
            "ITAR-Tass news agencies said. Ekho Moskvy radio reported that he wanted to\n",
            "talk with Russian President Vladimir Putin.\n",
            "Police and security forces rushed to the Security Service building, within\n",
            "blocks of the Kremlin, Red Square and the Bolshoi Ballet, and surrounded the\n",
            "man, who claimed to have one and a half tons of explosives, the news\n",
            "agencies said. Negotiations continued for about one and a half hours outside\n",
            "the building, ITAR-Tass and Interfax reported, citing witnesses.\n",
            "The man later drove away from the building, under police escort, and drove\n",
            "to a street near Moscow's Olympic Penta Hotel, where authorities held\n",
            "further negotiations with him, the Moscow police press service said. The\n",
            "move appeared to be an attempt by security services to get him to a more\n",
            "secure location. \n",
            "\n",
            "------------------------ Yahoo! Groups Sponsor ---------------------~-->\n",
            "4 DVDs Free +s&p Join Now\n",
            "http://us.click.yahoo.com/pt6YBB/NXiEAA/mG3HAA/7gSolB/TM\n",
            "---------------------------------------------------------------------~->\n",
            "\n",
            "To unsubscribe from this group, send an email to:\n",
            "forteana-unsubscribe@egroups.com\n",
            "\n",
            " \n",
            "\n",
            "Your use of Yahoo! Groups is subject to http://docs.yahoo.com/info/terms/\n"
          ]
        }
      ]
    },
    {
      "cell_type": "markdown",
      "metadata": {
        "id": "my5yoSfNh-KN"
      },
      "source": [
        "And here's a spam:"
      ]
    },
    {
      "cell_type": "code",
      "metadata": {
        "colab": {
          "base_uri": "https://localhost:8080/"
        },
        "id": "wXwEt8T4f0pO",
        "outputId": "e2f0ead1-9ee4-4470-bd7d-87c0147756a5"
      },
      "source": [
        "print(spam_emails[10].get_content().strip())"
      ],
      "execution_count": 20,
      "outputs": [
        {
          "output_type": "stream",
          "name": "stdout",
          "text": [
            "Cellular Phone Accessories All At Below Wholesale Prices!\n",
            "\n",
            "http://202.101.163.34:81/sites/merchant/sales/\n",
            "\n",
            "Hands Free Ear Buds 1.99! \n",
            "Phone Holsters 1.98! \n",
            "Booster Antennas Only $0.99\n",
            "Phone Cases 1.98! \n",
            "Car Chargers 1.98! \n",
            "Face Plates As Low As 0.99! \n",
            "Lithium Ion Batteries As Low As 6.94! \n",
            "\n",
            "http://202.101.163.34:81/sites/merchant/sales/\n",
            "\n",
            "Click Below For Accessories On All NOKIA, MOTOROLA LG, NEXTEL, \n",
            "SAMSUNG, QUALCOMM, ERICSSON, AUDIOVOX PHONES At Below \n",
            "WHOLESALE PRICES!\n",
            "\n",
            "http://202.101.163.34:81/sites/merchant/sales/\n",
            "\n",
            "***If You Need Assistance Please Call Us (732) 751-1457***\n",
            "\n",
            "\n",
            "~~~~~~~~~~~~~~~~~~~~~~~~~~~~~~~~\n",
            "To be removed from future mailings please send your remove \n",
            "request to: removemenow68994@btamail.net.cn \n",
            "Thank You and have a super day :)\n"
          ]
        }
      ]
    },
    {
      "cell_type": "markdown",
      "metadata": {
        "id": "8rIfIotSjI3O"
      },
      "source": [
        "Some emails are just texts, in that case we are good to go. Some other emails contain different parts including images and attachments. Here we are going to define a function to find out how many parts is each email and to define what type of content is in each email. This function is a recursive one as each sub-email may contain more sub-emails.<br><br>\n",
        "isinstance() checks if an object is of the given type then returns a bool.<br>\n",
        "get_payload() gets the payload in parts called \"sub_email\"s.<br>\n",
        "get_email_structure tells us the structure of an email"
      ]
    },
    {
      "cell_type": "code",
      "metadata": {
        "id": "YlK55BsjmeJy"
      },
      "source": [
        "def get_email_structure(email):\n",
        "  if email.is_multipart:\n",
        "    # email contains different parts (sub-emails) or is not text\n",
        "    payload = email.get_payload()\n",
        "    if isinstance(payload, list):\n",
        "      # if there are more than one sub-emails:\n",
        "      return \"multipart({})\".format(\", \".join([\n",
        "        get_email_structure(sub_email) for sub_email in payload\n",
        "      ]))\n",
        "    else:\n",
        "      # if there is only one sub-email:\n",
        "      return email.get_content_type()\n",
        "  else:\n",
        "    # email has a single part (just text)\n",
        "    return email"
      ],
      "execution_count": 34,
      "outputs": []
    },
    {
      "cell_type": "markdown",
      "metadata": {
        "id": "Uv3ZG9lxvPiX"
      },
      "source": [
        "Now that we have a function that tells us how many parts and what type of parts each email has we can make another function that tells us how many emails have only text or how many have text and html or... using the python's Counter:"
      ]
    },
    {
      "cell_type": "code",
      "metadata": {
        "id": "gYjKw1eErYHM"
      },
      "source": [
        "from collections import Counter\n",
        "\n",
        "def structure_counter(emails):\n",
        "  structures = Counter()\n",
        "  for email in emails:\n",
        "    structure = get_email_structure(email)\n",
        "    structures[structure] += 1\n",
        "  return structures"
      ],
      "execution_count": 30,
      "outputs": []
    },
    {
      "cell_type": "markdown",
      "metadata": {
        "id": "2gu3OuGLwZhU"
      },
      "source": [
        "Now let's use Counter's method most_common to see the structures that appear the most in the emails:"
      ]
    },
    {
      "cell_type": "code",
      "metadata": {
        "colab": {
          "base_uri": "https://localhost:8080/"
        },
        "id": "70IJf8zIwYpA",
        "outputId": "712f7c62-0579-4ec2-e49a-947bfe342048"
      },
      "source": [
        "structure_counter(ham_emails).most_common()"
      ],
      "execution_count": 35,
      "outputs": [
        {
          "output_type": "execute_result",
          "data": {
            "text/plain": [
              "[('text/plain', 2408),\n",
              " ('multipart(text/plain, application/pgp-signature)', 66),\n",
              " ('multipart(text/plain, text/html)', 8),\n",
              " ('multipart(text/plain, text/plain)', 4),\n",
              " ('multipart(text/plain)', 3),\n",
              " ('multipart(text/plain, application/octet-stream)', 2),\n",
              " ('multipart(text/plain, text/enriched)', 1),\n",
              " ('multipart(text/plain, application/ms-tnef, text/plain)', 1),\n",
              " ('multipart(multipart(text/plain, text/plain, text/plain), application/pgp-signature)',\n",
              "  1),\n",
              " ('multipart(text/plain, video/mng)', 1),\n",
              " ('multipart(text/plain, multipart(text/plain))', 1),\n",
              " ('multipart(text/plain, application/x-pkcs7-signature)', 1),\n",
              " ('multipart(text/plain, multipart(text/plain, text/plain), text/rfc822-headers)',\n",
              "  1),\n",
              " ('multipart(text/plain, multipart(text/plain, text/plain), multipart(multipart(text/plain, application/x-pkcs7-signature)))',\n",
              "  1),\n",
              " ('multipart(text/plain, application/x-java-applet)', 1)]"
            ]
          },
          "metadata": {},
          "execution_count": 35
        }
      ]
    },
    {
      "cell_type": "code",
      "metadata": {
        "colab": {
          "base_uri": "https://localhost:8080/"
        },
        "id": "y-hebE9XwoUd",
        "outputId": "749e3fa9-da53-4467-d6c8-87908235f8da"
      },
      "source": [
        "structure_counter(spam_emails).most_common()"
      ],
      "execution_count": 36,
      "outputs": [
        {
          "output_type": "execute_result",
          "data": {
            "text/plain": [
              "[('text/plain', 221),\n",
              " ('text/html', 181),\n",
              " ('multipart(text/plain, text/html)', 45),\n",
              " ('multipart(text/html)', 19),\n",
              " ('multipart(text/plain)', 19),\n",
              " ('multipart(multipart(text/html))', 5),\n",
              " ('multipart(text/plain, image/jpeg)', 3),\n",
              " ('multipart(text/html, application/octet-stream)', 2),\n",
              " ('multipart(text/plain, application/octet-stream)', 1),\n",
              " ('multipart(text/html, text/plain)', 1),\n",
              " ('multipart(multipart(text/html), application/octet-stream, image/jpeg)', 1),\n",
              " ('multipart(multipart(text/plain, text/html), image/gif)', 1),\n",
              " ('multipart/alternative', 1)]"
            ]
          },
          "metadata": {},
          "execution_count": 36
        }
      ]
    },
    {
      "cell_type": "markdown",
      "metadata": {
        "id": "QVEvTE6TxVFX"
      },
      "source": [
        "Looking at the structures of the emails we can draw out a few conclusions that might come in handy later:\n",
        "\n",
        "*   hams are mostly text/plain but spams got a noticable amount of HTML in there\n",
        "*   PGP signature appears a lot in hams but it is absent from spams"
      ]
    },
    {
      "cell_type": "markdown",
      "metadata": {
        "id": "AzzQQ1vpyf66"
      },
      "source": [
        "Let's examine the headers more closely and try and find useful information there. First let's see what information is there in a header:"
      ]
    },
    {
      "cell_type": "code",
      "metadata": {
        "colab": {
          "base_uri": "https://localhost:8080/"
        },
        "id": "_6USV-U7xJu9",
        "outputId": "7857303c-b76e-4421-8731-5568c50ea4f2"
      },
      "source": [
        "for header, value in spam_emails[10].items():\n",
        "  print(\"{} : {}\".format(header, value))"
      ],
      "execution_count": 39,
      "outputs": [
        {
          "output_type": "stream",
          "name": "stdout",
          "text": [
            "Return-Path : <hurst@missouri.co.jp>\n",
            "Delivered-To : zzzz@localhost.example.com\n",
            "Received : from localhost (localhost [127.0.0.1])\tby phobos.labs.example.com (Postfix) with ESMTP id 2667B44156\tfor <zzzz@localhost>; Fri, 23 Aug 2002 06:02:51 -0400 (EDT)\n",
            "Received : from mail.webnote.net [193.120.211.219]\tby localhost with POP3 (fetchmail-5.9.0)\tfor zzzz@localhost (single-drop); Fri, 23 Aug 2002 11:02:51 +0100 (IST)\n",
            "Received : from toole.uol.com.br (toole.uol.com.br [200.231.206.186])\tby webnote.net (8.9.3/8.9.3) with ESMTP id WAA06855;\tThu, 22 Aug 2002 22:28:56 +0100\n",
            "From : hurst@missouri.co.jp\n",
            "Received : from activatormail.com ([200.158.104.164])\tby toole.uol.com.br (8.9.1/8.9.1) with SMTP id SAA13079;\tThu, 22 Aug 2002 18:21:49 -0300 (BRT)\n",
            "Message-ID : <000023b8700d$00003a16$00004696@missouri.co.jp>\n",
            "To : hurst@missouri.co.jp\n",
            "Subject : ^^^^^Cell Phone Belt Clips $1.95^^^^^^                           18070\n",
            "Date : Thu, 22 Aug 2002 15:45:31 -0600\n",
            "MIME-Version : 1.0\n",
            "Content-Type : text/plain; charset=\"Windows-1252\"\n",
            "Content-Transfer-Encoding : 7bit\n",
            "X-Priority : 3\n",
            "X-MSMail-Priority : Normal\n",
            "X-Mailer : Microsoft Outlook Express 5.00.2615.200\n",
            "X-MimeOLE : Produced By Microsoft MimeOLE V5.00.2615.200\n"
          ]
        }
      ]
    },
    {
      "cell_type": "markdown",
      "metadata": {
        "id": "_bPI71Tj7dRZ"
      },
      "source": [
        "We can use the Sender's address, date and other information available in the header. Subject seems to be the most prominent infor here and we will focus on this bit of information for now:"
      ]
    },
    {
      "cell_type": "code",
      "metadata": {
        "colab": {
          "base_uri": "https://localhost:8080/",
          "height": 36
        },
        "id": "86_1vmfV7RnP",
        "outputId": "5a412d30-4fba-472b-e0f6-dea8ba6565eb"
      },
      "source": [
        "spam_emails[10][\"Subject\"]"
      ],
      "execution_count": 40,
      "outputs": [
        {
          "output_type": "execute_result",
          "data": {
            "application/vnd.google.colaboratory.intrinsic+json": {
              "type": "string"
            },
            "text/plain": [
              "'^^^^^Cell Phone Belt Clips $1.95^^^^^^                           18070'"
            ]
          },
          "metadata": {},
          "execution_count": 40
        }
      ]
    },
    {
      "cell_type": "markdown",
      "metadata": {
        "id": "ysOFabo08EDs"
      },
      "source": [
        "Let's split the data into train and test set before we find out too much about it with numpy:"
      ]
    },
    {
      "cell_type": "code",
      "metadata": {
        "id": "euyRdXPX77hF"
      },
      "source": [
        "from sklearn.model_selection import train_test_split\n",
        "\n",
        "X = np.array(ham_emails + spam_emails, dtype=object)\n",
        "y = np.array([0] * len(ham_emails) + [1] * len(spam_emails))\n",
        "\n",
        "X_train, X_test, y_train, y_test = train_test_split(X, y, test_size=.2, random_state=42)"
      ],
      "execution_count": 42,
      "outputs": []
    },
    {
      "cell_type": "markdown",
      "metadata": {
        "id": "qjNtHOGg_1ii"
      },
      "source": [
        "Preprocessing:<br>We want to convert the HTML to plain text. The easier better way to do this is to use BeautifulSoup library. For some reason the author of the book did not want to add that library to this section. We are going to follow him in doing so and create a regex function to do it manually although it has some complications explained in a fun way [here](https://stackoverflow.com/a/1732454/38626)."
      ]
    },
    {
      "cell_type": "code",
      "metadata": {
        "id": "VfU15bKa891W"
      },
      "source": [
        "import re\n",
        "from html import unescape\n",
        "\n",
        "def html2plaintext(html):\n",
        "  # dropping the head tag\n",
        "  text = re.sub('<head.*?>.*?</head>', '', html, flags=re.M | re.S | re.I)\n",
        "  # replacing the anchor tag with the word HYPERLINK\n",
        "  text = re.sub('<a\\s.*?>', ' HYPERLINK ', text, flags=re.M | re.S | re.I)\n",
        "  # dropping all other html tags to leave us with only plain text\n",
        "  text = re.sub('<.*?>', '', text, flags=re.M | re.S)\n",
        "  # replacing multiple newlines with a single \\n\n",
        "  text = re.sub(r'(\\s*\\n)+', '\\n', text, flags=re.M | re.S)\n",
        "  # return the text with unescaped characters (like &nbsp , ...)\n",
        "  return unescape(text)"
      ],
      "execution_count": 43,
      "outputs": []
    },
    {
      "cell_type": "markdown",
      "metadata": {
        "id": "WyLw3hgoCgvn"
      },
      "source": [
        "To test it we separate some emails from our train set with html in them and see how our functions treats them:"
      ]
    },
    {
      "cell_type": "code",
      "metadata": {
        "colab": {
          "base_uri": "https://localhost:8080/"
        },
        "id": "sLTXjQETCK3W",
        "outputId": "b391b429-4be5-491c-d778-e1d68e4a2690"
      },
      "source": [
        "html_spam_emails = [email for email in X_train[y_train==1]\n",
        "                    if get_email_structure(email)==\"text/html\"]\n",
        "print(html_spam_emails[50].get_content().strip()[:1000])                    "
      ],
      "execution_count": 49,
      "outputs": [
        {
          "output_type": "stream",
          "name": "stdout",
          "text": [
            "<HTML>\n",
            "<head>\n",
            "<META HTTP-EQUIV=\"Content-Type\" CONTENT=\"text/html;charset=Windows-1252\">\n",
            "<!DOCTYPE HTML PUBLIC \"-//W3C//DTD HTML 4.0 Transitional//EN\">\n",
            "<TITLE>Free Info!</TITLE>\n",
            "<META http-equiv=Content-Type content=\"text/html; charset=windows-1252\">\n",
            "<META content=\"Microsoft FrontPage 4.0\" name=GENERATOR><BASE href=\"http://62.232.161.231/freeinfo/\">\n",
            "<STYLE>\n",
            "</STYLE>\n",
            "</HEAD>\n",
            "<BODY bgColor=#ffffff leftMargin=0 topMargin=0>\n",
            "<TABLE borderColor=#ffa025 cellSpacing=0 cellPadding=0 width=680 align=center \n",
            "bgColor=#f08800 border=2>\n",
            "  <TBODY>\n",
            "  <TR>\n",
            "    <TD>\n",
            "      <TABLE borderColor=#000000 cellSpacing=0 cellPadding=0 width=660 \n",
            "      align=center border=1>\n",
            "        <TBODY>\n",
            "        <TR>\n",
            "          <TD vAlign=top noWrap borderColor=#ffa025 width=350 \n",
            "          background=\"http://62.232.161.231/freeinfo/images/leftside.jpg\">\n",
            "            <P align=center><B><A \n",
            "            name=top><span style=\"letter-spacing: 5\"><u><strong><em><font face=\"Times New Roman\" size=\"7\">FREE</font></em></strong></u></span>\n"
          ]
        }
      ]
    },
    {
      "cell_type": "code",
      "metadata": {
        "colab": {
          "base_uri": "https://localhost:8080/"
        },
        "id": "cs-guCleDjDv",
        "outputId": "720c9afc-cfc9-4ae9-8b43-86623a132273"
      },
      "source": [
        "print(html2plaintext(html_spam_emails[50].get_content().strip())[:1000])"
      ],
      "execution_count": 50,
      "outputs": [
        {
          "output_type": "stream",
          "name": "stdout",
          "text": [
            "\n",
            "             HYPERLINK FREE\n",
            "            The\n",
            "            Insider Stock Market Report\n",
            "            $2400 Value\n",
            "            Get\n",
            "            the latest competitive intelligence, insider knowledge and\n",
            "            deal-sourcing contacts to stay ahead & succeed in this\n",
            "            supercharged market!\n",
            "                  Free\n",
            "                  3 month subscription\n",
            "            Subscribed\n",
            "            to by over 200 investment bankers, venture capitalists, fund\n",
            "            managers, deal-makers and public company CEO & CFO�s\n",
            "              world\n",
            "                market overviews and updates\n",
            "              \"first\n",
            "                seen\" analyst reports\n",
            "              investment\n",
            "                alerts\n",
            "              portfolio\n",
            "                strategies for the 21st century\n",
            "              annual\n",
            "                offshore jurisdiction rankings report\n",
            "                  Get\n",
            "                  the information the professionals profit from $$$\n",
            "                  Fill out the form for \n",
            "            FREE SUBSCRIPTION N\n"
          ]
        }
      ]
    },
    {
      "cell_type": "markdown",
      "metadata": {
        "id": "hxG_KCwpX4kg"
      },
      "source": [
        "We can now create a more general function that returns plain text regardless of the email's content (sort of):"
      ]
    },
    {
      "cell_type": "code",
      "metadata": {
        "id": "q7A2BJizD1Vf"
      },
      "source": [
        "def email2text(email):\n",
        "  html = None\n",
        "  for part in email.walk():\n",
        "    content_type = part.get_content_type()\n",
        "    if not content_type in (\"text/plain\", \"text/html\"):\n",
        "      continue\n",
        "    try:\n",
        "      content = part.get_content()\n",
        "    except: # for weird encodings\n",
        "      content = str(part.get_payload())\n",
        "    if content_type == \"text/plain\":\n",
        "      return content\n",
        "    else:\n",
        "      html = content\n",
        "  if html:\n",
        "    return html2plaintext(html)\n"
      ],
      "execution_count": 53,
      "outputs": []
    },
    {
      "cell_type": "code",
      "metadata": {
        "colab": {
          "base_uri": "https://localhost:8080/"
        },
        "id": "Wxazv4SUZyG-",
        "outputId": "281a8ec0-688f-451a-c96d-f1a05a52f7d3"
      },
      "source": [
        "print(email2text(html_spam_emails[42])[:1000])"
      ],
      "execution_count": 57,
      "outputs": [
        {
          "output_type": "stream",
          "name": "stdout",
          "text": [
            "\n",
            "      Fortunes are literally being made in this great new\n",
            "        marketplace!\n",
            "      Over $9 Billion in merchandise\n",
            "        was sold on eBay in 2001 by people just like you - right from\n",
            "        their homes!\n",
            "      Now you too can learn the secrets of successful selling\n",
            "        on eBay and make a staggering income from the comfort\n",
            "        of your own home. If you are motivated, capable of having\n",
            "        an open mind, and can follow simple directions, then  HYPERLINK visit\n",
            "        us here. If server busy -  HYPERLINK alternate.\n",
            "       We are strongly against sending unsolicited\n",
            "        emails to those who do not wish to receive our special mailings. You have\n",
            "        opted in to one or more of our affiliate sites requesting to be notified\n",
            "        of any special offers we may run from time to time. We also have attained\n",
            "        the services of an independent 3rd party to overlook list management and\n",
            "        removal services. This is NOT unsolicited email. If you do not wish to\n",
            "        rece\n"
          ]
        }
      ]
    },
    {
      "cell_type": "markdown",
      "metadata": {
        "id": "Fc_-whvQem5U"
      },
      "source": [
        "For further pre-processing we are going to use NLTK library for stemming:\n"
      ]
    },
    {
      "cell_type": "code",
      "metadata": {
        "colab": {
          "base_uri": "https://localhost:8080/"
        },
        "id": "JvCfH3TieQ0H",
        "outputId": "b488dfc6-bc1d-4fad-c232-8f75a26dfadc"
      },
      "source": [
        "%pip install nltk"
      ],
      "execution_count": 58,
      "outputs": [
        {
          "output_type": "stream",
          "name": "stdout",
          "text": [
            "Requirement already satisfied: nltk in /usr/local/lib/python3.7/dist-packages (3.2.5)\n",
            "Requirement already satisfied: six in /usr/local/lib/python3.7/dist-packages (from nltk) (1.15.0)\n"
          ]
        }
      ]
    },
    {
      "cell_type": "code",
      "metadata": {
        "colab": {
          "base_uri": "https://localhost:8080/"
        },
        "id": "LacTz49few4T",
        "outputId": "e87dc596-3268-471a-9c4b-0189b41e7281"
      },
      "source": [
        "import nltk\n",
        "\n",
        "print(\"Stemming example:\")\n",
        "stemmer = nltk.PorterStemmer()\n",
        "for word in (\"assert\", \"asserting\", \"assersion\", \"asserted\"):\n",
        "  print(word + \" ===> \" + stemmer.stem(word))"
      ],
      "execution_count": 59,
      "outputs": [
        {
          "output_type": "stream",
          "name": "stdout",
          "text": [
            "Stemming example:\n",
            "assert ===> assert\n",
            "asserting ===> assert\n",
            "assersion ===> assers\n",
            "asserted ===> assert\n"
          ]
        }
      ]
    },
    {
      "cell_type": "markdown",
      "metadata": {
        "id": "MIzB0YoigXYQ"
      },
      "source": [
        "We do also need to replace urls with \"URL\" which can be performed with regex or yet easier with the urlextract library."
      ]
    },
    {
      "cell_type": "code",
      "metadata": {
        "colab": {
          "base_uri": "https://localhost:8080/"
        },
        "id": "CoNRWWeYf5X1",
        "outputId": "c8434bed-94b4-4bcd-c08e-257b77d93b7d"
      },
      "source": [
        "%pip install urlextract"
      ],
      "execution_count": 60,
      "outputs": [
        {
          "output_type": "stream",
          "name": "stdout",
          "text": [
            "Collecting urlextract\n",
            "  Downloading urlextract-1.4.0-py3-none-any.whl (20 kB)\n",
            "Requirement already satisfied: idna in /usr/local/lib/python3.7/dist-packages (from urlextract) (2.10)\n",
            "Requirement already satisfied: appdirs in /usr/local/lib/python3.7/dist-packages (from urlextract) (1.4.4)\n",
            "Requirement already satisfied: filelock in /usr/local/lib/python3.7/dist-packages (from urlextract) (3.3.0)\n",
            "Collecting uritools\n",
            "  Downloading uritools-3.0.2-py3-none-any.whl (12 kB)\n",
            "Installing collected packages: uritools, urlextract\n",
            "Successfully installed uritools-3.0.2 urlextract-1.4.0\n"
          ]
        }
      ]
    },
    {
      "cell_type": "code",
      "metadata": {
        "colab": {
          "base_uri": "https://localhost:8080/"
        },
        "id": "l1ZJofghgl2V",
        "outputId": "a18485bb-9bfb-4013-95ae-4d4a40ecef24"
      },
      "source": [
        "import urlextract\n",
        "\n",
        "url_extractor = urlextract.URLExtract()\n",
        "# it will output the link if it finds it\n",
        "print(url_extractor.find_urls(\"This is string that contains a url somewhere in\"\n",
        "  \"it https://app.thestorygraph.com/books/d951bf9b-ec6c-4763-883b-fc63fe81fc9b\"))"
      ],
      "execution_count": 66,
      "outputs": [
        {
          "output_type": "stream",
          "name": "stdout",
          "text": [
            "['https://app.thestorygraph.com/books/d951bf9b-ec6c-4763-883b-fc63fe81fc9b']\n"
          ]
        }
      ]
    },
    {
      "cell_type": "markdown",
      "metadata": {
        "id": "R4GUKOFvih9x"
      },
      "source": [
        "Let's pull it all together to make a transformer:"
      ]
    },
    {
      "cell_type": "code",
      "metadata": {
        "id": "CZKLKDg_hiDw"
      },
      "source": [
        ""
      ],
      "execution_count": null,
      "outputs": []
    }
  ]
}