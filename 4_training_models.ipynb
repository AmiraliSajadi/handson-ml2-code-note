{
  "nbformat": 4,
  "nbformat_minor": 0,
  "metadata": {
    "colab": {
      "name": "4_training_models.ipynb",
      "provenance": [],
      "collapsed_sections": [],
      "authorship_tag": "ABX9TyMsTET/RHkCK5A762foNmyP",
      "include_colab_link": true
    },
    "kernelspec": {
      "name": "python3",
      "display_name": "Python 3"
    },
    "language_info": {
      "name": "python"
    }
  },
  "cells": [
    {
      "cell_type": "markdown",
      "metadata": {
        "id": "view-in-github",
        "colab_type": "text"
      },
      "source": [
        "<a href=\"https://colab.research.google.com/github/AmiraliSajadi/handson-ml2-code-note/blob/main/4_training_models.ipynb\" target=\"_parent\"><img src=\"https://colab.research.google.com/assets/colab-badge.svg\" alt=\"Open In Colab\"/></a>"
      ]
    },
    {
      "cell_type": "markdown",
      "metadata": {
        "id": "-fiUhRv_tYQW"
      },
      "source": [
        "# Chapter 4 - Training models\n",
        "Knowing the math behind the different models or at least, knowing how they work can prove to be beneficial in that it helps you find the right model, right training algorithm and the right set of hyperparameters quicker and makes debugging and analysing errors much smoother for you.<br>\n",
        "We are going to take a look at a few different models: Linear regression, Polynominal regression, Logistic regression and Softmax regression."
      ]
    },
    {
      "cell_type": "markdown",
      "metadata": {
        "id": "vn6YDz1eyD5I"
      },
      "source": [
        "## Setup"
      ]
    },
    {
      "cell_type": "code",
      "metadata": {
        "id": "QWht4W-PxwZX"
      },
      "source": [
        "import numpy as np\n",
        "\n",
        "%matplotlib inline\n",
        "import matplotlib as mpl\n",
        "import matplotlib.pyplot as plt\n",
        "mpl.rc('axes', labelsize=14)\n",
        "mpl.rc('xtick', labelsize=12)\n",
        "mpl.rc('ytick', labelsize=12)"
      ],
      "execution_count": null,
      "outputs": []
    },
    {
      "cell_type": "markdown",
      "metadata": {
        "id": "aV8fQS5Hye2m"
      },
      "source": [
        "## Linear Regression\n",
        "**Normal Equation**: is the equation that helps us find the best theta directly<br>\n",
        "To see how well it works we'll make a plot using a random linear function with some noise and then try to figure out the hyperparameters using the Normal Equation an see how well it performs.<br>\n",
        "Remeber  that we write most vectors as column vectors. The dimensions here are generally worth more consideration so that you'd understand them well (refer to the book).\n"
      ]
    },
    {
      "cell_type": "code",
      "metadata": {
        "id": "fyX732SlydR1"
      },
      "source": [
        "# let's have 100 instances\n",
        "X = 3 * np.random.rand(100, 1)\n",
        "# add the random noise at the end to the y:\n",
        "y = 3 + 4 * X + np.random.rand(100, 1)"
      ],
      "execution_count": null,
      "outputs": []
    },
    {
      "cell_type": "code",
      "metadata": {
        "colab": {
          "base_uri": "https://localhost:8080/",
          "height": 288
        },
        "id": "QX2mcFQdz_al",
        "outputId": "dc6a4c1a-34ad-4ead-9081-fa861df9cda0"
      },
      "source": [
        "plt.plot(X, y, \"r.\")\n",
        "plt.xlabel(\"$x_1$\", fontsize=16)\n",
        "plt.ylabel(\"$y$\", rotation=0, fontsize=16)\n",
        "plt.axis([0, 2, 0, 15])\n",
        "plt.show()"
      ],
      "execution_count": null,
      "outputs": [
        {
          "output_type": "display_data",
          "data": {
            "image/png": "[encoded data removed]",
            "text/plain": [
              "<Figure size 432x288 with 1 Axes>"
            ]
          },
          "metadata": {
            "needs_background": "light"
          }
        }
      ]
    },
    {
      "cell_type": "markdown",
      "metadata": {
        "id": "UY-zjjM810K8"
      },
      "source": [
        "Let's go ahead and compute an approximation for "
      ]
    },
    {
      "cell_type": "code",
      "metadata": {
        "id": "UbjCw5jj03sV"
      },
      "source": [
        "# to use x we first add a 1 to each instance for the constant\n",
        "X_b = np.c_[np.ones((100, 1)), X]\n",
        "# Normal Equation:\n",
        "theta = np.linalg.inv(X_b.T.dot(X_b)).dot(X_b.T).dot(y)"
      ],
      "execution_count": null,
      "outputs": []
    },
    {
      "cell_type": "code",
      "metadata": {
        "colab": {
          "base_uri": "https://localhost:8080/"
        },
        "id": "hgImkPcn3SWl",
        "outputId": "4ba83eba-b70d-4b7a-e55f-99f003f19c48"
      },
      "source": [
        "theta"
      ],
      "execution_count": null,
      "outputs": [
        {
          "output_type": "execute_result",
          "data": {
            "text/plain": [
              "array([[3.54072428],\n",
              "       [3.9921132 ]])"
            ]
          },
          "metadata": {},
          "execution_count": 5
        }
      ]
    },
    {
      "cell_type": "markdown",
      "metadata": {
        "id": "4w751cRj3Zjq"
      },
      "source": [
        "The right answers were 3 & 4 but we got 3.6 and 3.9 which is acceptable. We can make a couple more predictions and put a line through them to have a visual sense of our predictions' accuracy:"
      ]
    },
    {
      "cell_type": "code",
      "metadata": {
        "colab": {
          "base_uri": "https://localhost:8080/"
        },
        "id": "m0sspPX73Ue8",
        "outputId": "e3a159d2-e2ae-48af-c7ac-1c16691f62af"
      },
      "source": [
        "X_new = np.array([[0], [2]])\n",
        "X_new_b = np.c_[np.ones((2, 1)), X_new]\n",
        "y_predict = X_new_b.dot(theta)\n",
        "y_predict"
      ],
      "execution_count": null,
      "outputs": [
        {
          "output_type": "execute_result",
          "data": {
            "text/plain": [
              "array([[ 3.54072428],\n",
              "       [11.52495068]])"
            ]
          },
          "metadata": {},
          "execution_count": 6
        }
      ]
    },
    {
      "cell_type": "code",
      "metadata": {
        "colab": {
          "base_uri": "https://localhost:8080/",
          "height": 289
        },
        "id": "dPoDryVu5b4k",
        "outputId": "0fa8cdff-ad1b-47f7-8ee3-366d8d869a19"
      },
      "source": [
        "plt.plot(X_new, y_predict, \"b-\", linewidth=2, label=\"Predictions\")\n",
        "plt.plot(X, y, \"r.\")\n",
        "plt.xlabel(\"$X_1$\", rotation=0, fontsize=14)\n",
        "plt.ylabel(\"$y_1$\", rotation=0, fontsize=14)\n",
        "plt.axis([0, 2, 0, 15])\n",
        "plt.show()"
      ],
      "execution_count": null,
      "outputs": [
        {
          "output_type": "display_data",
          "data": {
            "image/png": "[encoded data removed]",
            "text/plain": [
              "<Figure size 432x288 with 1 Axes>"
            ]
          },
          "metadata": {
            "needs_background": "light"
          }
        }
      ]
    },
    {
      "cell_type": "markdown",
      "metadata": {
        "id": "1x_U5tc8oPjs"
      },
      "source": [
        "You can perform linear regression with scikit-learn as well and it's quite easy. The calculations themselves differ in scikit-learn from what we have just done and that's briefly explained in pages 116-117 of the book, but here's the code:"
      ]
    },
    {
      "cell_type": "code",
      "metadata": {
        "id": "kXlakH1W6bmU",
        "colab": {
          "base_uri": "https://localhost:8080/"
        },
        "outputId": "144ed071-88d0-4277-8996-0eb5232cf393"
      },
      "source": [
        "from sklearn.linear_model import LinearRegression\n",
        "\n",
        "lin_reg = LinearRegression()\n",
        "lin_reg.fit(X, y)\n",
        "# Here are the two terms calculated approximately\n",
        "lin_reg.intercept_, lin_reg.coef_"
      ],
      "execution_count": null,
      "outputs": [
        {
          "output_type": "execute_result",
          "data": {
            "text/plain": [
              "(array([3.54072428]), array([[3.9921132]]))"
            ]
          },
          "metadata": {},
          "execution_count": 8
        }
      ]
    },
    {
      "cell_type": "markdown",
      "metadata": {
        "id": "UzSTebkEqPjh"
      },
      "source": [
        "Same results. Now let's try to predict again:"
      ]
    },
    {
      "cell_type": "code",
      "metadata": {
        "colab": {
          "base_uri": "https://localhost:8080/"
        },
        "id": "6URGjmSDpI08",
        "outputId": "6d700f0f-afc1-4039-9d9f-5d1ae2de6232"
      },
      "source": [
        "lin_reg.predict(X_new)"
      ],
      "execution_count": null,
      "outputs": [
        {
          "output_type": "execute_result",
          "data": {
            "text/plain": [
              "array([[ 3.54072428],\n",
              "       [11.52495068]])"
            ]
          },
          "metadata": {},
          "execution_count": 9
        }
      ]
    },
    {
      "cell_type": "markdown",
      "metadata": {
        "id": "JDe8Qh8Gqz6G"
      },
      "source": [
        "Scikit-learn's method involves using a technique called SVD which reduces the computational complexity from O^2.4-O^3 in normal equation to O^2 which is a significant difference. Although this is a big improvement, O^2 is still not very efficient but since both algorithms are linear with regard to memory complexity, they both handle big data sets with grace and an acceptable performance (plus after being trained they are pretty fast with making predictions!)."
      ]
    },
    {
      "cell_type": "markdown",
      "metadata": {
        "id": "WUG8ye5msDIb"
      },
      "source": [
        "**Gradient Descent:** is the other way to train linear regression. Here's an implementation of batch gradient descent based on the formulas:"
      ]
    },
    {
      "cell_type": "code",
      "metadata": {
        "id": "rEEb4jM6qXh8"
      },
      "source": [
        "theta_path_bgd = []\n",
        "\n",
        "eta = 0.1 # Learning rate\n",
        "n_iterations = 1000\n",
        "m = 100 # number of instances in training set\n",
        "\n",
        "# We also need to initialize the theta to a random value\n",
        "theta = np.random.rand(2, 1)\n",
        "\n",
        "for iteration in range(n_iterations):\n",
        "  gradient = 2/m * X_b.T.dot(X_b.dot(theta) - y)\n",
        "  theta = theta - eta * gradient"
      ],
      "execution_count": 45,
      "outputs": []
    },
    {
      "cell_type": "code",
      "metadata": {
        "colab": {
          "base_uri": "https://localhost:8080/"
        },
        "id": "URmz3ivWEvw7",
        "outputId": "309ae919-3c60-4ee6-9b2a-f8f5052e3583"
      },
      "source": [
        "theta"
      ],
      "execution_count": null,
      "outputs": [
        {
          "output_type": "execute_result",
          "data": {
            "text/plain": [
              "array([[3.54072428],\n",
              "       [3.9921132 ]])"
            ]
          },
          "metadata": {},
          "execution_count": 11
        }
      ]
    },
    {
      "cell_type": "markdown",
      "metadata": {
        "id": "bPqmca7mSlj7"
      },
      "source": [
        "To find the ideal learning rate you can use a grid search and limit the number of itterations (beacause of time). To find the right number of itterations, one solution is to set it to something really high and then stop the process as the norm of gradient descent becomes smaller than a tiny number (almost becomming minimum)."
      ]
    },
    {
      "cell_type": "markdown",
      "metadata": {
        "id": "mb1NmJi5Xb-r"
      },
      "source": [
        "**Stochastic Gradient Descent**: Things to remember:\n",
        "\n",
        "\n",
        "*   It trains the model on a single random instance each itteration\n",
        "*   It is therefore much faster\n",
        "*   It is therefore more random\n",
        "*   It's final product is usually good but not optimal\n",
        "*   It's better at finding global minimum and getting out of local minima\n",
        "*   We can use a technique called simulated annealing with wich we reduce the learning rate over time. Learning rate starts big and when we find the global min we start to reduce it. The function that determines learning rate is called learning schedule. It is crusial to reduce the learning rate at the right time and to the right amount to avoid getting stuck in local minima or never setteling for optimal minimum.\n",
        "\n",
        "Here's the implementation of Stochastic Gradient Descent with a simple learning schedule:\n",
        "\n"
      ]
    },
    {
      "cell_type": "code",
      "metadata": {
        "id": "76IxKjT7gtxv"
      },
      "source": [
        "theta_path_sgd = []\n",
        "m = len(X_b)\n",
        "np.random.seed(42)"
      ],
      "execution_count": null,
      "outputs": []
    },
    {
      "cell_type": "code",
      "metadata": {
        "id": "f87s3igPFUz5",
        "colab": {
          "base_uri": "https://localhost:8080/",
          "height": 290
        },
        "outputId": "aa2810c5-a9d7-4502-dcee-50a411bddbb0"
      },
      "source": [
        "n_epochs = 50\n",
        "t0, t1 = 5, 50  # learning schedule hyperparameters\n",
        "\n",
        "def learning_schedule(t):\n",
        "  return t0 / (t1 + t)\n",
        "\n",
        "theta = np.random.randn(2, 1)  # random initialization of theta\n",
        "\n",
        "for epoch in range(n_epochs):\n",
        "  for i in range(m):\n",
        "    if epoch == 0 and i < 10:\n",
        "      # in this if look we visualize the first few lines we create. pretty cool\n",
        "      y_predict = X_new_b.dot(theta)\n",
        "      style = \"b-\" if i > 0 else \"r--\"\n",
        "      plt.plot(X_new, y_predict, style)\n",
        "    random_index = np.random.randint(m)\n",
        "    xi = X_b[random_index:random_index+1]\n",
        "    yi = y[random_index:random_index+1]\n",
        "    gradients = 2 * xi.T.dot(xi.dot(theta) - yi)\n",
        "    eta = learning_schedule(epoch * m + i)\n",
        "    theta = theta - eta * gradients\n",
        "    theta_path_sgd.append(theta)\n",
        "\n",
        "plt.plot(X, y, \"b.\")\n",
        "plt.xlabel(\"$x_1$\", fontsize=18)\n",
        "plt.ylabel(\"$y_1$\", fontsize=18)\n",
        "plt.axis([0, 2, 0, 15])\n",
        "plt.show()"
      ],
      "execution_count": null,
      "outputs": [
        {
          "output_type": "display_data",
          "data": {
            "image/png": "[encoded data removed]",
            "text/plain": [
              "<Figure size 432x288 with 1 Axes>"
            ]
          },
          "metadata": {
            "needs_background": "light"
          }
        }
      ]
    },
    {
      "cell_type": "code",
      "metadata": {
        "colab": {
          "base_uri": "https://localhost:8080/"
        },
        "id": "9Wg8Lp0MiVfh",
        "outputId": "ec6cc26e-5c22-4dbb-c7a8-f6c712cb84be"
      },
      "source": [
        "theta"
      ],
      "execution_count": null,
      "outputs": [
        {
          "output_type": "execute_result",
          "data": {
            "text/plain": [
              "array([[3.59297886],\n",
              "       [3.94655759]])"
            ]
          },
          "metadata": {},
          "execution_count": 34
        }
      ]
    },
    {
      "cell_type": "markdown",
      "metadata": {
        "id": "sIwb8XMimF_o"
      },
      "source": [
        "How to do it with scikit-learn? easy:<br>SGDRegressor class defaults to optimizing the squared error cost function until you hit the max number of itterations or the cost drops below the specified tolerance using the eta initially equal to 0.1 which changes with the default learning schedule (penalty is for regularization and we'll get back to it later):"
      ]
    },
    {
      "cell_type": "code",
      "metadata": {
        "colab": {
          "base_uri": "https://localhost:8080/"
        },
        "id": "K2rEzm4cj-jQ",
        "outputId": "deb3fc30-d44e-438c-b155-bc38b4ef31d4"
      },
      "source": [
        "from sklearn.linear_model import SGDRegressor\n",
        "\n",
        "sgd_reg = SGDRegressor(max_iter=1000, tol=1e-3, penalty=None, eta0=0.1, random_state=42)\n",
        "sgd_reg.fit(X, y.ravel())"
      ],
      "execution_count": null,
      "outputs": [
        {
          "output_type": "execute_result",
          "data": {
            "text/plain": [
              "SGDRegressor(alpha=0.0001, average=False, early_stopping=False, epsilon=0.1,\n",
              "             eta0=0.1, fit_intercept=True, l1_ratio=0.15,\n",
              "             learning_rate='invscaling', loss='squared_loss', max_iter=1000,\n",
              "             n_iter_no_change=5, penalty=None, power_t=0.25, random_state=42,\n",
              "             shuffle=True, tol=0.001, validation_fraction=0.1, verbose=0,\n",
              "             warm_start=False)"
            ]
          },
          "metadata": {},
          "execution_count": 36
        }
      ]
    },
    {
      "cell_type": "code",
      "metadata": {
        "colab": {
          "base_uri": "https://localhost:8080/"
        },
        "id": "-H46DkoInZ9R",
        "outputId": "940affd1-4d77-4c17-c7fc-bda5ec7afd84"
      },
      "source": [
        "sgd_reg.intercept_, sgd_reg.coef_"
      ],
      "execution_count": null,
      "outputs": [
        {
          "output_type": "execute_result",
          "data": {
            "text/plain": [
              "(array([3.57258563]), array([3.94737351]))"
            ]
          },
          "metadata": {},
          "execution_count": 37
        }
      ]
    },
    {
      "cell_type": "markdown",
      "metadata": {
        "id": "0NAQpwIavj50"
      },
      "source": [
        "**Mni-batch gradient descent**: Trains on a portion of the training set in each iterations and as a result is much closer to the optimal minimum than SGC but not as good as batch GD. It also can take advantage of the hardware optimization (specially when using GPUs) that SGD just can't.<br>Here's the implementation:"
      ]
    },
    {
      "cell_type": "code",
      "metadata": {
        "id": "I_G9LifXnjQW"
      },
      "source": [
        "theta_path_mgd = []\n",
        "\n",
        "n_iterations = 50\n",
        "minibatch_size = 20\n",
        "\n",
        "np.random.seed(42)\n",
        "theta = np.random.randn(2, 1) # theta random initialization\n",
        "\n",
        "t0, t1 = 200, 1000\n",
        "def learning_schedule(t):\n",
        "  return t0 / (t1 + t)\n",
        "\n",
        "t = 0\n",
        "for epoch in range(n_iterations):\n",
        "  shuffled_indices = np.random.permutation(m)\n",
        "  X_b_shuffled = X_b[shuffled_indices]\n",
        "  y_shuffled = y[shuffled_indices]\n",
        "  for i in range(0, m, minibatch_size):\n",
        "    t += 1\n",
        "    xi = X_b_shuffled[i:i+minibatch_size]\n",
        "    yi = y_shuffled[i:i+minibatch_size]\n",
        "    gradients = 2/minibatch_size * xi.T.dot(xi.dot(theta) - yi)\n",
        "    eta = learning_schedule(t)\n",
        "    theta = theta - eta * gradients\n",
        "    theta_path_mgd.append(theta)"
      ],
      "execution_count": null,
      "outputs": []
    },
    {
      "cell_type": "markdown",
      "metadata": {
        "id": "KZQdAmI2z8JF"
      },
      "source": [
        "Here's a comparison between SGC and BGD, visualized for each step:"
      ]
    },
    {
      "cell_type": "code",
      "metadata": {
        "colab": {
          "base_uri": "https://localhost:8080/"
        },
        "id": "iJkrLt5xyhmC",
        "outputId": "20465fcf-ff5f-4a87-9432-4a8bae5138a5"
      },
      "source": [
        "theta"
      ],
      "execution_count": null,
      "outputs": [
        {
          "output_type": "execute_result",
          "data": {
            "text/plain": [
              "array([[3.58579757],\n",
              "       [3.928714  ]])"
            ]
          },
          "metadata": {},
          "execution_count": 41
        }
      ]
    },
    {
      "cell_type": "code",
      "metadata": {
        "id": "H18wBwKDyjwq"
      },
      "source": [
        "theta_path_sgd = np.array(theta_path_sgd)\n",
        "theta_path_mgd = np.array(theta_path_mgd)"
      ],
      "execution_count": 46,
      "outputs": []
    },
    {
      "cell_type": "code",
      "metadata": {
        "id": "tipFjCZSynnC",
        "colab": {
          "base_uri": "https://localhost:8080/",
          "height": 300
        },
        "outputId": "e9da9c8f-2e65-47f3-a7c1-c798b6409414"
      },
      "source": [
        "plt.figure(figsize=(7,4))\n",
        "plt.plot(theta_path_sgd[:, 0], theta_path_sgd[:, 1], \"r-s\", linewidth=1, label=\"Stochastic\")\n",
        "plt.plot(theta_path_mgd[:, 0], theta_path_mgd[:, 1], \"g-+\", linewidth=2, label=\"Mini-batch\")\n",
        "plt.legend(loc=\"lower right\", fontsize=16)\n",
        "plt.xlabel(r\"$\\theta_0$\", fontsize=20)\n",
        "plt.ylabel(r\"$\\theta_1$   \", fontsize=20, rotation=0)\n",
        "plt.axis([2.5, 4, 2.3, 5])\n",
        "plt.show()"
      ],
      "execution_count": 51,
      "outputs": [
        {
          "output_type": "display_data",
          "data": {
            "image/png": "[encoded data removed]",
            "text/plain": [
              "<Figure size 504x288 with 1 Axes>"
            ]
          },
          "metadata": {
            "needs_background": "light"
          }
        }
      ]
    },
    {
      "cell_type": "code",
      "metadata": {
        "id": "rMp8iNXMzuXz"
      },
      "source": [
        ""
      ],
      "execution_count": null,
      "outputs": []
    }
  ]
}