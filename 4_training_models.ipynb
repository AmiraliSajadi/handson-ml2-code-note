{
  "nbformat": 4,
  "nbformat_minor": 0,
  "metadata": {
    "colab": {
      "name": "4_training_models.ipynb",
      "provenance": [],
      "collapsed_sections": [],
      "authorship_tag": "ABX9TyMtL38nhK13Fz8yBSlrfuCM",
      "include_colab_link": true
    },
    "kernelspec": {
      "name": "python3",
      "display_name": "Python 3"
    },
    "language_info": {
      "name": "python"
    }
  },
  "cells": [
    {
      "cell_type": "markdown",
      "metadata": {
        "id": "view-in-github",
        "colab_type": "text"
      },
      "source": [
        "<a href=\"https://colab.research.google.com/github/AmiraliSajadi/handson-ml2-code-note/blob/main/4_training_models.ipynb\" target=\"_parent\"><img src=\"https://colab.research.google.com/assets/colab-badge.svg\" alt=\"Open In Colab\"/></a>"
      ]
    },
    {
      "cell_type": "markdown",
      "metadata": {
        "id": "-fiUhRv_tYQW"
      },
      "source": [
        "# Chapter 4 - Training models\n",
        "Knowing the math behind the different models or at least, knowing how they work can prove to be beneficial in that it helps you find the right model, right training algorithm and the right set of hyperparameters quicker and makes debugging and analysing errors much smoother for you.<br>\n",
        "We are going to take a look at a few different models: Linear regression, Polynominal regression, Logistic regression and Softmax regression."
      ]
    },
    {
      "cell_type": "markdown",
      "metadata": {
        "id": "vn6YDz1eyD5I"
      },
      "source": [
        "## Setup"
      ]
    },
    {
      "cell_type": "code",
      "metadata": {
        "id": "QWht4W-PxwZX"
      },
      "source": [
        "import numpy as np\n",
        "\n",
        "%matplotlib inline\n",
        "import matplotlib as mpl\n",
        "import matplotlib.pyplot as plt\n",
        "mpl.rc('axes', labelsize=14)\n",
        "mpl.rc('xtick', labelsize=12)\n",
        "mpl.rc('ytick', labelsize=12)"
      ],
      "execution_count": 1,
      "outputs": []
    },
    {
      "cell_type": "markdown",
      "metadata": {
        "id": "aV8fQS5Hye2m"
      },
      "source": [
        "## Linear Regression\n",
        "**Normal Equation**: is the equation that helps us find the best theta directly<br>\n",
        "To see how well it works we'll make a plot using a random linear function with some noise and then try to figure out the hyperparameters using the Normal Equation an see how well it performs.<br>\n",
        "Remeber  that we write most vectors as column vectors. The dimensions here are generally worth more consideration so that you'd understand them well (refer to the book).\n"
      ]
    },
    {
      "cell_type": "code",
      "metadata": {
        "id": "fyX732SlydR1"
      },
      "source": [
        "# let's have 100 instances\n",
        "X = 3 * np.random.rand(100, 1)\n",
        "# add the random noise at the end to the y:\n",
        "y = 3 + 4 * X + np.random.rand(100, 1)"
      ],
      "execution_count": 2,
      "outputs": []
    },
    {
      "cell_type": "code",
      "metadata": {
        "colab": {
          "base_uri": "https://localhost:8080/",
          "height": 288
        },
        "id": "QX2mcFQdz_al",
        "outputId": "78d2f48e-a53a-406f-a694-1cb1bedac4cb"
      },
      "source": [
        "plt.plot(X, y, \"r.\")\n",
        "plt.xlabel(\"$x_1$\", fontsize=16)\n",
        "plt.ylabel(\"$y$\", rotation=0, fontsize=16)\n",
        "plt.axis([0, 2, 0, 15])\n",
        "plt.show()"
      ],
      "execution_count": 3,
      "outputs": [
        {
          "output_type": "display_data",
          "data": {
            "image/png": "[encoded data removed]",
            "text/plain": [
              "<Figure size 432x288 with 1 Axes>"
            ]
          },
          "metadata": {
            "needs_background": "light"
          }
        }
      ]
    },
    {
      "cell_type": "markdown",
      "metadata": {
        "id": "UY-zjjM810K8"
      },
      "source": [
        "Let's go ahead and compute an approximation for "
      ]
    },
    {
      "cell_type": "code",
      "metadata": {
        "id": "UbjCw5jj03sV"
      },
      "source": [
        "# to use x we first add a 1 to each instance for the constant\n",
        "X_b = np.c_[np.ones((100, 1)), X]\n",
        "# Normal Equation:\n",
        "theta = np.linalg.inv(X_b.T.dot(X_b)).dot(X_b.T).dot(y)"
      ],
      "execution_count": 4,
      "outputs": []
    },
    {
      "cell_type": "code",
      "metadata": {
        "colab": {
          "base_uri": "https://localhost:8080/"
        },
        "id": "hgImkPcn3SWl",
        "outputId": "6ac8cec4-9854-4ea8-81bd-c4ecd00cee80"
      },
      "source": [
        "theta"
      ],
      "execution_count": 5,
      "outputs": [
        {
          "output_type": "execute_result",
          "data": {
            "text/plain": [
              "array([[3.54476872],\n",
              "       [3.96875854]])"
            ]
          },
          "metadata": {},
          "execution_count": 5
        }
      ]
    },
    {
      "cell_type": "markdown",
      "metadata": {
        "id": "4w751cRj3Zjq"
      },
      "source": [
        "The right answers were 3 & 4 but we got 3.6 and 3.9 which is acceptable. We can make a couple more predictions and put a line through them to have a visual sense of our predictions' accuracy:"
      ]
    },
    {
      "cell_type": "code",
      "metadata": {
        "colab": {
          "base_uri": "https://localhost:8080/"
        },
        "id": "m0sspPX73Ue8",
        "outputId": "9a3f60a9-949e-485a-ff2b-9266b051464b"
      },
      "source": [
        "X_new = np.array([[0], [2]])\n",
        "X_new_b = np.c_[np.ones((2, 1)), X_new]\n",
        "y_predict = X_new_b.dot(theta)\n",
        "y_predict"
      ],
      "execution_count": 6,
      "outputs": [
        {
          "output_type": "execute_result",
          "data": {
            "text/plain": [
              "array([[ 3.54476872],\n",
              "       [11.48228579]])"
            ]
          },
          "metadata": {},
          "execution_count": 6
        }
      ]
    },
    {
      "cell_type": "code",
      "metadata": {
        "colab": {
          "base_uri": "https://localhost:8080/",
          "height": 289
        },
        "id": "dPoDryVu5b4k",
        "outputId": "e825cb25-e6f3-4d21-d07a-0244e518981c"
      },
      "source": [
        "plt.plot(X_new, y_predict, \"b-\", linewidth=2, label=\"Predictions\")\n",
        "plt.plot(X, y, \"r.\")\n",
        "plt.xlabel(\"$X_1$\", rotation=0, fontsize=14)\n",
        "plt.ylabel(\"$y_1$\", rotation=0, fontsize=14)\n",
        "plt.legend(loc=\"upper left\", fontsize=14)\n",
        "plt.axis([0, 2, 0, 15])\n",
        "plt.show()"
      ],
      "execution_count": 7,
      "outputs": [
        {
          "output_type": "display_data",
          "data": {
            "image/png": "[encoded data removed]",
            "text/plain": [
              "<Figure size 432x288 with 1 Axes>"
            ]
          },
          "metadata": {
            "needs_background": "light"
          }
        }
      ]
    },
    {
      "cell_type": "markdown",
      "metadata": {
        "id": "1x_U5tc8oPjs"
      },
      "source": [
        "You can perform linear regression with scikit-learn as well and it's quite easy. The calculations themselves differ in scikit-learn from what we have just done and that's briefly explained in pages 116-117 of the book, but here's the implementation code:"
      ]
    },
    {
      "cell_type": "code",
      "metadata": {
        "id": "kXlakH1W6bmU",
        "colab": {
          "base_uri": "https://localhost:8080/"
        },
        "outputId": "906307b9-00d5-4972-821e-ab7f541a87f8"
      },
      "source": [
        "from sklearn.linear_model import LinearRegression\n",
        "\n",
        "lin_reg = LinearRegression()\n",
        "lin_reg.fit(X, y)\n",
        "# Here are the two terms calculated approximately (coef is the feature weights)\n",
        "lin_reg.intercept_, lin_reg.coef_"
      ],
      "execution_count": 8,
      "outputs": [
        {
          "output_type": "execute_result",
          "data": {
            "text/plain": [
              "(array([3.54476872]), array([[3.96875854]]))"
            ]
          },
          "metadata": {},
          "execution_count": 8
        }
      ]
    },
    {
      "cell_type": "markdown",
      "metadata": {
        "id": "UzSTebkEqPjh"
      },
      "source": [
        "Same results. Now let's try to predict again:"
      ]
    },
    {
      "cell_type": "code",
      "metadata": {
        "colab": {
          "base_uri": "https://localhost:8080/"
        },
        "id": "6URGjmSDpI08",
        "outputId": "fd14009e-eec9-41b3-9164-b54afbe9f858"
      },
      "source": [
        "lin_reg.predict(X_new)"
      ],
      "execution_count": 9,
      "outputs": [
        {
          "output_type": "execute_result",
          "data": {
            "text/plain": [
              "array([[ 3.54476872],\n",
              "       [11.48228579]])"
            ]
          },
          "metadata": {},
          "execution_count": 9
        }
      ]
    },
    {
      "cell_type": "markdown",
      "metadata": {
        "id": "JDe8Qh8Gqz6G"
      },
      "source": [
        "Scikit-learn's method involves using a technique called SVD which reduces the computational complexity from O^2.4-O^3 in normal equation to O^2 which is a significant difference. Although this is a big improvement, O^2 is still not very efficient but since both algorithms are linear with regard to memory complexity, they both handle big data sets with grace and an acceptable performance (plus after being trained they are pretty fast with making predictions!)."
      ]
    },
    {
      "cell_type": "markdown",
      "metadata": {
        "id": "WUG8ye5msDIb"
      },
      "source": [
        "**Gradient Descent:** is the other way to train linear regression. Here's an implementation of batch gradient descent based on the formulas:"
      ]
    },
    {
      "cell_type": "code",
      "metadata": {
        "id": "rEEb4jM6qXh8"
      },
      "source": [
        "eta = 0.1 # Learning rate\n",
        "n_iterations = 1000\n",
        "m = 100 # number of instances in training set\n",
        "\n",
        "# We also need to initialize the theta to a random value\n",
        "theta = np.random.rand(2, 1)\n",
        "\n",
        "for iteration in range(n_iterations):\n",
        "  gradient = 2/m * X_b.T.dot(X_b.dot(theta) - y)\n",
        "  theta = theta - eta * gradient"
      ],
      "execution_count": 10,
      "outputs": []
    },
    {
      "cell_type": "code",
      "metadata": {
        "colab": {
          "base_uri": "https://localhost:8080/"
        },
        "id": "URmz3ivWEvw7",
        "outputId": "8474d93b-7376-475a-c2ac-242fa4696340"
      },
      "source": [
        "theta"
      ],
      "execution_count": 11,
      "outputs": [
        {
          "output_type": "execute_result",
          "data": {
            "text/plain": [
              "array([[3.54476872],\n",
              "       [3.96875854]])"
            ]
          },
          "metadata": {},
          "execution_count": 11
        }
      ]
    },
    {
      "cell_type": "markdown",
      "metadata": {
        "id": "bPqmca7mSlj7"
      },
      "source": [
        "To find the ideal learning rate you can use a grid search and limit the number of itterations (beacause of time). To find the right number of itterations, one solution is to set it to something really high and then stop the process as the norm of gradient descent becomes smaller than a tiny number (almost becomming minimum)."
      ]
    },
    {
      "cell_type": "markdown",
      "metadata": {
        "id": "mb1NmJi5Xb-r"
      },
      "source": [
        "**Stochastic Gradient Descent**: Things to remember:\n",
        "\n",
        "\n",
        "*   It trains the model on a single random instance each itteration\n",
        "*   It is therefore much faster\n",
        "*   It is therefore more random\n",
        "*   It's final product is usually good but not optimal\n",
        "*   It's better at finding global minimum and getting out of local minima\n",
        "*   We can use a technique called simulated annealing with wich we reduce the learning rate over time. Learning rate starts big and when we find the global min we start to reduce it. The function that determines learning rate is called learning schedule. It is crusial to reduce the learning rate at the right time and to the right amount to avoid getting stuck in local minima or never setteling for optimal minimum.\n",
        "\n",
        "Here's the implementation of Stochastic Gradient Descent with a simple learning schedule:\n",
        "\n"
      ]
    },
    {
      "cell_type": "code",
      "metadata": {
        "id": "76IxKjT7gtxv"
      },
      "source": [
        "theta_path_sgd = []\n",
        "m = len(X_b)\n",
        "np.random.seed(42)"
      ],
      "execution_count": 12,
      "outputs": []
    },
    {
      "cell_type": "code",
      "metadata": {
        "id": "f87s3igPFUz5",
        "colab": {
          "base_uri": "https://localhost:8080/",
          "height": 290
        },
        "outputId": "f8070e21-d576-4483-a7d2-bdfe8b4fecd1"
      },
      "source": [
        "n_epochs = 50\n",
        "t0, t1 = 5, 50  # learning schedule hyperparameters\n",
        "\n",
        "def learning_schedule(t):\n",
        "  return t0 / (t1 + t)\n",
        "\n",
        "theta = np.random.randn(2, 1)  # random initialization of theta\n",
        "\n",
        "for epoch in range(n_epochs):\n",
        "  for i in range(m):\n",
        "    if epoch == 0 and i < 10:\n",
        "      # in this if look we visualize the first few lines we create. pretty cool\n",
        "      y_predict = X_new_b.dot(theta)\n",
        "      style = \"b-\" if i > 0 else \"r--\"\n",
        "      plt.plot(X_new, y_predict, style)\n",
        "    random_index = np.random.randint(m)\n",
        "    xi = X_b[random_index:random_index+1]\n",
        "    yi = y[random_index:random_index+1]\n",
        "    gradients = 2 * xi.T.dot(xi.dot(theta) - yi)\n",
        "    eta = learning_schedule(epoch * m + i)\n",
        "    theta = theta - eta * gradients\n",
        "    theta_path_sgd.append(theta)\n",
        "\n",
        "plt.plot(X, y, \"g.\")\n",
        "plt.xlabel(\"$x_1$\", fontsize=18)\n",
        "plt.ylabel(\"$y_1$\", fontsize=18)\n",
        "plt.axis([0, 2, 0, 15])\n",
        "plt.show()"
      ],
      "execution_count": 13,
      "outputs": [
        {
          "output_type": "display_data",
          "data": {
            "image/png": "[encoded data removed]",
            "text/plain": [
              "<Figure size 432x288 with 1 Axes>"
            ]
          },
          "metadata": {
            "needs_background": "light"
          }
        }
      ]
    },
    {
      "cell_type": "code",
      "metadata": {
        "colab": {
          "base_uri": "https://localhost:8080/"
        },
        "id": "9Wg8Lp0MiVfh",
        "outputId": "400f3f87-7f35-478f-9f12-65d4142ba984"
      },
      "source": [
        "theta"
      ],
      "execution_count": 14,
      "outputs": [
        {
          "output_type": "execute_result",
          "data": {
            "text/plain": [
              "array([[3.5430218 ],\n",
              "       [3.97337401]])"
            ]
          },
          "metadata": {},
          "execution_count": 14
        }
      ]
    },
    {
      "cell_type": "markdown",
      "metadata": {
        "id": "sIwb8XMimF_o"
      },
      "source": [
        "How to do it with scikit-learn? easy:<br>SGDRegressor class defaults to optimizing the squared error cost function until you hit the max number of itterations or the cost drops below the specified tolerance using the eta initially equal to 0.1 which changes with the default learning schedule (penalty is for regularization and we'll get back to it later):"
      ]
    },
    {
      "cell_type": "code",
      "metadata": {
        "colab": {
          "base_uri": "https://localhost:8080/"
        },
        "id": "K2rEzm4cj-jQ",
        "outputId": "61968915-0e30-4e85-9bba-dd7437a2ba5b"
      },
      "source": [
        "from sklearn.linear_model import SGDRegressor\n",
        "\n",
        "sgd_reg = SGDRegressor(max_iter=1000, tol=1e-3, penalty=None, eta0=0.1, random_state=42)\n",
        "sgd_reg.fit(X, y.ravel())"
      ],
      "execution_count": 15,
      "outputs": [
        {
          "output_type": "execute_result",
          "data": {
            "text/plain": [
              "SGDRegressor(alpha=0.0001, average=False, early_stopping=False, epsilon=0.1,\n",
              "             eta0=0.1, fit_intercept=True, l1_ratio=0.15,\n",
              "             learning_rate='invscaling', loss='squared_loss', max_iter=1000,\n",
              "             n_iter_no_change=5, penalty=None, power_t=0.25, random_state=42,\n",
              "             shuffle=True, tol=0.001, validation_fraction=0.1, verbose=0,\n",
              "             warm_start=False)"
            ]
          },
          "metadata": {},
          "execution_count": 15
        }
      ]
    },
    {
      "cell_type": "code",
      "metadata": {
        "colab": {
          "base_uri": "https://localhost:8080/"
        },
        "id": "-H46DkoInZ9R",
        "outputId": "9c97ffaa-15fb-4b02-88a4-1a1f2d5d563f"
      },
      "source": [
        "sgd_reg.intercept_, sgd_reg.coef_"
      ],
      "execution_count": 16,
      "outputs": [
        {
          "output_type": "execute_result",
          "data": {
            "text/plain": [
              "(array([3.5403783]), array([3.98128047]))"
            ]
          },
          "metadata": {},
          "execution_count": 16
        }
      ]
    },
    {
      "cell_type": "markdown",
      "metadata": {
        "id": "0NAQpwIavj50"
      },
      "source": [
        "**Mni-batch gradient descent**: Trains on a portion of the training set in each iterations and as a result is much closer to the optimal minimum than SGC but not as good as batch GD. It also can take advantage of the hardware optimization (specially when using GPUs) that SGD just can't.<br>Here's the implementation:"
      ]
    },
    {
      "cell_type": "code",
      "metadata": {
        "id": "I_G9LifXnjQW"
      },
      "source": [
        "theta_path_mgd = []\n",
        "\n",
        "n_iterations = 50\n",
        "minibatch_size = 20\n",
        "\n",
        "np.random.seed(42)\n",
        "theta = np.random.randn(2, 1) # theta random initialization\n",
        "\n",
        "t0, t1 = 200, 1000\n",
        "def learning_schedule(t):\n",
        "  return t0 / (t1 + t)\n",
        "\n",
        "t = 0\n",
        "for epoch in range(n_iterations):\n",
        "  shuffled_indices = np.random.permutation(m)\n",
        "  X_b_shuffled = X_b[shuffled_indices]\n",
        "  y_shuffled = y[shuffled_indices]\n",
        "  for i in range(0, m, minibatch_size):\n",
        "    t += 1\n",
        "    xi = X_b_shuffled[i:i+minibatch_size]\n",
        "    yi = y_shuffled[i:i+minibatch_size]\n",
        "    gradients = 2/minibatch_size * xi.T.dot(xi.dot(theta) - yi)\n",
        "    eta = learning_schedule(t)\n",
        "    theta = theta - eta * gradients\n",
        "    theta_path_mgd.append(theta)"
      ],
      "execution_count": 17,
      "outputs": []
    },
    {
      "cell_type": "markdown",
      "metadata": {
        "id": "KZQdAmI2z8JF"
      },
      "source": [
        "Here's a comparison between SGC and BGD, visualized for each step:"
      ]
    },
    {
      "cell_type": "code",
      "metadata": {
        "colab": {
          "base_uri": "https://localhost:8080/"
        },
        "id": "iJkrLt5xyhmC",
        "outputId": "688fa181-f63f-4b2f-d284-cffdd3eea404"
      },
      "source": [
        "theta"
      ],
      "execution_count": 18,
      "outputs": [
        {
          "output_type": "execute_result",
          "data": {
            "text/plain": [
              "array([[3.53183311],\n",
              "       [3.95379361]])"
            ]
          },
          "metadata": {},
          "execution_count": 18
        }
      ]
    },
    {
      "cell_type": "code",
      "metadata": {
        "id": "H18wBwKDyjwq"
      },
      "source": [
        "theta_path_sgd = np.array(theta_path_sgd)\n",
        "theta_path_mgd = np.array(theta_path_mgd)"
      ],
      "execution_count": 19,
      "outputs": []
    },
    {
      "cell_type": "code",
      "metadata": {
        "id": "tipFjCZSynnC",
        "colab": {
          "base_uri": "https://localhost:8080/",
          "height": 300
        },
        "outputId": "d60fcc64-f4fd-4740-e889-d237db1d0cf3"
      },
      "source": [
        "plt.figure(figsize=(7,4))\n",
        "plt.plot(theta_path_sgd[:, 0], theta_path_sgd[:, 1], \"r-s\", linewidth=1, label=\"Stochastic\")\n",
        "plt.plot(theta_path_mgd[:, 0], theta_path_mgd[:, 1], \"g-+\", linewidth=2, label=\"Mini-batch\")\n",
        "plt.legend(loc=\"lower right\", fontsize=16)\n",
        "plt.xlabel(r\"$\\theta_0$\", fontsize=20)\n",
        "plt.ylabel(r\"$\\theta_1$   \", fontsize=20, rotation=0)\n",
        "plt.axis([2.5, 4, 2.3, 5])\n",
        "plt.show()"
      ],
      "execution_count": 20,
      "outputs": [
        {
          "output_type": "display_data",
          "data": {
            "image/png": "[encoded data removed]",
            "text/plain": [
              "<Figure size 504x288 with 1 Axes>"
            ]
          },
          "metadata": {
            "needs_background": "light"
          }
        }
      ]
    },
    {
      "cell_type": "markdown",
      "metadata": {
        "id": "ckD4vOA2XxlR"
      },
      "source": [
        "##Polynomial Regerssion\n",
        "some data sets are too complex for a linear model. But we can still use some technique to make them work even with a linear model. One such technique is called Polynomial Regression in which we add powers of each feature as new features and then train a linear model on this extended set of features. simple!<br>Let's see it in action:"
      ]
    },
    {
      "cell_type": "code",
      "metadata": {
        "id": "rMp8iNXMzuXz"
      },
      "source": [
        "# Generating nonlinear data\n",
        "m = 100\n",
        "X = 6 * np.random.rand(m, 1) - 3\n",
        "y = 0.5 * X**2 + X + 2 + np.random.randn(m, 1) # nonlinear + noise"
      ],
      "execution_count": 21,
      "outputs": []
    },
    {
      "cell_type": "code",
      "metadata": {
        "colab": {
          "base_uri": "https://localhost:8080/",
          "height": 295
        },
        "id": "zb_hZflwY14D",
        "outputId": "76f4a319-7561-48b5-fedb-e480494264a2"
      },
      "source": [
        "# Visualizing the data\n",
        "plt.plot(X, y, \"b.\")\n",
        "plt.xlabel(\"$x_1$\", rotation=0, fontsize=18)\n",
        "plt.ylabel(\"$y$\", rotation=0, fontsize=18)\n",
        "plt.axis([-3, 3, 0, 8])\n",
        "plt.show()"
      ],
      "execution_count": 22,
      "outputs": [
        {
          "output_type": "display_data",
          "data": {
            "image/png": "[encoded data removed]",
            "text/plain": [
              "<Figure size 432x288 with 1 Axes>"
            ]
          },
          "metadata": {
            "needs_background": "light"
          }
        }
      ]
    },
    {
      "cell_type": "markdown",
      "metadata": {
        "id": "iJ3qo5h-ZrcS"
      },
      "source": [
        "We can simply use scikit-learn's PolynominalFeatures to perform polynomial regression as follows:"
      ]
    },
    {
      "cell_type": "code",
      "metadata": {
        "id": "A5bOvR6CZPy5"
      },
      "source": [
        "from sklearn.preprocessing import PolynomialFeatures\n",
        "\n",
        "poly_features = PolynomialFeatures(degree=2, include_bias=False)\n",
        "X_poly = poly_features.fit_transform(X)"
      ],
      "execution_count": 23,
      "outputs": []
    },
    {
      "cell_type": "markdown",
      "metadata": {
        "id": "sCZs0RWBb4_9"
      },
      "source": [
        "Now each element of X_poly contains the original value and that value squared:"
      ]
    },
    {
      "cell_type": "code",
      "metadata": {
        "colab": {
          "base_uri": "https://localhost:8080/"
        },
        "id": "jptlm9mXbSEQ",
        "outputId": "d043ca43-95c6-4c90-f159-a5ebdc9db403"
      },
      "source": [
        "print(\"X[0]: \", X[0])\n",
        "print(\"X_poly[0] :\", X_poly[0])"
      ],
      "execution_count": 24,
      "outputs": [
        {
          "output_type": "stream",
          "name": "stdout",
          "text": [
            "X[0]:  [2.38942838]\n",
            "X_poly[0] : [2.38942838 5.709368  ]\n"
          ]
        }
      ]
    },
    {
      "cell_type": "markdown",
      "metadata": {
        "id": "08xk8oG5cF6w"
      },
      "source": [
        "We are now ready to train a linear model on this extended data:"
      ]
    },
    {
      "cell_type": "code",
      "metadata": {
        "colab": {
          "base_uri": "https://localhost:8080/"
        },
        "id": "dBSvkQwbba9I",
        "outputId": "2f13a5bc-09e9-4dbf-9ce3-511e74fd9d6a"
      },
      "source": [
        "lin_reg = LinearRegression()\n",
        "lin_reg.fit(X_poly, y)\n",
        "lin_reg.intercept_, lin_reg.coef_"
      ],
      "execution_count": 25,
      "outputs": [
        {
          "output_type": "execute_result",
          "data": {
            "text/plain": [
              "(array([1.9735233]), array([[0.95038538, 0.52577032]]))"
            ]
          },
          "metadata": {},
          "execution_count": 25
        }
      ]
    },
    {
      "cell_type": "markdown",
      "metadata": {
        "id": "oXTwN0lfdE24"
      },
      "source": [
        "the actual values were 0.5, 1, 2<br>we got 0.5006, 1.003, 2.482 (Pretty nice)<br> Let's plot the predictions:"
      ]
    },
    {
      "cell_type": "code",
      "metadata": {
        "colab": {
          "base_uri": "https://localhost:8080/",
          "height": 313
        },
        "id": "lcHsxvIWcZN_",
        "outputId": "2e2a061f-b7bc-4d53-bbe3-4c6255548ead"
      },
      "source": [
        "# making predictions\n",
        "X_new = np.linspace(-5, 4, 100).reshape(100, 1)\n",
        "X_new_poly = poly_features.transform(X_new)\n",
        "y_new = lin_reg.predict(X_new_poly)\n",
        "# visualizing predictions\n",
        "plt.plot(X, y, \"b.\")\n",
        "plt.plot(X_new, y_new, \"r-\", linewidth=2, label=\"Predictions\")\n",
        "plt.legend(loc=\"upper left\", fontsize=18)\n",
        "plt.axis([-3, 3, 0, 8])\n",
        "plt.xlabel(\"$x_1$\", fontsize=18)\n",
        "plt.ylabel(\"$y$\", rotation=0, fontsize=18)"
      ],
      "execution_count": 26,
      "outputs": [
        {
          "output_type": "execute_result",
          "data": {
            "text/plain": [
              "Text(0, 0.5, '$y$')"
            ]
          },
          "metadata": {},
          "execution_count": 26
        },
        {
          "output_type": "display_data",
          "data": {
            "image/png": "[encoded data removed]",
            "text/plain": [
              "<Figure size 432x288 with 1 Axes>"
            ]
          },
          "metadata": {
            "needs_background": "light"
          }
        }
      ]
    },
    {
      "cell_type": "markdown",
      "metadata": {
        "id": "KR-IW9aPhxLi"
      },
      "source": [
        "*Remember* that Polynomial Regression is capable of finding relations between features (unlike linear regression). Polynomial regression does this by using factorial in its calculations which can explode real quick, so beware of the degree *(more details in page 130 of the book)*. Take a look at a high degree polynomial regression:"
      ]
    },
    {
      "cell_type": "code",
      "metadata": {
        "colab": {
          "base_uri": "https://localhost:8080/",
          "height": 295
        },
        "id": "LHshHxRVf_Fv",
        "outputId": "d0a414d5-a57a-488a-ce75-1981a4b4b390"
      },
      "source": [
        "from sklearn.preprocessing import StandardScaler\n",
        "from sklearn.pipeline import Pipeline\n",
        "\n",
        "for style, width, degree in ((\"g-\", 1, 300), (\"r--\", 2, 2), (\"b-+\", 2, 1)):\n",
        "  polybig_features = PolynomialFeatures(degree=degree, include_bias=False)\n",
        "  std_scalar = StandardScaler()\n",
        "  lin_reg = LinearRegression()\n",
        "  polynomial_regression = Pipeline([\n",
        "      (\"poly_features\", polybig_features),\n",
        "      (\"standard_scalar\", std_scalar),\n",
        "      (\"linear_regression\", lin_reg),\n",
        "  ])\n",
        "  polynomial_regression.fit(X, y)\n",
        "  # make new predictions\n",
        "  y_newbig = polynomial_regression.predict(X_new)\n",
        "  # add to plot\n",
        "  plt.plot(X_new, y_newbig, style, label=str(degree), linewidth=width)\n",
        "\n",
        "# visualize\n",
        "plt.plot(X, y, \"b.\")\n",
        "plt.legend(loc=\"upper center\", fontsize=18)\n",
        "plt.axis([-3, 3, 0, 8])\n",
        "plt.xlabel(\"$x_1$\", fontsize=18)\n",
        "plt.ylabel(\"$y$\", rotation=0, fontsize=18)\n",
        "plt.show()"
      ],
      "execution_count": 27,
      "outputs": [
        {
          "output_type": "display_data",
          "data": {
            "image/png": "[encoded data removed]",
            "text/plain": [
              "<Figure size 432x288 with 1 Axes>"
            ]
          },
          "metadata": {
            "needs_background": "light"
          }
        }
      ]
    },
    {
      "cell_type": "markdown",
      "metadata": {
        "id": "Vvp0tGI9uwh3"
      },
      "source": [
        "Notice that in the above figure, the 300 degree model is overfitting."
      ]
    },
    {
      "cell_type": "markdown",
      "metadata": {
        "id": "flL0wUIVB2hv"
      },
      "source": [
        "**Learning Curve**\n",
        "To determine wheather or not a model is overfitting or underfitting you can take a look at model's performance with training and validation set.<br>One other way is to plot learning curves which is a plot of the model's performance on training and test set as a function of the training set size (or the training iteration). The implementation is:"
      ]
    },
    {
      "cell_type": "code",
      "metadata": {
        "id": "fhRZlUkhnCqc"
      },
      "source": [
        "from sklearn.metrics import mean_squared_error\n",
        "from sklearn.model_selection import train_test_split\n",
        "\n",
        "def plot_learning_curves(model, X, y):\n",
        "  \"\"\"plots the learning curve of the given model on the given data set\"\"\"\n",
        "  X_train, X_val, y_train, y_val = train_test_split(X, y, test_size=0.2)\n",
        "  train_errors, test_errors = [], []\n",
        "  for m in range(1, len(X_train)):\n",
        "    model.fit(X[:m], y[:m])\n",
        "    y_train_predict = model.predict(X_train[:m])\n",
        "    y_val_predict = model.predict(X_val[:m])\n",
        "    train_errors.append(mean_squared_error(y_train[:m], y_train_predict))\n",
        "    test_errors.append(mean_squared_error(y_val[:m], y_val_predict))\n",
        "  plt.plot(np.sqrt(train_errors), \"b-\", linewidth=2, label=\"train\")\n",
        "  plt.plot(np.sqrt(test_errors), \"r--\", linewidth=2, label=\"validation\")\n",
        "  plt.xlabel(\"Training set size\", fontsize=14)\n",
        "  plt.ylabel(\"RMSE\", fontsize=14)\n",
        "  plt.legend(loc=\"upper center\", fontsize=16)\n",
        "  plt.show()"
      ],
      "execution_count": 28,
      "outputs": []
    },
    {
      "cell_type": "code",
      "metadata": {
        "colab": {
          "base_uri": "https://localhost:8080/",
          "height": 291
        },
        "id": "IbPAe5e5GLVT",
        "outputId": "0ca71636-400f-421f-fb61-eadbde85b6f8"
      },
      "source": [
        "lin_reg = LinearRegression()\n",
        "plt.axis([0, 90, 0, 4])   \n",
        "plot_learning_curves(lin_reg, X, y)"
      ],
      "execution_count": 29,
      "outputs": [
        {
          "output_type": "display_data",
          "data": {
            "image/png": "[encoded data removed]",
            "text/plain": [
              "<Figure size 432x288 with 1 Axes>"
            ]
          },
          "metadata": {
            "needs_background": "light"
          }
        }
      ]
    },
    {
      "cell_type": "markdown",
      "metadata": {
        "id": "bgkYJDoNHZg8"
      },
      "source": [
        "Looking at the above figure we can easily deduce from the gap between the training and validation RMSE and the plateau that the model in underfitting. Therefore, we need a more complex model that the used linear regression. Let's look at a 10th degree polynomial model's performance on the same data:"
      ]
    },
    {
      "cell_type": "code",
      "metadata": {
        "id": "g1EtbLNYGb1h"
      },
      "source": [
        "from sklearn.pipeline import Pipeline\n",
        "\n",
        "polynomial_regression = Pipeline([\n",
        "    (\"poly_features\", PolynomialFeatures(degree=10, include_bias=False)),\n",
        "    (\"lin_reg\", LinearRegression())                                  \n",
        "])"
      ],
      "execution_count": 30,
      "outputs": []
    },
    {
      "cell_type": "code",
      "metadata": {
        "colab": {
          "base_uri": "https://localhost:8080/",
          "height": 291
        },
        "id": "15QmDDDYJXSJ",
        "outputId": "996fbfad-83d4-41fc-9ba9-a3f20d1ce4ce"
      },
      "source": [
        "plt.axis([0, 80, 0.5, 4])  \n",
        "plot_learning_curves(polynomial_regression, X, y)"
      ],
      "execution_count": 31,
      "outputs": [
        {
          "output_type": "display_data",
          "data": {
            "image/png": "[encoded data removed]",
            "text/plain": [
              "<Figure size 432x288 with 1 Axes>"
            ]
          },
          "metadata": {
            "needs_background": "light"
          }
        }
      ]
    },
    {
      "cell_type": "markdown",
      "metadata": {
        "id": "uPSgdz2HKGPN"
      },
      "source": [
        "Looking at the figure above, we realize two important points:<br>1- The error on the training data is much lower.<br>2- There is a gap between the performance of the model on the training and the test set, and actually model is donig a much better job on the training set wihch means *overfitting*."
      ]
    },
    {
      "cell_type": "markdown",
      "metadata": {
        "id": "CL727LcuKznl"
      },
      "source": [
        "\n",
        "Bias/Variance Trade-off: errors come from these three:\n",
        "*   Bias: Comes from assumptions(different from the bias in linear models). Higher the bias, model's more likely to underfit.\n",
        "*   Variance: Due to model's excessive sensitivity to details. Higer the variance, higher the chances of model overfitting.\n",
        "*   Irreducible error: Due to the noise of the data itself. One solution to deal with it is to clean the data.\n",
        "\n",
        "\n"
      ]
    },
    {
      "cell_type": "markdown",
      "metadata": {
        "id": "XD9LeJqc9FTP"
      },
      "source": [
        "## Regularized Linear Models:\n",
        "These models implement regularization and constrain the weights."
      ]
    },
    {
      "cell_type": "markdown",
      "metadata": {
        "id": "W4yhfMJQ9ZEK"
      },
      "source": [
        "***Ridge Regression:***<br>Adds a term to the cost function that includes theta and forces the model to keep the theta as small as possible. The term uses L2 norm."
      ]
    },
    {
      "cell_type": "code",
      "metadata": {
        "id": "rloMVUHW-a1k"
      },
      "source": [
        "m = 20\n",
        "X = 3 * np.random.rand(m, 1)\n",
        "y = 1 + 0.5 * X + np.random.randn(m, 1) / 1.5\n",
        "X_new = np.linspace(0, 3, 100).reshape(100, 1)"
      ],
      "execution_count": 32,
      "outputs": []
    },
    {
      "cell_type": "code",
      "metadata": {
        "id": "Y3LAGl3pJhQ_",
        "colab": {
          "base_uri": "https://localhost:8080/"
        },
        "outputId": "a0b3cb19-50ef-4636-9022-0d4949c35a55"
      },
      "source": [
        "from sklearn.linear_model import Ridge\n",
        "\n",
        "# Ridge regression implementation - closed-form \n",
        "ridge_reg = Ridge(alpha=1, solver=\"cholesky\")\n",
        "ridge_reg.fit(X, y)\n",
        "ridge_reg.predict([[1.5]])"
      ],
      "execution_count": 33,
      "outputs": [
        {
          "output_type": "execute_result",
          "data": {
            "text/plain": [
              "array([[1.56411184]])"
            ]
          },
          "metadata": {},
          "execution_count": 33
        }
      ]
    },
    {
      "cell_type": "code",
      "metadata": {
        "colab": {
          "base_uri": "https://localhost:8080/"
        },
        "id": "o1zlHxs8-jk5",
        "outputId": "ce6c266c-3408-4c6b-8d5c-97c8b3992c2e"
      },
      "source": [
        "# Ridge regression implementation - Gradient Descent #1\n",
        "sgd_reg = SGDRegressor(penalty=\"l2\")\n",
        "sgd_reg.fit(X, y.ravel())\n",
        "sgd_reg.predict([[1.5]])"
      ],
      "execution_count": 34,
      "outputs": [
        {
          "output_type": "execute_result",
          "data": {
            "text/plain": [
              "array([1.45666211])"
            ]
          },
          "metadata": {},
          "execution_count": 34
        }
      ]
    },
    {
      "cell_type": "code",
      "metadata": {
        "id": "KxUV7DUVJnXo",
        "colab": {
          "base_uri": "https://localhost:8080/"
        },
        "outputId": "38acef8f-0981-41df-a58a-ddb0772b0d76"
      },
      "source": [
        "# Ridge regression implementation - Gradient Descent #2\n",
        "ridge_reg = Ridge(alpha=1, solver=\"sag\")\n",
        "ridge_reg.fit(X, y)\n",
        "ridge_reg.predict([[1.5]])"
      ],
      "execution_count": 36,
      "outputs": [
        {
          "output_type": "execute_result",
          "data": {
            "text/plain": [
              "array([[1.56413674]])"
            ]
          },
          "metadata": {},
          "execution_count": 36
        }
      ]
    },
    {
      "cell_type": "markdown",
      "metadata": {
        "id": "mWCAriQZ37qm"
      },
      "source": [
        "***Lasso Regression:***<br>\n",
        "just like Ridge regression adds a term to the cost function. but this time the added term includes L1 norm. Lasso eliminates theweights of the least important features (sets them to zero).<br>To avoid GD to bounce around the optimum point when using lasso make sure to gradually reduce the learning rate.<br>scikit-learn implementation:"
      ]
    },
    {
      "cell_type": "code",
      "metadata": {
        "id": "_0b_5RJe_Tu6",
        "colab": {
          "base_uri": "https://localhost:8080/"
        },
        "outputId": "847c692d-0c65-405c-d09a-b4dd2b544d52"
      },
      "source": [
        "from sklearn.linear_model import Lasso\n",
        "\n",
        "lasso_reg = Lasso(alpha=0.1)\n",
        "lasso_reg.fit(X, y)\n",
        "lasso_reg.predict([[1.5]])"
      ],
      "execution_count": 37,
      "outputs": [
        {
          "output_type": "execute_result",
          "data": {
            "text/plain": [
              "array([1.58211786])"
            ]
          },
          "metadata": {},
          "execution_count": 37
        }
      ]
    },
    {
      "cell_type": "markdown",
      "metadata": {
        "id": "nRPu4C-yDMut"
      },
      "source": [
        "***Elastic Net:***<br>\n",
        "A great middle ground between Ridge and Lasso. It's a mixture of both with a variable r to control it's behavior (r=0 is completely Ridge and r=1 is completely Lasso)."
      ]
    },
    {
      "cell_type": "code",
      "metadata": {
        "colab": {
          "base_uri": "https://localhost:8080/"
        },
        "id": "mnfZ86hDCtUJ",
        "outputId": "cae8d985-5689-4ef2-9ac8-94695a29a783"
      },
      "source": [
        "from sklearn.linear_model import ElasticNet\n",
        "\n",
        "elastic_net = ElasticNet(alpha=0.1, l1_ratio=0.5)\n",
        "elastic_net.fit(X, y)\n",
        "elastic_net.predict([[1.5]])"
      ],
      "execution_count": 39,
      "outputs": [
        {
          "output_type": "execute_result",
          "data": {
            "text/plain": [
              "array([1.57473993])"
            ]
          },
          "metadata": {},
          "execution_count": 39
        }
      ]
    },
    {
      "cell_type": "markdown",
      "metadata": {
        "id": "d-HjAH8sFTT2"
      },
      "source": [
        "Final Note:<br>You almost always need some extend of regularization.<br>Ridge is a good start but if you suspect that only few features are important opt to ElasticNet and experiment with that as Lasso itself can act radically in some situations."
      ]
    },
    {
      "cell_type": "code",
      "metadata": {
        "id": "hb9I122RFOR4"
      },
      "source": [
        ""
      ],
      "execution_count": null,
      "outputs": []
    }
  ]
}