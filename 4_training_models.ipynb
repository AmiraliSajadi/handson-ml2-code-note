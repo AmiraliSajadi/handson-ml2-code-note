{
  "nbformat": 4,
  "nbformat_minor": 0,
  "metadata": {
    "colab": {
      "name": "4_training_models.ipynb",
      "provenance": [],
      "authorship_tag": "ABX9TyMWyZ6u4l4hbkUiMJCiWmnD",
      "include_colab_link": true
    },
    "kernelspec": {
      "name": "python3",
      "display_name": "Python 3"
    },
    "language_info": {
      "name": "python"
    }
  },
  "cells": [
    {
      "cell_type": "markdown",
      "metadata": {
        "id": "view-in-github",
        "colab_type": "text"
      },
      "source": [
        "<a href=\"https://colab.research.google.com/github/AmiraliSajadi/handson-ml2-code-note/blob/main/4_training_models.ipynb\" target=\"_parent\"><img src=\"https://colab.research.google.com/assets/colab-badge.svg\" alt=\"Open In Colab\"/></a>"
      ]
    },
    {
      "cell_type": "markdown",
      "metadata": {
        "id": "-fiUhRv_tYQW"
      },
      "source": [
        "# Chapter 4 - Training models\n",
        "Knowing the math behind the different models or at least, knowing how they work can prove to be beneficial in that it helps you find the right model, right training algorithm and the right set of hyperparameters quicker and makes debugging and analysing errors much smoother for you.<br>\n",
        "We are going to take a look at a few different models: Linear regression, Polynominal regression, Logistic regression and Softmax regression."
      ]
    },
    {
      "cell_type": "markdown",
      "metadata": {
        "id": "vn6YDz1eyD5I"
      },
      "source": [
        "## Setup"
      ]
    },
    {
      "cell_type": "code",
      "metadata": {
        "id": "QWht4W-PxwZX"
      },
      "source": [
        "import numpy as np\n",
        "\n",
        "%matplotlib inline\n",
        "import matplotlib as mpl\n",
        "import matplotlib.pyplot as plt\n",
        "mpl.rc('axes', labelsize=14)\n",
        "mpl.rc('xtick', labelsize=12)\n",
        "mpl.rc('ytick', labelsize=12)"
      ],
      "execution_count": 13,
      "outputs": []
    },
    {
      "cell_type": "markdown",
      "metadata": {
        "id": "aV8fQS5Hye2m"
      },
      "source": [
        "## Linear Regression\n",
        "**Normal Equation**: is the equation that helps us find the best theta directly<br>\n",
        "To see how well it works we'll make a plot using a random linear function with some noise and then try to figure out the hyperparameters using the Normal Equation an see how well it performs.<br>\n",
        "Remeber  that we write most vectors as column vectors. The dimensions here are generally worth more consideration so that you'd understand them well (refer to the book).\n"
      ]
    },
    {
      "cell_type": "code",
      "metadata": {
        "id": "fyX732SlydR1"
      },
      "source": [
        "# let's have 100 instances\n",
        "X = 3 * np.random.rand(100, 1)\n",
        "# add the random noise at the end to the y:\n",
        "y = 3 + 4 * X + np.random.rand(100, 1)"
      ],
      "execution_count": 24,
      "outputs": []
    },
    {
      "cell_type": "code",
      "metadata": {
        "colab": {
          "base_uri": "https://localhost:8080/",
          "height": 288
        },
        "id": "QX2mcFQdz_al",
        "outputId": "650c6881-13fb-49cb-fe2a-16e0c54bea8c"
      },
      "source": [
        "plt.plot(X, y, \"r.\")\n",
        "plt.xlabel(\"$x_1$\", fontsize=16)\n",
        "plt.ylabel(\"$y$\", rotation=0, fontsize=16)\n",
        "plt.axis([0, 2, 0, 15])\n",
        "plt.show()"
      ],
      "execution_count": 25,
      "outputs": [
        {
          "output_type": "display_data",
          "data": {
            "image/png": "[encoded data removed]",
            "text/plain": [
              "<Figure size 432x288 with 1 Axes>"
            ]
          },
          "metadata": {
            "needs_background": "light"
          }
        }
      ]
    },
    {
      "cell_type": "markdown",
      "metadata": {
        "id": "UY-zjjM810K8"
      },
      "source": [
        "Let's go ahead and compute an approximation for "
      ]
    },
    {
      "cell_type": "code",
      "metadata": {
        "id": "UbjCw5jj03sV"
      },
      "source": [
        "# to use x we first add a 1 to each instance for the constant\n",
        "X_b = np.c_[np.ones((100, 1)), X]\n",
        "# Normal Equation:\n",
        "theta = np.linalg.inv(X_b.T.dot(X_b)).dot(X_b.T).dot(y)"
      ],
      "execution_count": 26,
      "outputs": []
    },
    {
      "cell_type": "code",
      "metadata": {
        "colab": {
          "base_uri": "https://localhost:8080/"
        },
        "id": "hgImkPcn3SWl",
        "outputId": "b72ce7a1-5dca-4e37-8b8d-bee82d7389a1"
      },
      "source": [
        "theta"
      ],
      "execution_count": 27,
      "outputs": [
        {
          "output_type": "execute_result",
          "data": {
            "text/plain": [
              "array([[3.54034965],\n",
              "       [3.99182485]])"
            ]
          },
          "metadata": {},
          "execution_count": 27
        }
      ]
    },
    {
      "cell_type": "markdown",
      "metadata": {
        "id": "4w751cRj3Zjq"
      },
      "source": [
        "The right answers were 3 & 4 but we got 3.6 and 3.9 which is acceptable. We can make a couple more predictions and put a line through them to have a visual sense of our predictions' accuracy:"
      ]
    },
    {
      "cell_type": "code",
      "metadata": {
        "colab": {
          "base_uri": "https://localhost:8080/"
        },
        "id": "m0sspPX73Ue8",
        "outputId": "2086e2b0-671e-45f3-9097-c5be24199f34"
      },
      "source": [
        "X_new = np.array([[0], [2]])\n",
        "X_b = np.c_[np.ones((2, 1)), X_new]\n",
        "y_predict = X_b.dot(theta)\n",
        "y_predict"
      ],
      "execution_count": 28,
      "outputs": [
        {
          "output_type": "execute_result",
          "data": {
            "text/plain": [
              "array([[ 3.54034965],\n",
              "       [11.52399934]])"
            ]
          },
          "metadata": {},
          "execution_count": 28
        }
      ]
    },
    {
      "cell_type": "code",
      "metadata": {
        "colab": {
          "base_uri": "https://localhost:8080/",
          "height": 268
        },
        "id": "dPoDryVu5b4k",
        "outputId": "7c633db9-9fd3-4bd6-8ee5-5a822f671a62"
      },
      "source": [
        "plt.plot(X_new, y_predict, \"b-\")\n",
        "plt.plot(X, y, \"r.\")\n",
        "plt.axis([0, 2, 0, 15])\n",
        "plt.show()"
      ],
      "execution_count": 31,
      "outputs": [
        {
          "output_type": "display_data",
          "data": {
            "image/png": "[encoded data removed]",
            "text/plain": [
              "<Figure size 432x288 with 1 Axes>"
            ]
          },
          "metadata": {
            "needs_background": "light"
          }
        }
      ]
    },
    {
      "cell_type": "code",
      "metadata": {
        "id": "kXlakH1W6bmU"
      },
      "source": [
        ""
      ],
      "execution_count": null,
      "outputs": []
    }
  ]
}