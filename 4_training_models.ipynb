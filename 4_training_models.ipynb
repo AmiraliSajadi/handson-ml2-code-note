{
  "nbformat": 4,
  "nbformat_minor": 0,
  "metadata": {
    "colab": {
      "name": "4_training_models.ipynb",
      "provenance": [],
      "collapsed_sections": [],
      "authorship_tag": "ABX9TyMNdqTrf2M63UqDUa2J3QrQ",
      "include_colab_link": true
    },
    "kernelspec": {
      "name": "python3",
      "display_name": "Python 3"
    },
    "language_info": {
      "name": "python"
    }
  },
  "cells": [
    {
      "cell_type": "markdown",
      "metadata": {
        "id": "view-in-github",
        "colab_type": "text"
      },
      "source": [
        "<a href=\"https://colab.research.google.com/github/AmiraliSajadi/handson-ml2-code-note/blob/main/4_training_models.ipynb\" target=\"_parent\"><img src=\"https://colab.research.google.com/assets/colab-badge.svg\" alt=\"Open In Colab\"/></a>"
      ]
    },
    {
      "cell_type": "markdown",
      "metadata": {
        "id": "-fiUhRv_tYQW"
      },
      "source": [
        "# Chapter 4 - Training models\n",
        "Knowing the math behind the different models or at least, knowing how they work can prove to be beneficial in that it helps you find the right model, right training algorithm and the right set of hyperparameters quicker and makes debugging and analysing errors much smoother for you.<br>\n",
        "We are going to take a look at a few different models: Linear regression, Polynominal regression, Logistic regression and Softmax regression."
      ]
    },
    {
      "cell_type": "markdown",
      "metadata": {
        "id": "vn6YDz1eyD5I"
      },
      "source": [
        "## Setup"
      ]
    },
    {
      "cell_type": "code",
      "metadata": {
        "id": "QWht4W-PxwZX"
      },
      "source": [
        "import numpy as np\n",
        "import sklearn\n",
        "\n",
        "%matplotlib inline\n",
        "import matplotlib as mpl\n",
        "import matplotlib.pyplot as plt\n",
        "mpl.rc('axes', labelsize=14)\n",
        "mpl.rc('xtick', labelsize=12)\n",
        "mpl.rc('ytick', labelsize=12)"
      ],
      "execution_count": null,
      "outputs": []
    },
    {
      "cell_type": "markdown",
      "metadata": {
        "id": "aV8fQS5Hye2m"
      },
      "source": [
        "## Linear Regression\n",
        "**Normal Equation**: is the equation that helps us find the best theta directly<br>\n",
        "To see how well it works we'll make a plot using a random linear function with some noise and then try to figure out the hyperparameters using the Normal Equation an see how well it performs.<br>\n",
        "Remeber  that we write most vectors as column vectors. The dimensions here are generally worth more consideration so that you'd understand them well (refer to the book).\n"
      ]
    },
    {
      "cell_type": "code",
      "metadata": {
        "id": "fyX732SlydR1"
      },
      "source": [
        "# let's have 100 instances\n",
        "X = 3 * np.random.rand(100, 1)\n",
        "# add the random noise at the end to the y:\n",
        "y = 3 + 4 * X + np.random.rand(100, 1)"
      ],
      "execution_count": null,
      "outputs": []
    },
    {
      "cell_type": "code",
      "metadata": {
        "colab": {
          "base_uri": "https://localhost:8080/",
          "height": 288
        },
        "id": "QX2mcFQdz_al",
        "outputId": "c0200011-9416-4767-de89-bbf319ec5392"
      },
      "source": [
        "plt.plot(X, y, \"r.\")\n",
        "plt.xlabel(\"$x_1$\", fontsize=16)\n",
        "plt.ylabel(\"$y$\", rotation=0, fontsize=16)\n",
        "plt.axis([0, 2, 0, 15])\n",
        "plt.show()"
      ],
      "execution_count": null,
      "outputs": [
        {
          "output_type": "display_data",
          "data": {
            "image/png": "[encoded data removed]",
            "text/plain": [
              "<Figure size 432x288 with 1 Axes>"
            ]
          },
          "metadata": {
            "needs_background": "light"
          }
        }
      ]
    },
    {
      "cell_type": "markdown",
      "metadata": {
        "id": "UY-zjjM810K8"
      },
      "source": [
        "Let's go ahead and compute an approximation for "
      ]
    },
    {
      "cell_type": "code",
      "metadata": {
        "id": "UbjCw5jj03sV"
      },
      "source": [
        "# to use x we first add a 1 to each instance for the constant\n",
        "X_b = np.c_[np.ones((100, 1)), X]\n",
        "# Normal Equation:\n",
        "theta = np.linalg.inv(X_b.T.dot(X_b)).dot(X_b.T).dot(y)"
      ],
      "execution_count": null,
      "outputs": []
    },
    {
      "cell_type": "code",
      "metadata": {
        "colab": {
          "base_uri": "https://localhost:8080/"
        },
        "id": "hgImkPcn3SWl",
        "outputId": "107b308b-8833-4808-f412-f169977054fa"
      },
      "source": [
        "theta"
      ],
      "execution_count": null,
      "outputs": [
        {
          "output_type": "execute_result",
          "data": {
            "text/plain": [
              "array([[3.56793707],\n",
              "       [3.98258516]])"
            ]
          },
          "metadata": {},
          "execution_count": 5
        }
      ]
    },
    {
      "cell_type": "markdown",
      "metadata": {
        "id": "4w751cRj3Zjq"
      },
      "source": [
        "The right answers were 3 & 4 but we got 3.6 and 3.9 which is acceptable. We can make a couple more predictions and put a line through them to have a visual sense of our predictions' accuracy:"
      ]
    },
    {
      "cell_type": "code",
      "metadata": {
        "colab": {
          "base_uri": "https://localhost:8080/"
        },
        "id": "m0sspPX73Ue8",
        "outputId": "d1fc6aea-2111-4657-dec1-a433abec9a8a"
      },
      "source": [
        "X_new = np.array([[0], [2]])\n",
        "X_new_b = np.c_[np.ones((2, 1)), X_new]\n",
        "y_predict = X_new_b.dot(theta)\n",
        "y_predict"
      ],
      "execution_count": null,
      "outputs": [
        {
          "output_type": "execute_result",
          "data": {
            "text/plain": [
              "array([[ 3.56793707],\n",
              "       [11.53310738]])"
            ]
          },
          "metadata": {},
          "execution_count": 6
        }
      ]
    },
    {
      "cell_type": "code",
      "metadata": {
        "colab": {
          "base_uri": "https://localhost:8080/",
          "height": 289
        },
        "id": "dPoDryVu5b4k",
        "outputId": "abf4e5a8-95f3-4e1d-9926-c31bdf73c792"
      },
      "source": [
        "plt.plot(X_new, y_predict, \"b-\", linewidth=2, label=\"Predictions\")\n",
        "plt.plot(X, y, \"r.\")\n",
        "plt.xlabel(\"$X_1$\", rotation=0, fontsize=14)\n",
        "plt.ylabel(\"$y_1$\", rotation=0, fontsize=14)\n",
        "plt.legend(loc=\"upper left\", fontsize=14)\n",
        "plt.axis([0, 2, 0, 15])\n",
        "plt.show()"
      ],
      "execution_count": null,
      "outputs": [
        {
          "output_type": "display_data",
          "data": {
            "image/png": "[encoded data removed]",
            "text/plain": [
              "<Figure size 432x288 with 1 Axes>"
            ]
          },
          "metadata": {
            "needs_background": "light"
          }
        }
      ]
    },
    {
      "cell_type": "markdown",
      "metadata": {
        "id": "1x_U5tc8oPjs"
      },
      "source": [
        "You can perform linear regression with scikit-learn as well and it's quite easy. The calculations themselves differ in scikit-learn from what we have just done and that's briefly explained in pages 116-117 of the book, but here's the implementation code:"
      ]
    },
    {
      "cell_type": "code",
      "metadata": {
        "id": "kXlakH1W6bmU",
        "colab": {
          "base_uri": "https://localhost:8080/"
        },
        "outputId": "7aa312ff-0fe9-47c5-d653-10552137f4ad"
      },
      "source": [
        "from sklearn.linear_model import LinearRegression\n",
        "\n",
        "lin_reg = LinearRegression()\n",
        "lin_reg.fit(X, y)\n",
        "# Here are the two terms calculated approximately (coef is the feature weights)\n",
        "lin_reg.intercept_, lin_reg.coef_"
      ],
      "execution_count": null,
      "outputs": [
        {
          "output_type": "execute_result",
          "data": {
            "text/plain": [
              "(array([3.56793707]), array([[3.98258516]]))"
            ]
          },
          "metadata": {},
          "execution_count": 8
        }
      ]
    },
    {
      "cell_type": "markdown",
      "metadata": {
        "id": "UzSTebkEqPjh"
      },
      "source": [
        "Same results. Now let's try to predict again:"
      ]
    },
    {
      "cell_type": "code",
      "metadata": {
        "colab": {
          "base_uri": "https://localhost:8080/"
        },
        "id": "6URGjmSDpI08",
        "outputId": "e79d0f3e-8d45-4c1d-d1f2-082fd03b101a"
      },
      "source": [
        "lin_reg.predict(X_new)"
      ],
      "execution_count": null,
      "outputs": [
        {
          "output_type": "execute_result",
          "data": {
            "text/plain": [
              "array([[ 3.56793707],\n",
              "       [11.53310738]])"
            ]
          },
          "metadata": {},
          "execution_count": 9
        }
      ]
    },
    {
      "cell_type": "markdown",
      "metadata": {
        "id": "JDe8Qh8Gqz6G"
      },
      "source": [
        "Scikit-learn's method involves using a technique called SVD which reduces the computational complexity from O^2.4-O^3 in normal equation to O^2 which is a significant difference. Although this is a big improvement, O^2 is still not very efficient but since both algorithms are linear with regard to memory complexity, they both handle big data sets with grace and an acceptable performance (plus after being trained they are pretty fast with making predictions!)."
      ]
    },
    {
      "cell_type": "markdown",
      "metadata": {
        "id": "WUG8ye5msDIb"
      },
      "source": [
        "**Gradient Descent:** is the other way to train linear regression. Here's an implementation of batch gradient descent based on the formulas:"
      ]
    },
    {
      "cell_type": "code",
      "metadata": {
        "id": "rEEb4jM6qXh8"
      },
      "source": [
        "eta = 0.1 # Learning rate\n",
        "n_iterations = 1000\n",
        "m = 100 # number of instances in training set\n",
        "\n",
        "# We also need to initialize the theta to a random value\n",
        "theta = np.random.rand(2, 1)\n",
        "\n",
        "for iteration in range(n_iterations):\n",
        "  gradient = 2/m * X_b.T.dot(X_b.dot(theta) - y)\n",
        "  theta = theta - eta * gradient"
      ],
      "execution_count": null,
      "outputs": []
    },
    {
      "cell_type": "code",
      "metadata": {
        "colab": {
          "base_uri": "https://localhost:8080/"
        },
        "id": "URmz3ivWEvw7",
        "outputId": "ab28ebd9-49ef-48b1-f9c4-1a5ff0821a56"
      },
      "source": [
        "theta"
      ],
      "execution_count": null,
      "outputs": [
        {
          "output_type": "execute_result",
          "data": {
            "text/plain": [
              "array([[3.56793707],\n",
              "       [3.98258516]])"
            ]
          },
          "metadata": {},
          "execution_count": 11
        }
      ]
    },
    {
      "cell_type": "markdown",
      "metadata": {
        "id": "bPqmca7mSlj7"
      },
      "source": [
        "To find the ideal learning rate you can use a grid search and limit the number of itterations (beacause of time). To find the right number of itterations, one solution is to set it to something really high and then stop the process as the norm of gradient descent becomes smaller than a tiny number (almost becomming minimum)."
      ]
    },
    {
      "cell_type": "markdown",
      "metadata": {
        "id": "mb1NmJi5Xb-r"
      },
      "source": [
        "**Stochastic Gradient Descent**: Things to remember:\n",
        "\n",
        "\n",
        "*   It trains the model on a single random instance each itteration\n",
        "*   It is therefore much faster\n",
        "*   It is therefore more random\n",
        "*   It's final product is usually good but not optimal\n",
        "*   It's better at finding global minimum and getting out of local minima\n",
        "*   We can use a technique called simulated annealing with wich we reduce the learning rate over time. Learning rate starts big and when we find the global min we start to reduce it. The function that determines learning rate is called learning schedule. It is crusial to reduce the learning rate at the right time and to the right amount to avoid getting stuck in local minima or never setteling for optimal minimum.\n",
        "\n",
        "Here's the implementation of Stochastic Gradient Descent with a simple learning schedule:\n",
        "\n"
      ]
    },
    {
      "cell_type": "code",
      "metadata": {
        "id": "76IxKjT7gtxv"
      },
      "source": [
        "theta_path_sgd = []\n",
        "m = len(X_b)\n",
        "np.random.seed(42)"
      ],
      "execution_count": null,
      "outputs": []
    },
    {
      "cell_type": "code",
      "metadata": {
        "id": "f87s3igPFUz5",
        "colab": {
          "base_uri": "https://localhost:8080/",
          "height": 290
        },
        "outputId": "800c7146-6229-4436-bfed-9c65e875a1d0"
      },
      "source": [
        "n_epochs = 50\n",
        "t0, t1 = 5, 50  # learning schedule hyperparameters\n",
        "\n",
        "def learning_schedule(t):\n",
        "  return t0 / (t1 + t)\n",
        "\n",
        "theta = np.random.randn(2, 1)  # random initialization of theta\n",
        "\n",
        "for epoch in range(n_epochs):\n",
        "  for i in range(m):\n",
        "    if epoch == 0 and i < 10:\n",
        "      # in this if look we visualize the first few lines we create. pretty cool\n",
        "      y_predict = X_new_b.dot(theta)\n",
        "      style = \"b-\" if i > 0 else \"r--\"\n",
        "      plt.plot(X_new, y_predict, style)\n",
        "    random_index = np.random.randint(m)\n",
        "    xi = X_b[random_index:random_index+1]\n",
        "    yi = y[random_index:random_index+1]\n",
        "    gradients = 2 * xi.T.dot(xi.dot(theta) - yi)\n",
        "    eta = learning_schedule(epoch * m + i)\n",
        "    theta = theta - eta * gradients\n",
        "    theta_path_sgd.append(theta)\n",
        "\n",
        "plt.plot(X, y, \"g.\")\n",
        "plt.xlabel(\"$x_1$\", fontsize=18)\n",
        "plt.ylabel(\"$y_1$\", fontsize=18)\n",
        "plt.axis([0, 2, 0, 15])\n",
        "plt.show()"
      ],
      "execution_count": null,
      "outputs": [
        {
          "output_type": "display_data",
          "data": {
            "image/png": "[encoded data removed]",
            "text/plain": [
              "<Figure size 432x288 with 1 Axes>"
            ]
          },
          "metadata": {
            "needs_background": "light"
          }
        }
      ]
    },
    {
      "cell_type": "code",
      "metadata": {
        "colab": {
          "base_uri": "https://localhost:8080/"
        },
        "id": "9Wg8Lp0MiVfh",
        "outputId": "b3fdd46f-a11f-4b90-c399-9f507e9e7df2"
      },
      "source": [
        "theta"
      ],
      "execution_count": null,
      "outputs": [
        {
          "output_type": "execute_result",
          "data": {
            "text/plain": [
              "array([[3.55510974],\n",
              "       [3.9996919 ]])"
            ]
          },
          "metadata": {},
          "execution_count": 14
        }
      ]
    },
    {
      "cell_type": "markdown",
      "metadata": {
        "id": "sIwb8XMimF_o"
      },
      "source": [
        "How to do it with scikit-learn? easy:<br>SGDRegressor class defaults to optimizing the squared error cost function until you hit the max number of itterations or the cost drops below the specified tolerance using the eta initially equal to 0.1 which changes with the default learning schedule (penalty is for regularization and we'll get back to it later):"
      ]
    },
    {
      "cell_type": "code",
      "metadata": {
        "colab": {
          "base_uri": "https://localhost:8080/"
        },
        "id": "K2rEzm4cj-jQ",
        "outputId": "5a563711-96a0-4669-9b82-88fb094e43dd"
      },
      "source": [
        "from sklearn.linear_model import SGDRegressor\n",
        "\n",
        "sgd_reg = SGDRegressor(max_iter=1000, tol=1e-3, penalty=None, eta0=0.1, random_state=42)\n",
        "sgd_reg.fit(X, y.ravel())"
      ],
      "execution_count": null,
      "outputs": [
        {
          "output_type": "execute_result",
          "data": {
            "text/plain": [
              "SGDRegressor(eta0=0.1, penalty=None, random_state=42)"
            ]
          },
          "metadata": {},
          "execution_count": 15
        }
      ]
    },
    {
      "cell_type": "code",
      "metadata": {
        "colab": {
          "base_uri": "https://localhost:8080/"
        },
        "id": "-H46DkoInZ9R",
        "outputId": "22f15ac1-3fd3-4efd-9087-874b918cc876"
      },
      "source": [
        "sgd_reg.intercept_, sgd_reg.coef_"
      ],
      "execution_count": null,
      "outputs": [
        {
          "output_type": "execute_result",
          "data": {
            "text/plain": [
              "(array([3.56969676]), array([4.01793379]))"
            ]
          },
          "metadata": {},
          "execution_count": 16
        }
      ]
    },
    {
      "cell_type": "markdown",
      "metadata": {
        "id": "0NAQpwIavj50"
      },
      "source": [
        "**Mni-batch gradient descent**: Trains on a portion of the training set in each iterations and as a result is much closer to the optimal minimum than SGC but not as good as batch GD. It also can take advantage of the hardware optimization (specially when using GPUs) that SGD just can't.<br>Here's the implementation:"
      ]
    },
    {
      "cell_type": "code",
      "metadata": {
        "id": "I_G9LifXnjQW"
      },
      "source": [
        "theta_path_mgd = []\n",
        "\n",
        "n_iterations = 50\n",
        "minibatch_size = 20\n",
        "\n",
        "np.random.seed(42)\n",
        "theta = np.random.randn(2, 1) # theta random initialization\n",
        "\n",
        "t0, t1 = 200, 1000\n",
        "def learning_schedule(t):\n",
        "  return t0 / (t1 + t)\n",
        "\n",
        "t = 0\n",
        "for epoch in range(n_iterations):\n",
        "  shuffled_indices = np.random.permutation(m)\n",
        "  X_b_shuffled = X_b[shuffled_indices]\n",
        "  y_shuffled = y[shuffled_indices]\n",
        "  for i in range(0, m, minibatch_size):\n",
        "    t += 1\n",
        "    xi = X_b_shuffled[i:i+minibatch_size]\n",
        "    yi = y_shuffled[i:i+minibatch_size]\n",
        "    gradients = 2/minibatch_size * xi.T.dot(xi.dot(theta) - yi)\n",
        "    eta = learning_schedule(t)\n",
        "    theta = theta - eta * gradients\n",
        "    theta_path_mgd.append(theta)"
      ],
      "execution_count": null,
      "outputs": []
    },
    {
      "cell_type": "markdown",
      "metadata": {
        "id": "KZQdAmI2z8JF"
      },
      "source": [
        "Here's a comparison between SGC and BGD, visualized for each step:"
      ]
    },
    {
      "cell_type": "code",
      "metadata": {
        "colab": {
          "base_uri": "https://localhost:8080/"
        },
        "id": "iJkrLt5xyhmC",
        "outputId": "c61fc614-e493-401b-f0e2-44c45a6ff106"
      },
      "source": [
        "theta"
      ],
      "execution_count": null,
      "outputs": [
        {
          "output_type": "execute_result",
          "data": {
            "text/plain": [
              "array([[3.54413928],\n",
              "       [3.93390308]])"
            ]
          },
          "metadata": {},
          "execution_count": 18
        }
      ]
    },
    {
      "cell_type": "code",
      "metadata": {
        "id": "H18wBwKDyjwq"
      },
      "source": [
        "theta_path_sgd = np.array(theta_path_sgd)\n",
        "theta_path_mgd = np.array(theta_path_mgd)"
      ],
      "execution_count": null,
      "outputs": []
    },
    {
      "cell_type": "code",
      "metadata": {
        "id": "tipFjCZSynnC",
        "colab": {
          "base_uri": "https://localhost:8080/",
          "height": 300
        },
        "outputId": "5fc2e4a9-1c0e-4ae3-cdfb-eef41b182883"
      },
      "source": [
        "plt.figure(figsize=(7,4))\n",
        "plt.plot(theta_path_sgd[:, 0], theta_path_sgd[:, 1], \"r-s\", linewidth=1, label=\"Stochastic\")\n",
        "plt.plot(theta_path_mgd[:, 0], theta_path_mgd[:, 1], \"g-+\", linewidth=2, label=\"Mini-batch\")\n",
        "plt.legend(loc=\"lower right\", fontsize=16)\n",
        "plt.xlabel(r\"$\\theta_0$\", fontsize=20)\n",
        "plt.ylabel(r\"$\\theta_1$   \", fontsize=20, rotation=0)\n",
        "plt.axis([2.5, 4, 2.3, 5])\n",
        "plt.show()"
      ],
      "execution_count": null,
      "outputs": [
        {
          "output_type": "display_data",
          "data": {
            "image/png": "[encoded data removed]",
            "text/plain": [
              "<Figure size 504x288 with 1 Axes>"
            ]
          },
          "metadata": {
            "needs_background": "light"
          }
        }
      ]
    },
    {
      "cell_type": "markdown",
      "metadata": {
        "id": "ckD4vOA2XxlR"
      },
      "source": [
        "##Polynomial Regerssion\n",
        "some data sets are too complex for a linear model. But we can still use some technique to make them work even with a linear model. One such technique is called Polynomial Regression in which we add powers of each feature as new features and then train a linear model on this extended set of features. simple!<br>Let's see it in action:"
      ]
    },
    {
      "cell_type": "code",
      "metadata": {
        "id": "rMp8iNXMzuXz"
      },
      "source": [
        "# Generating nonlinear data\n",
        "m = 100\n",
        "X = 6 * np.random.rand(m, 1) - 3\n",
        "y = 0.5 * X**2 + X + 2 + np.random.randn(m, 1) # nonlinear + noise"
      ],
      "execution_count": null,
      "outputs": []
    },
    {
      "cell_type": "code",
      "metadata": {
        "colab": {
          "base_uri": "https://localhost:8080/",
          "height": 295
        },
        "id": "zb_hZflwY14D",
        "outputId": "1e044a63-e267-439d-b77b-dadb13c8f858"
      },
      "source": [
        "# Visualizing the data\n",
        "plt.plot(X, y, \"b.\")\n",
        "plt.xlabel(\"$x_1$\", rotation=0, fontsize=18)\n",
        "plt.ylabel(\"$y$\", rotation=0, fontsize=18)\n",
        "plt.axis([-3, 3, 0, 8])\n",
        "plt.show()"
      ],
      "execution_count": null,
      "outputs": [
        {
          "output_type": "display_data",
          "data": {
            "image/png": "[encoded data removed]",
            "text/plain": [
              "<Figure size 432x288 with 1 Axes>"
            ]
          },
          "metadata": {
            "needs_background": "light"
          }
        }
      ]
    },
    {
      "cell_type": "markdown",
      "metadata": {
        "id": "iJ3qo5h-ZrcS"
      },
      "source": [
        "We can simply use scikit-learn's PolynominalFeatures to perform polynomial regression as follows:"
      ]
    },
    {
      "cell_type": "code",
      "metadata": {
        "id": "A5bOvR6CZPy5"
      },
      "source": [
        "from sklearn.preprocessing import PolynomialFeatures\n",
        "\n",
        "poly_features = PolynomialFeatures(degree=2, include_bias=False)\n",
        "X_poly = poly_features.fit_transform(X)"
      ],
      "execution_count": null,
      "outputs": []
    },
    {
      "cell_type": "markdown",
      "metadata": {
        "id": "sCZs0RWBb4_9"
      },
      "source": [
        "Now each element of X_poly contains the original value and that value squared:"
      ]
    },
    {
      "cell_type": "code",
      "metadata": {
        "colab": {
          "base_uri": "https://localhost:8080/"
        },
        "id": "jptlm9mXbSEQ",
        "outputId": "3742bfa6-73ba-4fea-816e-79e0c72cf9b3"
      },
      "source": [
        "print(\"X[0]: \", X[0])\n",
        "print(\"X_poly[0] :\", X_poly[0])"
      ],
      "execution_count": null,
      "outputs": [
        {
          "output_type": "stream",
          "name": "stdout",
          "text": [
            "X[0]:  [2.38942838]\n",
            "X_poly[0] : [2.38942838 5.709368  ]\n"
          ]
        }
      ]
    },
    {
      "cell_type": "markdown",
      "metadata": {
        "id": "08xk8oG5cF6w"
      },
      "source": [
        "We are now ready to train a linear model on this extended data:"
      ]
    },
    {
      "cell_type": "code",
      "metadata": {
        "colab": {
          "base_uri": "https://localhost:8080/"
        },
        "id": "dBSvkQwbba9I",
        "outputId": "b6ab447d-3e19-401f-c3f9-f35a8499caac"
      },
      "source": [
        "lin_reg = LinearRegression()\n",
        "lin_reg.fit(X_poly, y)\n",
        "lin_reg.intercept_, lin_reg.coef_"
      ],
      "execution_count": null,
      "outputs": [
        {
          "output_type": "execute_result",
          "data": {
            "text/plain": [
              "(array([1.9735233]), array([[0.95038538, 0.52577032]]))"
            ]
          },
          "metadata": {},
          "execution_count": 25
        }
      ]
    },
    {
      "cell_type": "markdown",
      "metadata": {
        "id": "oXTwN0lfdE24"
      },
      "source": [
        "the actual values were 0.5, 1, 2<br>we got 0.5006, 1.003, 2.482 (Pretty nice)<br> Let's plot the predictions:"
      ]
    },
    {
      "cell_type": "code",
      "metadata": {
        "colab": {
          "base_uri": "https://localhost:8080/",
          "height": 313
        },
        "id": "lcHsxvIWcZN_",
        "outputId": "75893e07-bc16-4026-a2ce-1742104bbd69"
      },
      "source": [
        "# making predictions\n",
        "X_new = np.linspace(-5, 4, 100).reshape(100, 1)\n",
        "X_new_poly = poly_features.transform(X_new)\n",
        "y_new = lin_reg.predict(X_new_poly)\n",
        "# visualizing predictions\n",
        "plt.plot(X, y, \"b.\")\n",
        "plt.plot(X_new, y_new, \"r-\", linewidth=2, label=\"Predictions\")\n",
        "plt.legend(loc=\"upper left\", fontsize=18)\n",
        "plt.axis([-3, 3, 0, 8])\n",
        "plt.xlabel(\"$x_1$\", fontsize=18)\n",
        "plt.ylabel(\"$y$\", rotation=0, fontsize=18)"
      ],
      "execution_count": null,
      "outputs": [
        {
          "output_type": "execute_result",
          "data": {
            "text/plain": [
              "Text(0, 0.5, '$y$')"
            ]
          },
          "metadata": {},
          "execution_count": 26
        },
        {
          "output_type": "display_data",
          "data": {
            "image/png": "[encoded data removed]",
            "text/plain": [
              "<Figure size 432x288 with 1 Axes>"
            ]
          },
          "metadata": {
            "needs_background": "light"
          }
        }
      ]
    },
    {
      "cell_type": "markdown",
      "metadata": {
        "id": "KR-IW9aPhxLi"
      },
      "source": [
        "*Remember* that Polynomial Regression is capable of finding relations between features (unlike linear regression). Polynomial regression does this by using factorial in its calculations which can explode real quick, so beware of the degree *(more details in page 130 of the book)*. Take a look at a high degree polynomial regression:"
      ]
    },
    {
      "cell_type": "code",
      "metadata": {
        "colab": {
          "base_uri": "https://localhost:8080/",
          "height": 295
        },
        "id": "LHshHxRVf_Fv",
        "outputId": "5e9c0867-9052-4490-a255-a1137524eee2"
      },
      "source": [
        "from sklearn.preprocessing import StandardScaler\n",
        "from sklearn.pipeline import Pipeline\n",
        "\n",
        "for style, width, degree in ((\"g-\", 1, 300), (\"r--\", 2, 2), (\"b-+\", 2, 1)):\n",
        "  polybig_features = PolynomialFeatures(degree=degree, include_bias=False)\n",
        "  std_scalar = StandardScaler()\n",
        "  lin_reg = LinearRegression()\n",
        "  polynomial_regression = Pipeline([\n",
        "      (\"poly_features\", polybig_features),\n",
        "      (\"standard_scalar\", std_scalar),\n",
        "      (\"linear_regression\", lin_reg),\n",
        "  ])\n",
        "  polynomial_regression.fit(X, y)\n",
        "  # make new predictions\n",
        "  y_newbig = polynomial_regression.predict(X_new)\n",
        "  # add to plot\n",
        "  plt.plot(X_new, y_newbig, style, label=str(degree), linewidth=width)\n",
        "\n",
        "# visualize\n",
        "plt.plot(X, y, \"b.\")\n",
        "plt.legend(loc=\"upper center\", fontsize=18)\n",
        "plt.axis([-3, 3, 0, 8])\n",
        "plt.xlabel(\"$x_1$\", fontsize=18)\n",
        "plt.ylabel(\"$y$\", rotation=0, fontsize=18)\n",
        "plt.show()"
      ],
      "execution_count": null,
      "outputs": [
        {
          "output_type": "display_data",
          "data": {
            "image/png": "[encoded data removed]",
            "text/plain": [
              "<Figure size 432x288 with 1 Axes>"
            ]
          },
          "metadata": {
            "needs_background": "light"
          }
        }
      ]
    },
    {
      "cell_type": "markdown",
      "metadata": {
        "id": "Vvp0tGI9uwh3"
      },
      "source": [
        "Notice that in the above figure, the 300 degree model is overfitting."
      ]
    },
    {
      "cell_type": "markdown",
      "metadata": {
        "id": "flL0wUIVB2hv"
      },
      "source": [
        "**Learning Curve**\n",
        "To determine wheather or not a model is overfitting or underfitting you can take a look at model's performance with training and validation set.<br>One other way is to plot learning curves which is a plot of the model's performance on training and test set as a function of the training set size (or the training iteration). The implementation is:"
      ]
    },
    {
      "cell_type": "code",
      "metadata": {
        "id": "fhRZlUkhnCqc"
      },
      "source": [
        "from sklearn.metrics import mean_squared_error\n",
        "from sklearn.model_selection import train_test_split\n",
        "\n",
        "def plot_learning_curves(model, X, y):\n",
        "  \"\"\"plots the learning curve of the given model on the given data set\"\"\"\n",
        "  X_train, X_val, y_train, y_val = train_test_split(X, y, test_size=0.2)\n",
        "  train_errors, test_errors = [], []\n",
        "  for m in range(1, len(X_train)):\n",
        "    model.fit(X[:m], y[:m])\n",
        "    y_train_predict = model.predict(X_train[:m])\n",
        "    y_val_predict = model.predict(X_val[:m])\n",
        "    train_errors.append(mean_squared_error(y_train[:m], y_train_predict))\n",
        "    test_errors.append(mean_squared_error(y_val[:m], y_val_predict))\n",
        "  plt.plot(np.sqrt(train_errors), \"b-\", linewidth=2, label=\"train\")\n",
        "  plt.plot(np.sqrt(test_errors), \"r--\", linewidth=2, label=\"validation\")\n",
        "  plt.xlabel(\"Training set size\", fontsize=14)\n",
        "  plt.ylabel(\"RMSE\", fontsize=14)\n",
        "  plt.legend(loc=\"upper center\", fontsize=16)\n",
        "  plt.show()"
      ],
      "execution_count": null,
      "outputs": []
    },
    {
      "cell_type": "code",
      "metadata": {
        "colab": {
          "base_uri": "https://localhost:8080/",
          "height": 291
        },
        "id": "IbPAe5e5GLVT",
        "outputId": "3369255a-2086-4a15-d20e-afcfb1789363"
      },
      "source": [
        "lin_reg = LinearRegression()\n",
        "plt.axis([0, 90, 0, 4])   \n",
        "plot_learning_curves(lin_reg, X, y)"
      ],
      "execution_count": null,
      "outputs": [
        {
          "output_type": "display_data",
          "data": {
            "image/png": "[encoded data removed]",
            "text/plain": [
              "<Figure size 432x288 with 1 Axes>"
            ]
          },
          "metadata": {
            "needs_background": "light"
          }
        }
      ]
    },
    {
      "cell_type": "markdown",
      "metadata": {
        "id": "bgkYJDoNHZg8"
      },
      "source": [
        "Looking at the above figure we can easily deduce from the gap between the training and validation RMSE and the plateau that the model in underfitting. Therefore, we need a more complex model that the used linear regression. Let's look at a 10th degree polynomial model's performance on the same data:"
      ]
    },
    {
      "cell_type": "code",
      "metadata": {
        "id": "g1EtbLNYGb1h"
      },
      "source": [
        "from sklearn.pipeline import Pipeline\n",
        "\n",
        "polynomial_regression = Pipeline([\n",
        "    (\"poly_features\", PolynomialFeatures(degree=10, include_bias=False)),\n",
        "    (\"lin_reg\", LinearRegression())                                  \n",
        "])"
      ],
      "execution_count": null,
      "outputs": []
    },
    {
      "cell_type": "code",
      "metadata": {
        "colab": {
          "base_uri": "https://localhost:8080/",
          "height": 291
        },
        "id": "15QmDDDYJXSJ",
        "outputId": "6b91ffbb-7017-4445-8b68-2e508e7f8745"
      },
      "source": [
        "plt.axis([0, 80, 0.5, 4])  \n",
        "plot_learning_curves(polynomial_regression, X, y)"
      ],
      "execution_count": null,
      "outputs": [
        {
          "output_type": "display_data",
          "data": {
            "image/png": "[encoded data removed]",
            "text/plain": [
              "<Figure size 432x288 with 1 Axes>"
            ]
          },
          "metadata": {
            "needs_background": "light"
          }
        }
      ]
    },
    {
      "cell_type": "markdown",
      "metadata": {
        "id": "uPSgdz2HKGPN"
      },
      "source": [
        "Looking at the figure above, we realize two important points:<br>1- The error on the training data is much lower.<br>2- There is a gap between the performance of the model on the training and the test set, and actually model is donig a much better job on the training set wihch means *overfitting*."
      ]
    },
    {
      "cell_type": "markdown",
      "metadata": {
        "id": "CL727LcuKznl"
      },
      "source": [
        "\n",
        "Bias/Variance Trade-off: errors come from these three:\n",
        "*   Bias: Comes from assumptions(different from the bias in linear models). Higher the bias, model's more likely to underfit.\n",
        "*   Variance: Due to model's excessive sensitivity to details. Higer the variance, higher the chances of model overfitting.\n",
        "*   Irreducible error: Due to the noise of the data itself. One solution to deal with it is to clean the data.\n",
        "\n",
        "\n"
      ]
    },
    {
      "cell_type": "markdown",
      "metadata": {
        "id": "XD9LeJqc9FTP"
      },
      "source": [
        "## Regularized Linear Models:\n",
        "These models implement regularization and constrain the weights."
      ]
    },
    {
      "cell_type": "markdown",
      "metadata": {
        "id": "W4yhfMJQ9ZEK"
      },
      "source": [
        "***Ridge Regression:***<br>Adds a term to the cost function that includes theta and forces the model to keep the theta as small as possible. The term uses L2 norm."
      ]
    },
    {
      "cell_type": "code",
      "metadata": {
        "id": "rloMVUHW-a1k"
      },
      "source": [
        "m = 20\n",
        "X = 3 * np.random.rand(m, 1)\n",
        "y = 1 + 0.5 * X + np.random.randn(m, 1) / 1.5\n",
        "X_new = np.linspace(0, 3, 100).reshape(100, 1)"
      ],
      "execution_count": null,
      "outputs": []
    },
    {
      "cell_type": "code",
      "metadata": {
        "id": "Y3LAGl3pJhQ_",
        "colab": {
          "base_uri": "https://localhost:8080/"
        },
        "outputId": "2842964f-a10e-488b-b2ec-ba7e62fe7aac"
      },
      "source": [
        "from sklearn.linear_model import Ridge\n",
        "\n",
        "# Ridge regression implementation - closed-form \n",
        "ridge_reg = Ridge(alpha=1, solver=\"cholesky\")\n",
        "ridge_reg.fit(X, y)\n",
        "ridge_reg.predict([[1.5]])"
      ],
      "execution_count": null,
      "outputs": [
        {
          "output_type": "execute_result",
          "data": {
            "text/plain": [
              "array([[1.56411184]])"
            ]
          },
          "metadata": {},
          "execution_count": 33
        }
      ]
    },
    {
      "cell_type": "code",
      "metadata": {
        "colab": {
          "base_uri": "https://localhost:8080/"
        },
        "id": "o1zlHxs8-jk5",
        "outputId": "55bc8d3d-1e6d-40c7-cc53-2206a34c7391"
      },
      "source": [
        "# Ridge regression implementation - Gradient Descent #1\n",
        "sgd_reg = SGDRegressor(penalty=\"l2\")\n",
        "sgd_reg.fit(X, y.ravel())\n",
        "sgd_reg.predict([[1.5]])"
      ],
      "execution_count": null,
      "outputs": [
        {
          "output_type": "execute_result",
          "data": {
            "text/plain": [
              "array([1.45666211])"
            ]
          },
          "metadata": {},
          "execution_count": 34
        }
      ]
    },
    {
      "cell_type": "code",
      "metadata": {
        "id": "KxUV7DUVJnXo",
        "colab": {
          "base_uri": "https://localhost:8080/"
        },
        "outputId": "e5ac704d-f5bb-4d44-dedc-7a94434c6b52"
      },
      "source": [
        "# Ridge regression implementation - Gradient Descent #2\n",
        "ridge_reg = Ridge(alpha=1, solver=\"sag\")\n",
        "ridge_reg.fit(X, y)\n",
        "ridge_reg.predict([[1.5]])"
      ],
      "execution_count": null,
      "outputs": [
        {
          "output_type": "execute_result",
          "data": {
            "text/plain": [
              "array([[1.56410013]])"
            ]
          },
          "metadata": {},
          "execution_count": 35
        }
      ]
    },
    {
      "cell_type": "markdown",
      "metadata": {
        "id": "mWCAriQZ37qm"
      },
      "source": [
        "***Lasso Regression:***<br>\n",
        "just like Ridge regression adds a term to the cost function. but this time the added term includes L1 norm. Lasso eliminates theweights of the least important features (sets them to zero).<br>To avoid GD to bounce around the optimum point when using lasso make sure to gradually reduce the learning rate.<br>scikit-learn implementation:"
      ]
    },
    {
      "cell_type": "code",
      "metadata": {
        "id": "_0b_5RJe_Tu6",
        "colab": {
          "base_uri": "https://localhost:8080/"
        },
        "outputId": "924ae2fb-a099-42d4-dcb6-3b8fa013ba48"
      },
      "source": [
        "from sklearn.linear_model import Lasso\n",
        "\n",
        "lasso_reg = Lasso(alpha=0.1)\n",
        "lasso_reg.fit(X, y)\n",
        "lasso_reg.predict([[1.5]])"
      ],
      "execution_count": null,
      "outputs": [
        {
          "output_type": "execute_result",
          "data": {
            "text/plain": [
              "array([1.58211786])"
            ]
          },
          "metadata": {},
          "execution_count": 36
        }
      ]
    },
    {
      "cell_type": "markdown",
      "metadata": {
        "id": "nRPu4C-yDMut"
      },
      "source": [
        "***Elastic Net:***<br>\n",
        "A great middle ground between Ridge and Lasso. It's a mixture of both with a variable r to control it's behavior (r=0 is completely Ridge and r=1 is completely Lasso)."
      ]
    },
    {
      "cell_type": "code",
      "metadata": {
        "colab": {
          "base_uri": "https://localhost:8080/"
        },
        "id": "mnfZ86hDCtUJ",
        "outputId": "902cf9eb-11ab-4ef3-9efb-aa9965f41f34"
      },
      "source": [
        "from sklearn.linear_model import ElasticNet\n",
        "\n",
        "elastic_net = ElasticNet(alpha=0.1, l1_ratio=0.5)\n",
        "elastic_net.fit(X, y)\n",
        "elastic_net.predict([[1.5]])"
      ],
      "execution_count": null,
      "outputs": [
        {
          "output_type": "execute_result",
          "data": {
            "text/plain": [
              "array([1.57473993])"
            ]
          },
          "metadata": {},
          "execution_count": 37
        }
      ]
    },
    {
      "cell_type": "markdown",
      "metadata": {
        "id": "d-HjAH8sFTT2"
      },
      "source": [
        "Final Note:<br>You almost always need some extend of regularization.<br>Ridge is a good start but if you suspect that only few features are important opt to ElasticNet and experiment with that as Lasso itself can act radically in some situations."
      ]
    },
    {
      "cell_type": "markdown",
      "metadata": {
        "id": "8OGR07T4Z2Hf"
      },
      "source": [
        "#Early Stopping\n",
        "stop training the model when the validation error reaches a minimum.<br>Here's an implementation(there are more automated ways to do it):"
      ]
    },
    {
      "cell_type": "code",
      "metadata": {
        "id": "hb9I122RFOR4"
      },
      "source": [
        "m = 100\n",
        "X = 6 * np.random.rand(m, 1) - 3\n",
        "y = 2 + X + 0.5 * X**2 + np.random.randn(m, 1)\n",
        "\n",
        "X_train, X_val, y_train, y_val = train_test_split(X[:50], y[:50].ravel(), test_size=0.5, random_state=10)"
      ],
      "execution_count": null,
      "outputs": []
    },
    {
      "cell_type": "code",
      "metadata": {
        "id": "L6FQutVmaTFs"
      },
      "source": [
        "from sklearn.base import clone\n",
        "\n",
        "poly_scaler = Pipeline([\n",
        "        (\"poly_features\", PolynomialFeatures(degree=90, include_bias=False)),\n",
        "        (\"std_scaler\", StandardScaler())\n",
        "    ])\n",
        "\n",
        "X_train_poly_scaled = poly_scaler.fit_transform(X_train)\n",
        "X_val_poly_scaled = poly_scaler.transform(X_val)\n",
        "\n",
        "sgd_reg = SGDRegressor(max_iter=1, tol=-np.infty, warm_start=True,\n",
        "                       penalty=None, learning_rate=\"constant\", eta0=0.0005, random_state=42)\n",
        "\n",
        "minimum_val_error = float(\"inf\")\n",
        "best_epoch = None\n",
        "best_model = None\n",
        "for epoch in range(1000):\n",
        "    sgd_reg.fit(X_train_poly_scaled, y_train)  # continues where it left off\n",
        "    y_val_predict = sgd_reg.predict(X_val_poly_scaled)\n",
        "    val_error = mean_squared_error(y_val, y_val_predict)\n",
        "    if val_error < minimum_val_error:\n",
        "        minimum_val_error = val_error\n",
        "        best_epoch = epoch\n",
        "        best_model = clone(sgd_reg)"
      ],
      "execution_count": null,
      "outputs": []
    },
    {
      "cell_type": "code",
      "metadata": {
        "colab": {
          "base_uri": "https://localhost:8080/"
        },
        "id": "m5BBIJgvaa8r",
        "outputId": "b516d0b4-3628-43c3-c162-31546ee9b2c6"
      },
      "source": [
        "print(\"best epoch: \", best_epoch)\n",
        "print(\"best model: \", best_model)"
      ],
      "execution_count": null,
      "outputs": [
        {
          "output_type": "stream",
          "name": "stdout",
          "text": [
            "best epoch:  198\n",
            "best model:  SGDRegressor(eta0=0.0005, learning_rate='constant', max_iter=1, penalty=None,\n",
            "             random_state=42, tol=-inf, warm_start=True)\n"
          ]
        }
      ]
    },
    {
      "cell_type": "markdown",
      "metadata": {
        "id": "egRQQEObsa7b"
      },
      "source": [
        "#Logistic Regression : Decision Boundaries (Iris)"
      ]
    },
    {
      "cell_type": "code",
      "metadata": {
        "colab": {
          "base_uri": "https://localhost:8080/"
        },
        "id": "IHavgiCAanhb",
        "outputId": "fe8b6cc8-5521-411a-d249-2eaa20a55342"
      },
      "source": [
        "\n",
        "from sklearn import datasets\n",
        "\n",
        "iris = datasets.load_iris()\n",
        "list(iris.keys())"
      ],
      "execution_count": null,
      "outputs": [
        {
          "output_type": "execute_result",
          "data": {
            "text/plain": [
              "['data',\n",
              " 'target',\n",
              " 'frame',\n",
              " 'target_names',\n",
              " 'DESCR',\n",
              " 'feature_names',\n",
              " 'filename',\n",
              " 'data_module']"
            ]
          },
          "metadata": {},
          "execution_count": 41
        }
      ]
    },
    {
      "cell_type": "code",
      "metadata": {
        "colab": {
          "base_uri": "https://localhost:8080/"
        },
        "id": "bh1o_MZ8smEX",
        "outputId": "d3ebd308-aaeb-427b-d2a9-e4aac81703fb"
      },
      "source": [
        "print(iris.DESCR)"
      ],
      "execution_count": null,
      "outputs": [
        {
          "output_type": "stream",
          "name": "stdout",
          "text": [
            ".. _iris_dataset:\n",
            "\n",
            "Iris plants dataset\n",
            "--------------------\n",
            "\n",
            "**Data Set Characteristics:**\n",
            "\n",
            "    :Number of Instances: 150 (50 in each of three classes)\n",
            "    :Number of Attributes: 4 numeric, predictive attributes and the class\n",
            "    :Attribute Information:\n",
            "        - sepal length in cm\n",
            "        - sepal width in cm\n",
            "        - petal length in cm\n",
            "        - petal width in cm\n",
            "        - class:\n",
            "                - Iris-Setosa\n",
            "                - Iris-Versicolour\n",
            "                - Iris-Virginica\n",
            "                \n",
            "    :Summary Statistics:\n",
            "\n",
            "    ============== ==== ==== ======= ===== ====================\n",
            "                    Min  Max   Mean    SD   Class Correlation\n",
            "    ============== ==== ==== ======= ===== ====================\n",
            "    sepal length:   4.3  7.9   5.84   0.83    0.7826\n",
            "    sepal width:    2.0  4.4   3.05   0.43   -0.4194\n",
            "    petal length:   1.0  6.9   3.76   1.76    0.9490  (high!)\n",
            "    petal width:    0.1  2.5   1.20   0.76    0.9565  (high!)\n",
            "    ============== ==== ==== ======= ===== ====================\n",
            "\n",
            "    :Missing Attribute Values: None\n",
            "    :Class Distribution: 33.3% for each of 3 classes.\n",
            "    :Creator: R.A. Fisher\n",
            "    :Donor: Michael Marshall (MARSHALL%PLU@io.arc.nasa.gov)\n",
            "    :Date: July, 1988\n",
            "\n",
            "The famous Iris database, first used by Sir R.A. Fisher. The dataset is taken\n",
            "from Fisher's paper. Note that it's the same as in R, but not as in the UCI\n",
            "Machine Learning Repository, which has two wrong data points.\n",
            "\n",
            "This is perhaps the best known database to be found in the\n",
            "pattern recognition literature.  Fisher's paper is a classic in the field and\n",
            "is referenced frequently to this day.  (See Duda & Hart, for example.)  The\n",
            "data set contains 3 classes of 50 instances each, where each class refers to a\n",
            "type of iris plant.  One class is linearly separable from the other 2; the\n",
            "latter are NOT linearly separable from each other.\n",
            "\n",
            ".. topic:: References\n",
            "\n",
            "   - Fisher, R.A. \"The use of multiple measurements in taxonomic problems\"\n",
            "     Annual Eugenics, 7, Part II, 179-188 (1936); also in \"Contributions to\n",
            "     Mathematical Statistics\" (John Wiley, NY, 1950).\n",
            "   - Duda, R.O., & Hart, P.E. (1973) Pattern Classification and Scene Analysis.\n",
            "     (Q327.D83) John Wiley & Sons.  ISBN 0-471-22361-1.  See page 218.\n",
            "   - Dasarathy, B.V. (1980) \"Nosing Around the Neighborhood: A New System\n",
            "     Structure and Classification Rule for Recognition in Partially Exposed\n",
            "     Environments\".  IEEE Transactions on Pattern Analysis and Machine\n",
            "     Intelligence, Vol. PAMI-2, No. 1, 67-71.\n",
            "   - Gates, G.W. (1972) \"The Reduced Nearest Neighbor Rule\".  IEEE Transactions\n",
            "     on Information Theory, May 1972, 431-433.\n",
            "   - See also: 1988 MLC Proceedings, 54-64.  Cheeseman et al\"s AUTOCLASS II\n",
            "     conceptual clustering system finds 3 classes in the data.\n",
            "   - Many, many more ...\n"
          ]
        }
      ]
    },
    {
      "cell_type": "code",
      "metadata": {
        "colab": {
          "base_uri": "https://localhost:8080/"
        },
        "id": "b5BC6qkWtDvn",
        "outputId": "68cca35b-ccc6-4481-ca6a-a9505bac0133"
      },
      "source": [
        "# checking what data is like\n",
        "iris[\"data\"][:5]"
      ],
      "execution_count": null,
      "outputs": [
        {
          "output_type": "execute_result",
          "data": {
            "text/plain": [
              "array([[5.1, 3.5, 1.4, 0.2],\n",
              "       [4.9, 3. , 1.4, 0.2],\n",
              "       [4.7, 3.2, 1.3, 0.2],\n",
              "       [4.6, 3.1, 1.5, 0.2],\n",
              "       [5. , 3.6, 1.4, 0.2]])"
            ]
          },
          "metadata": {},
          "execution_count": 43
        }
      ]
    },
    {
      "cell_type": "code",
      "metadata": {
        "id": "1HvKzJAlt5bv"
      },
      "source": [
        "X = iris[\"data\"][:, 3:]  # 4th number (petal width)\n",
        "y = (iris[\"target\"] == 2).astype(np.int)  # third type (Iris-Virginica)"
      ],
      "execution_count": null,
      "outputs": []
    },
    {
      "cell_type": "code",
      "metadata": {
        "colab": {
          "base_uri": "https://localhost:8080/"
        },
        "id": "yuypNHvJwpZY",
        "outputId": "5656c28c-f644-417e-8464-7e1c3212bcd4"
      },
      "source": [
        "print(\"X shape: \", X.shape)\n",
        "print(\"y shape: \", y.shape)"
      ],
      "execution_count": null,
      "outputs": [
        {
          "output_type": "stream",
          "name": "stdout",
          "text": [
            "X shape:  (150, 1)\n",
            "y shape:  (150,)\n"
          ]
        }
      ]
    },
    {
      "cell_type": "code",
      "metadata": {
        "colab": {
          "base_uri": "https://localhost:8080/"
        },
        "id": "YWeztYoJwJcZ",
        "outputId": "7c4067d2-dd67-42ad-9870-5fb3a20a49da"
      },
      "source": [
        "print(\"X[122]: \", X[122])\n",
        "print(\"y[122]: \", y[122])"
      ],
      "execution_count": null,
      "outputs": [
        {
          "output_type": "stream",
          "name": "stdout",
          "text": [
            "X[122]:  [2.]\n",
            "y[122]:  1\n"
          ]
        }
      ]
    },
    {
      "cell_type": "code",
      "metadata": {
        "colab": {
          "base_uri": "https://localhost:8080/"
        },
        "id": "Yqj1Ak0OwRVv",
        "outputId": "5bff1e5f-fd54-4ed3-e9ce-aaec36f60b91"
      },
      "source": [
        "from sklearn.linear_model import LogisticRegression\n",
        "\n",
        "log_reg = LogisticRegression()\n",
        "log_reg.fit(X, y)"
      ],
      "execution_count": null,
      "outputs": [
        {
          "output_type": "execute_result",
          "data": {
            "text/plain": [
              "LogisticRegression()"
            ]
          },
          "metadata": {},
          "execution_count": 55
        }
      ]
    },
    {
      "cell_type": "markdown",
      "metadata": {
        "id": "JcAOIEDHx53g"
      },
      "source": [
        "making up data to predict on:"
      ]
    },
    {
      "cell_type": "code",
      "metadata": {
        "colab": {
          "base_uri": "https://localhost:8080/"
        },
        "id": "XTNWKQ2Hxlov",
        "outputId": "e256fd9a-4f28-4437-a477-46a177b9ed36"
      },
      "source": [
        "X_madeup = np.linspace(0, 3, 1000).reshape(-1, 1)\n",
        "y_proba = log_reg.predict_proba(X_madeup)\n",
        "\n",
        "print(y_proba)\n",
        "print(\"\\nshape: \", y_proba.shape)"
      ],
      "execution_count": null,
      "outputs": [
        {
          "output_type": "stream",
          "name": "stdout",
          "text": [
            "[[9.99250016e-01 7.49984089e-04]\n",
            " [9.99240201e-01 7.59799387e-04]\n",
            " [9.99230257e-01 7.69743043e-04]\n",
            " ...\n",
            " [3.08374822e-03 9.96916252e-01]\n",
            " [3.04400296e-03 9.96955997e-01]\n",
            " [3.00476842e-03 9.96995232e-01]]\n",
            "\n",
            "shape:  (1000, 2)\n"
          ]
        }
      ]
    },
    {
      "cell_type": "code",
      "metadata": {
        "colab": {
          "base_uri": "https://localhost:8080/",
          "height": 286
        },
        "id": "FB4aRXs7yF-x",
        "outputId": "258a194e-9dc0-4d9b-a8d4-9e3dc9fefadd"
      },
      "source": [
        "plt.plot(X_madeup, y_proba[:, 1], \"g-\", linewidth=2, label=\"Iris virginica\")\n",
        "plt.plot(X_madeup, y_proba[:, 0], \"b--\", linewidth=2, label=\"Not Iris virginica\")"
      ],
      "execution_count": null,
      "outputs": [
        {
          "output_type": "execute_result",
          "data": {
            "text/plain": [
              "[<matplotlib.lines.Line2D at 0x7efd7aff0c50>]"
            ]
          },
          "metadata": {},
          "execution_count": 56
        },
        {
          "output_type": "display_data",
          "data": {
            "image/png": "[encoded data removed]",
            "text/plain": [
              "<Figure size 432x288 with 1 Axes>"
            ]
          },
          "metadata": {
            "needs_background": "light"
          }
        }
      ]
    },
    {
      "cell_type": "markdown",
      "metadata": {
        "id": "W7QJJaLJ58Md"
      },
      "source": [
        "decision boundary is about 1.6"
      ]
    },
    {
      "cell_type": "code",
      "metadata": {
        "colab": {
          "base_uri": "https://localhost:8080/"
        },
        "id": "n1JZCE1G0F0Q",
        "outputId": "088d7590-5b75-4169-cca2-b0548b5a3153"
      },
      "source": [
        "log_reg.predict([[1.5], [1.7]])"
      ],
      "execution_count": null,
      "outputs": [
        {
          "output_type": "execute_result",
          "data": {
            "text/plain": [
              "array([0, 1])"
            ]
          },
          "metadata": {},
          "execution_count": 57
        }
      ]
    },
    {
      "cell_type": "markdown",
      "metadata": {
        "id": "XdTxCZs06IC_"
      },
      "source": [
        "# Softmax Regression"
      ]
    },
    {
      "cell_type": "code",
      "metadata": {
        "id": "V6vvxaBA7HN6",
        "colab": {
          "base_uri": "https://localhost:8080/"
        },
        "outputId": "f9563f2f-608f-44db-c2f8-93decf1e25e9"
      },
      "source": [
        "X = iris[\"data\"][:, (2, 3)] # petal length and width\n",
        "y = iris[\"target\"]\n",
        "\n",
        "softmax_reg = LogisticRegression(multi_class=\"multinomial\", solver=\"lbfgs\", C=10)\n",
        "softmax_reg.fit(X, y)"
      ],
      "execution_count": null,
      "outputs": [
        {
          "output_type": "execute_result",
          "data": {
            "text/plain": [
              "LogisticRegression(C=10, multi_class='multinomial')"
            ]
          },
          "metadata": {},
          "execution_count": 58
        }
      ]
    },
    {
      "cell_type": "code",
      "metadata": {
        "colab": {
          "base_uri": "https://localhost:8080/"
        },
        "id": "wEhyrZAVzE9_",
        "outputId": "24e04cf8-6a49-48a6-e203-b60de90cdfc6"
      },
      "source": [
        "softmax_reg.predict([[5, 2]])"
      ],
      "execution_count": null,
      "outputs": [
        {
          "output_type": "execute_result",
          "data": {
            "text/plain": [
              "array([2])"
            ]
          },
          "metadata": {},
          "execution_count": 60
        }
      ]
    },
    {
      "cell_type": "code",
      "metadata": {
        "id": "6wnr_rI9zIrd",
        "colab": {
          "base_uri": "https://localhost:8080/"
        },
        "outputId": "55ebd894-de99-4a87-90ac-75c27411dc2d"
      },
      "source": [
        "softmax_reg.predict_proba([[5, 2]])"
      ],
      "execution_count": null,
      "outputs": [
        {
          "output_type": "execute_result",
          "data": {
            "text/plain": [
              "array([[6.38014896e-07, 5.74929995e-02, 9.42506362e-01]])"
            ]
          },
          "metadata": {},
          "execution_count": 61
        }
      ]
    },
    {
      "cell_type": "code",
      "metadata": {
        "id": "ef8rx3bTzNr1"
      },
      "source": [
        ""
      ],
      "execution_count": null,
      "outputs": []
    }
  ]
}